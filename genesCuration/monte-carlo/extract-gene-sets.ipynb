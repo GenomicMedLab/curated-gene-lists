{
 "cells": [
  {
   "cell_type": "markdown",
   "metadata": {},
   "source": [
    "# Extract Gene Sets\n",
    "This section will contain functionality to extract gene sets from symbolic linked disease sets. The goal of this is that once gene sets are extracted, monte-carlo's can be performed on a locally run DGIdb to generate histogram's of returned drugs. This will identified gene sets (hopefully) as stastically significant and relevant to diseases."
   ]
  },
  {
   "cell_type": "code",
   "execution_count": 114,
   "metadata": {},
   "outputs": [],
   "source": [
    "import pandas as pd\n",
    "import re\n",
    "import requests\n",
    "import json\n",
    "import random\n",
    "import plotly.express as px"
   ]
  },
  {
   "cell_type": "code",
   "execution_count": 117,
   "metadata": {},
   "outputs": [],
   "source": [
    "# Define disease sets\n",
    "disease_sets = ['brainCancer','cardiacDisorders','cnsCancer','hereditaryCancer','metabolicDiseases','renalDiseases','skinDiseases','t-All','wilmsTumor','MDS','epilepsy','pediatricCancer','pediatricDisease']\n"
   ]
  },
  {
   "cell_type": "code",
   "execution_count": 118,
   "metadata": {},
   "outputs": [],
   "source": [
    "# Open yaml files to get excel names  (missing epilepsy & mds & pediatricCancer & pediatricDisease)\n",
    "\n",
    "excel_file_list = list()\n",
    "for i in disease_sets:\n",
    "    with open('../symlinks/panels/'+ i + '.yaml') as f:\n",
    "        individual_gene_panels = f.read().splitlines()\n",
    "    excel_file_list.append(individual_gene_panels)\n",
    "\n"
   ]
  },
  {
   "cell_type": "code",
   "execution_count": 119,
   "metadata": {},
   "outputs": [],
   "source": [
    "# Functions to get genes\n",
    "def get_genes(df):\n",
    "    \n",
    "    gene_list = list()\n",
    "    try:\n",
    "        for i in df.geneSymbol:\n",
    "            gene_list.append(i)\n",
    "    except:\n",
    "        for i in df.Gene:\n",
    "            gene_list.append(i)\n",
    "\n",
    "    return(gene_list)"
   ]
  },
  {
   "cell_type": "code",
   "execution_count": 120,
   "metadata": {},
   "outputs": [
    {
     "name": "stdout",
     "output_type": "stream",
     "text": [
      "Opened file: Ambry Genetics BrainTumorNext ®.xlsx for disease brainCancer\n",
      "Opened file: Baylor Miraca Genetics Laboratories Hereditary Brain CNS PNS Cancer Panel.xlsx for disease brainCancer\n",
      "../../diseases/brainCancer/Children's Hospital of Philadelphia - Division of Genomic Diagnostics Hereditary Brain Tumor Panel.xlsx\n",
      "Opened file: EGL Genetics Brain, CNS, and PNS Cancer Panel: Sequencing and CNV Analysis.xlsx for disease brainCancer\n",
      "Opened file: EGL Genetics Brain, CNS, and PNS Cancer: Deletion Duplication Panel.xlsx for disease brainCancer\n",
      "Opened file: Fulgent Genetics Nervous System   Brain Cancer Comprehensive Panel  Sequencing Only).xlsx for disease brainCancer\n",
      "Opened file: BioReference Laboratories OnkoSight Glioma Panel.xlsx for disease brainCancer\n",
      "Opened file: GeneDx Brain Tumor Panel.xlsx for disease brainCancer\n",
      "Opened file: Integrated Genetics VistaSeq Brain   CNS   PNS Cancer Panel.xlsx for disease brainCancer\n",
      "Opened file: Invitae Invitae Nervous System Brain Cancer Panel - Primary + Hereditary Paraganglioma-Pheochromocytoma Genes.xlsx for disease brainCancer\n",
      "Opened file: Invitae Invitae Nervous System Brain Cancer Panel - Primary + Preliminary-Evidence Genes.xlsx for disease brainCancer\n",
      "Opened file: Invitae Invitae Nervous System Brain Cancer Panel - Primary Genes Only.xlsx for disease brainCancer\n",
      "Opened file: Invitae Invitae Pediatric Nervous System Brain Tumors Panel - Primary + Hereditary Paraganglioma-Pheochromocytoma Genes.xlsx for disease brainCancer\n",
      "Opened file: Invitae Invitae Pediatric Nervous System Brain Tumors Panel - Primary Genes Only.xlsx for disease brainCancer\n",
      "Opened file: LabCorp VistaSeq® Brain   CNS   PNS Cancer Panel.xlsx for disease brainCancer\n",
      "Opened file: Phosphorous, Inc. Brain and Nervous System Cancer Panel.xlsx for disease brainCancer\n",
      "Opened file: PreventionGenetics PGXome Custom - Brain Cancer.xlsx for disease brainCancer\n",
      "Opened file: PreventionGenetics PGXome Custom - Nervous System Brain tumor.xlsx for disease brainCancer\n",
      "Opened file: Sema4 BrainTumorNext.xlsx for disease brainCancer\n",
      "../../diseases/brainCancer/PANEL APP UK\n",
      "Opened file: Brain cancer pertinent cancer susceptibility.xlsx for disease brainCancer\n",
      "Opened file: Brain channelopathy.xlsx for disease brainCancer\n",
      "../../diseases/brainCancer/PANEL APP AU\n",
      "Opened file: Brain Channelopathies.xlsx for disease brainCancer\n",
      "../../diseases/cardiacDisorders/PANEL APP UK\n",
      "Opened file: Progressive cardiac conduction disease.xlsx for disease cardiacDisorders\n",
      "Opened file: Sudden cardiac death.xlsx for disease cardiacDisorders\n",
      "Opened file: Hypertrophic cardiomyopathy - teen and adult.xlsx for disease cardiacDisorders\n",
      "Opened file: Arrhythmogenic cardiomyopathy.xlsx for disease cardiacDisorders\n",
      "Opened file: Dilated cardiomyopathy - adult and teen.xlsx for disease cardiacDisorders\n",
      "../../diseases/cardiacDisorders/PANEL APP AU\n",
      "Opened file: Catecholaminergic Polymorphic Ventricular Tachycardia.xlsx for disease cardiacDisorders\n",
      "Opened file: Hypertrophic cardiomyopathy_HCM.xlsx for disease cardiacDisorders\n",
      "Opened file: Baylor Miraca Genetics Laboratories Hereditary Brain CNS PNS Cancer Panel.xlsx for disease cnsCancer\n",
      "Opened file: EGL Genetics Brain, CNS, and PNS Cancer Panel: Sequencing and CNV Analysis.xlsx for disease cnsCancer\n",
      "Opened file: EGL Genetics Brain, CNS, and PNS Cancer: Deletion Duplication Panel.xlsx for disease cnsCancer\n",
      "Opened file: Fairview Diagnostic Laboratories CNS Hereditary Cancer.xlsx for disease cnsCancer\n",
      "Opened file: Integrated Genetics VistaSeq Brain   CNS   PNS Cancer Panel.xlsx for disease cnsCancer\n",
      "Opened file: LabCorp VistaSeq® Brain   CNS   PNS Cancer Panel.xlsx for disease cnsCancer\n",
      "../../diseases/cnsCancer/PANEL APP UK\n",
      "../../diseases/cnsCancer/PANEL APP AU\n",
      "Opened file: ARUP Laboratories Hereditary Cancer Panel.xlsx for disease hereditaryCancer\n",
      "Opened file: Baylor Miraca Genetics Laboratories Common Hereditary Cancer Panel.xlsx for disease hereditaryCancer\n",
      "Opened file: Baylor Miraca Genetics Laboratories Comprehensive Hereditary Cancer Panel.xlsx for disease hereditaryCancer\n",
      "Opened file: Baylor Miraca Genetics Laboratories Hereditary Brain CNS PNS Cancer Panel.xlsx for disease hereditaryCancer\n",
      "Opened file: Baylor Miraca Genetics Laboratories Hereditary Leukemia Lymphoma Panel.xlsx for disease hereditaryCancer\n",
      "Opened file: Blueprint Genetics Comprehensive Hereditary Cancer Panel.xlsx for disease hereditaryCancer\n",
      "Opened file: Blueprint Genetics Hereditary Cancer High Risk Panel.xlsx for disease hereditaryCancer\n",
      "Opened file: Blueprint Genetics Hereditary Leukemia Panel.xlsx for disease hereditaryCancer\n",
      "Opened file: Blueprint Genetics Hereditary Pediatric Cancer Panel.xlsx for disease hereditaryCancer\n",
      "../../diseases/hereditaryCancer/Children's Hospital Colorado Precision Diagnostics Laboratory Comprehensive Hereditary Cancer Panel.xlsx\n",
      "../../diseases/hereditaryCancer/Children's Hospital of Philadelphia - Division of Genomic Diagnostics Hereditary Brain Tumor Panel.xlsx\n",
      "../../diseases/hereditaryCancer/Children's Hospital of Philadelphia - Division of Genomic Diagnostics Hereditary Leukemia Lymphoma Panel.xlsx\n",
      "../../diseases/hereditaryCancer/Children's Hospital of Philadelphia - Division of Genomic Diagnostics Hereditary MDS Leukemia Predisposition Panel.xlsx\n",
      "Opened file: Color Genomics Color - Hereditary Cancer Risk Analysis.xlsx for disease hereditaryCancer\n",
      "Opened file: EGL Genetics Hereditary Cancer Syndrome Panel: Sequencing and CNV Analysis.xlsx for disease hereditaryCancer\n",
      "Opened file: EGL Genetics Hereditary Cancer Syndrome: Deletion Duplication Panel.xlsx for disease hereditaryCancer\n",
      "Opened file: GeneDx Hereditary MDS Leukemia Panel.xlsx for disease hereditaryCancer\n",
      "Opened file: GeneDx Xpanded HereditaryCancer - Singleton.xlsx for disease hereditaryCancer\n",
      "Opened file: Integrated Genetics VistaSeq Hereditary Cancer Panel.xlsx for disease hereditaryCancer\n",
      "Opened file: Invitae Invitae Common Hereditary Cancers Panel.xlsx for disease hereditaryCancer\n",
      "Opened file: LLC Comprehensive Hereditary Breast and Gynecologic Cancer Panel.xlsx for disease hereditaryCancer\n",
      "Opened file: Invitae Invitae Nervous System Brain Cancer Panel - Primary + Hereditary Paraganglioma-Pheochromocytoma Genes.xlsx for disease hereditaryCancer\n",
      "Opened file: Invitae Invitae Pediatric Nervous System Brain Tumors Panel - Primary + Hereditary Paraganglioma-Pheochromocytoma Genes.xlsx for disease hereditaryCancer\n",
      "Opened file: LabCorp VistaSeq® Hereditary Cancer Panel.xlsx for disease hereditaryCancer\n",
      "Opened file: Natera Empower - Multi-cancer Hereditary Cancer Test.xlsx for disease hereditaryCancer\n",
      "Opened file: Natera Empower - Multi-cancer expanded Hereditary Cancer Test.xlsx for disease hereditaryCancer\n",
      "Opened file: PreventionGenetics Hereditary Breast and Ovarian Cancer - Expanded and Lynch Syndrome Panel.xlsx for disease hereditaryCancer\n",
      "Opened file: PreventionGenetics Hereditary Myelodysplastic Syndrome  MDS)   Acute Myeloid Leukemia  AML) Panel.xlsx for disease hereditaryCancer\n",
      "Opened file: PreventionGenetics PGXome Custom - Hereditary Leukemia.xlsx for disease hereditaryCancer\n",
      "Opened file: Quest Diagnostics Comprehensive Hereditary Cancer Panel.xlsx for disease hereditaryCancer\n",
      "Opened file: Quest Diagnostics Guideline Based Hereditary Cancer Panel.xlsx for disease hereditaryCancer\n",
      "Opened file: Quest Diagnostics MYvantage Hereditary Comprehensive Cancer Panel.xlsx for disease hereditaryCancer\n",
      "Opened file: The University of Chicago Genetic Services Hereditary Leukemia and Breast Cancer Panel.xlsx for disease hereditaryCancer\n",
      "Opened file: The University of Chicago Genetic Services Hereditary Lymphoid Malignancy Immunodeficiency Predisposition Panel.xlsx for disease hereditaryCancer\n",
      "Opened file: UCSF Molecular Diagnostics Laboratory HC COMMON HEREDITARY CANCER PANEL.xlsx for disease hereditaryCancer\n",
      "../../diseases/hereditaryCancer/PANEL APP UK\n",
      "../../diseases/hereditaryCancer/PANEL APP AU\n",
      "../../diseases/metabolicDiseases/PANEL APP UK\n",
      "Opened file: Undiagnosed metabolic disorders.xlsx for disease metabolicDiseases\n",
      "Opened file: Rhabdomyolysis and metabolic muscle disorders.xlsx for disease metabolicDiseases\n",
      "../../diseases/metabolicDiseases/PANEL APP AU\n",
      "Opened file: Miscellaneous Metabolic Disorders.xlsx for disease metabolicDiseases\n",
      "Opened file: Renal Hypertension and Disorders of Aldosterone Metabolism.xlsx for disease metabolicDiseases\n",
      "Opened file: Metabolic Disorders Superpanel.xlsx for disease metabolicDiseases\n",
      "Opened file: Renal Abnormalities of Magnesium Metabolism.xlsx for disease metabolicDiseases\n",
      "Opened file: Metabolic renal disease.xlsx for disease metabolicDiseases\n",
      "../../diseases/renalDiseases/PANEL APP UK\n",
      "Opened file: Proteinuric renal disease.xlsx for disease renalDiseases\n",
      "Opened file: Cystic renal disease.xlsx for disease renalDiseases\n",
      "Opened file: Inherited renal cancer.xlsx for disease renalDiseases\n",
      "Opened file: Unexplained paediatric onset end-stage renal disease.xlsx for disease renalDiseases\n",
      "Opened file: Renal ciliopathies.xlsx for disease renalDiseases\n",
      "Opened file: Renal superpanel - broad.xlsx for disease renalDiseases\n",
      "Opened file: Renal cancer pertinent cancer susceptibility.xlsx for disease renalDiseases\n",
      "Opened file: Renal tubulopathies.xlsx for disease renalDiseases\n",
      "Opened file: Renal superpanel - narrow.xlsx for disease renalDiseases\n",
      "../../diseases/renalDiseases/PANEL APP AU\n",
      "Opened file: Metabolic renal disease.xlsx for disease renalDiseases\n",
      "Opened file: Renal cancer.xlsx for disease renalDiseases\n",
      "Opened file: Renal Hypertension and Disorders of Aldosterone Metabolism.xlsx for disease renalDiseases\n",
      "Opened file: Renal Tubular Dysgenesis.xlsx for disease renalDiseases\n",
      "Opened file: Renal Amyloidosis.xlsx for disease renalDiseases\n",
      "Opened file: Renal Macrocystic Disease.xlsx for disease renalDiseases\n",
      "Opened file: Renal Glomerular Disease_SuperPanel.xlsx for disease renalDiseases\n",
      "Opened file: Renal abnormalities of calcium and phosphate metabolism.xlsx for disease renalDiseases\n",
      "Opened file: Renal Abnormalities of Magnesium Metabolism.xlsx for disease renalDiseases\n",
      "Opened file: Renal Ciliopathies and Nephronophthisis.xlsx for disease renalDiseases\n",
      "Opened file: Renal Tubulopathies.xlsx for disease renalDiseases\n",
      "Opened file: Renal Tubulointerstitial Disease.xlsx for disease renalDiseases\n",
      "../../diseases/skinDiseases/PANEL APP UK\n",
      "Opened file: Multiple monogenic benign skin tumours.xlsx for disease skinDiseases\n",
      "Opened file: Peeling skin syndrome.xlsx for disease skinDiseases\n",
      "Opened file: Pigmentary skin disorders.xlsx for disease skinDiseases\n",
      "Opened file: Rare genetic inflammatory skin disorders.xlsx for disease skinDiseases\n",
      "Opened file: Epidermolysis bullosa and congenital skin fragility.xlsx for disease skinDiseases\n",
      "Opened file: Mosaic skin disorders - deep sequencing.xlsx for disease skinDiseases\n",
      "Opened file: Vascular skin disorders.xlsx for disease skinDiseases\n",
      "../../diseases/skinDiseases/PANEL APP AU\n",
      "Opened file: Mosaic skin disorders.xlsx for disease skinDiseases\n",
      "Opened file: T-ALL Feb 2020.xlsx for disease t-All\n",
      "../../diseases/t-All/PANEL APP UK\n",
      "../../diseases/t-All/PANEL APP AU\n",
      "Opened file: Fairview Diagnostic Laboratories Wilms tumor.xlsx for disease wilmsTumor\n",
      "Opened file: Invitae Invitae Wilms Tumor Panel - Primary + Preliminary-Evidence Genes.xlsx for disease wilmsTumor\n",
      "Opened file: PreventionGenetics PGXome Custom - Wilms Tumor.xlsx for disease wilmsTumor\n",
      "Opened file: PreventionGenetics Wilms Tumor Panel.xlsx for disease wilmsTumor\n",
      "../../diseases/wilmsTumor/PANEL APP UK\n",
      "../../diseases/wilmsTumor/PANEL APP AU\n",
      "Opened file: Children's Hospital of Philadelphia - Division of Genomic Diagnostics Hereditary MDS Leukemia Predisposition Panel.xlsx for disease MDS\n",
      "Opened file: Invitae Invitae Myelodysplastic Syndrome Leukemia Panel - Primary + Preliminary-Evidence Genes.xlsx for disease MDS\n",
      "Opened file: PreventionGenetics Hereditary Myelodysplastic Syndrome  MDS)   Acute Myeloid Leukemia  AML) Panel.xlsx for disease MDS\n",
      "Opened file: Genetic Epilepsy.xlsx for disease epilepsy\n",
      "Opened file: Genetic epilepsy syndromes.xlsx for disease epilepsy\n",
      "Opened file: GeneDx Pediatric Tumor Panel.xlsx for disease pediatricCancer\n",
      "Opened file: Invitae Invitae Pediatric Hematologic Malignancies Panel.xlsx for disease pediatricCancer\n",
      "Opened file: Invitae Invitae Pediatric Nervous System Brain Tumors Panel - Primary + Hereditary Paraganglioma-Pheochromocytoma Genes.xlsx for disease pediatricCancer\n",
      "Opened file: Invitae Invitae Pediatric Nervous System Brain Tumors Panel - Primary Genes Only.xlsx for disease pediatricCancer\n",
      "Opened file: Invitae Invitae Pediatric Solid Tumors Panel.xlsx for disease pediatricCancer\n",
      "Opened file: PerkinElmer Genomics Pediatric Tumor Panel.xlsx for disease pediatricCancer\n",
      "Opened file: PreventionGenetics Pediatric Cancer Panel.xlsx for disease pediatricCancer\n",
      "Opened file: Ataxia - paediatric.xlsx for disease pediatricDisease\n",
      "Opened file: Cardiomyopathies - including childhood onset.xlsx for disease pediatricDisease\n",
      "Opened file: Cardiomyopathy_Paediatric.xlsx for disease pediatricDisease\n",
      "Opened file: GeneDx Pediatric Tumor Panel.xlsx for disease pediatricDisease\n",
      "Opened file: Growth failure in early childhood.xlsx for disease pediatricDisease\n",
      "Opened file: Hereditary ataxia and cerebellar anomalies - childhood onset.xlsx for disease pediatricDisease\n",
      "Opened file: Hereditary spastic paraplegia - childhood onset.xlsx for disease pediatricDisease\n",
      "Opened file: Invitae Invitae Pediatric Hematologic Malignancies Panel.xlsx for disease pediatricDisease\n",
      "Opened file: Invitae Invitae Pediatric Nervous System Brain Tumors Panel - Primary + Hereditary Paraganglioma-Pheochromocytoma Genes.xlsx for disease pediatricDisease\n",
      "Opened file: Invitae Invitae Pediatric Nervous System Brain Tumors Panel - Primary Genes Only.xlsx for disease pediatricDisease\n",
      "Opened file: Invitae Invitae Pediatric Solid Tumors Panel.xlsx for disease pediatricDisease\n",
      "Opened file: Leukodystrophy - paediatric.xlsx for disease pediatricDisease\n",
      "Opened file: Lipodystrophy - childhood onset.xlsx for disease pediatricDisease\n",
      "Opened file: Maturity-onset Diabetes of the Young.xlsx for disease pediatricDisease\n",
      "Opened file: Myopathy - paediatric onset.xlsx for disease pediatricDisease\n",
      "Opened file: Paediatric disorders - additional genes.xlsx for disease pediatricDisease\n",
      "Opened file: Paediatric disorders.xlsx for disease pediatricDisease\n",
      "Opened file: PerkinElmer Genomics Pediatric Tumor Panel.xlsx for disease pediatricDisease\n",
      "Opened file: Pharmacogenomics_Paediatric.xlsx for disease pediatricDisease\n",
      "Opened file: PreventionGenetics Pediatric Cancer Panel.xlsx for disease pediatricDisease\n",
      "Opened file: Severe Paediatric Disorders.xlsx for disease pediatricDisease\n",
      "Opened file: Unexplained paediatric onset end-stage renal disease.xlsx for disease pediatricDisease\n",
      "Opened file: White matter disorders - childhood onset.xlsx for disease pediatricDisease\n"
     ]
    }
   ],
   "source": [
    "# Open files and retrieve metrics\n",
    "\n",
    "list_counter = 0\n",
    "\n",
    "genes_df_list = list()\n",
    "disease_df_list = list()\n",
    "source_file_list = list()\n",
    "genes_length_list = list()\n",
    "\n",
    "\n",
    "while list_counter < len(excel_file_list):\n",
    "    for i in excel_file_list[list_counter]:\n",
    "        try:\n",
    "            try:\n",
    "                f = pd.read_excel('../../diseases/' + disease_sets[list_counter] + '/' + str(i),sheet_name='genes',index_col=0)\n",
    "                genes = get_genes(f)\n",
    "\n",
    "                genes_df_list.append(genes)\n",
    "                genes_length_list.append(str(len(genes)))\n",
    "                disease_df_list.append(disease_sets[list_counter])\n",
    "                source_file_list.append(i)\n",
    "\n",
    "            except:\n",
    "                f = pd.read_excel('../../diseases/' + disease_sets[list_counter] + '/' + str(i),sheet_name='data',index_col=0)\n",
    "                genes = get_genes(f)\n",
    "\n",
    "                genes_df_list.append(genes)\n",
    "                genes_length_list.append(str(len(genes)))\n",
    "                disease_df_list.append(disease_sets[list_counter])\n",
    "                source_file_list.append(i)\n",
    "\n",
    "            print('Opened file: ' + i + ' for disease ' + disease_sets[list_counter])\n",
    "        except:\n",
    "            print ('../../diseases/' + disease_sets[list_counter] + '/' + str(i))\n",
    "\n",
    "            genes_df_list.append('None')     \n",
    "            genes_length_list.append('Nan')\n",
    "            disease_df_list.append(disease_sets[list_counter])\n",
    "            source_file_list.append(i)\n",
    "\n",
    "    list_counter += 1"
   ]
  },
  {
   "cell_type": "code",
   "execution_count": 121,
   "metadata": {},
   "outputs": [
    {
     "data": {
      "text/html": [
       "<div>\n",
       "<style scoped>\n",
       "    .dataframe tbody tr th:only-of-type {\n",
       "        vertical-align: middle;\n",
       "    }\n",
       "\n",
       "    .dataframe tbody tr th {\n",
       "        vertical-align: top;\n",
       "    }\n",
       "\n",
       "    .dataframe thead th {\n",
       "        text-align: right;\n",
       "    }\n",
       "</style>\n",
       "<table border=\"1\" class=\"dataframe\">\n",
       "  <thead>\n",
       "    <tr style=\"text-align: right;\">\n",
       "      <th></th>\n",
       "      <th>disease</th>\n",
       "      <th>source</th>\n",
       "      <th>genes</th>\n",
       "      <th>number</th>\n",
       "    </tr>\n",
       "  </thead>\n",
       "  <tbody>\n",
       "    <tr>\n",
       "      <th>0</th>\n",
       "      <td>brainCancer</td>\n",
       "      <td>Ambry Genetics BrainTumorNext ®.xlsx</td>\n",
       "      <td>[AIP, ALK, APC, CDKN1B, CDKN2A, DICER1, EPCAM,...</td>\n",
       "      <td>29</td>\n",
       "    </tr>\n",
       "    <tr>\n",
       "      <th>1</th>\n",
       "      <td>brainCancer</td>\n",
       "      <td>Baylor Miraca Genetics Laboratories Hereditary...</td>\n",
       "      <td>[ALK, APC, ATM, MEN1, MLH1, MRE11, MSH2, MSH6,...</td>\n",
       "      <td>17</td>\n",
       "    </tr>\n",
       "    <tr>\n",
       "      <th>2</th>\n",
       "      <td>brainCancer</td>\n",
       "      <td>Children's Hospital of Philadelphia - Division...</td>\n",
       "      <td>None</td>\n",
       "      <td>Nan</td>\n",
       "    </tr>\n",
       "    <tr>\n",
       "      <th>3</th>\n",
       "      <td>brainCancer</td>\n",
       "      <td>EGL Genetics Brain, CNS, and PNS Cancer Panel:...</td>\n",
       "      <td>[ALK, APC, ATM, MEN1, MLH1, MSH2, MSH6, NBN, N...</td>\n",
       "      <td>15</td>\n",
       "    </tr>\n",
       "    <tr>\n",
       "      <th>4</th>\n",
       "      <td>brainCancer</td>\n",
       "      <td>EGL Genetics Brain, CNS, and PNS Cancer: Delet...</td>\n",
       "      <td>[ALK, APC, ATM, MEN1, MLH1, MSH2, MSH6, NBN, N...</td>\n",
       "      <td>15</td>\n",
       "    </tr>\n",
       "    <tr>\n",
       "      <th>...</th>\n",
       "      <td>...</td>\n",
       "      <td>...</td>\n",
       "      <td>...</td>\n",
       "      <td>...</td>\n",
       "    </tr>\n",
       "    <tr>\n",
       "      <th>159</th>\n",
       "      <td>pediatricDisease</td>\n",
       "      <td>Pharmacogenomics_Paediatric.xlsx</td>\n",
       "      <td>[CACNA1S, CYP2C19, CYP2C9, CYP2D6, CYP3A5, G6P...</td>\n",
       "      <td>17</td>\n",
       "    </tr>\n",
       "    <tr>\n",
       "      <th>160</th>\n",
       "      <td>pediatricDisease</td>\n",
       "      <td>PreventionGenetics Pediatric Cancer Panel.xlsx</td>\n",
       "      <td>[ALK, ANKRD26, APC, ATM, AXIN2, BAP1, BLM, BMP...</td>\n",
       "      <td>64</td>\n",
       "    </tr>\n",
       "    <tr>\n",
       "      <th>161</th>\n",
       "      <td>pediatricDisease</td>\n",
       "      <td>Severe Paediatric Disorders.xlsx</td>\n",
       "      <td>[AAAS, AARS, AARS2, AASS, ABAT, ABCA1, ABCA12,...</td>\n",
       "      <td>2691</td>\n",
       "    </tr>\n",
       "    <tr>\n",
       "      <th>162</th>\n",
       "      <td>pediatricDisease</td>\n",
       "      <td>Unexplained paediatric onset end-stage renal d...</td>\n",
       "      <td>[ACE, ACTG2, ACTN4, AGT, AGTR1, AGXT, AHI1, AL...</td>\n",
       "      <td>231</td>\n",
       "    </tr>\n",
       "    <tr>\n",
       "      <th>163</th>\n",
       "      <td>pediatricDisease</td>\n",
       "      <td>White matter disorders - childhood onset.xlsx</td>\n",
       "      <td>[AAAS, AARS, AARS2, AARS2, AARS2, AASS, AASS, ...</td>\n",
       "      <td>4150</td>\n",
       "    </tr>\n",
       "  </tbody>\n",
       "</table>\n",
       "<p>164 rows × 4 columns</p>\n",
       "</div>"
      ],
      "text/plain": [
       "              disease                                             source  \\\n",
       "0         brainCancer               Ambry Genetics BrainTumorNext ®.xlsx   \n",
       "1         brainCancer  Baylor Miraca Genetics Laboratories Hereditary...   \n",
       "2         brainCancer  Children's Hospital of Philadelphia - Division...   \n",
       "3         brainCancer  EGL Genetics Brain, CNS, and PNS Cancer Panel:...   \n",
       "4         brainCancer  EGL Genetics Brain, CNS, and PNS Cancer: Delet...   \n",
       "..                ...                                                ...   \n",
       "159  pediatricDisease                   Pharmacogenomics_Paediatric.xlsx   \n",
       "160  pediatricDisease     PreventionGenetics Pediatric Cancer Panel.xlsx   \n",
       "161  pediatricDisease                   Severe Paediatric Disorders.xlsx   \n",
       "162  pediatricDisease  Unexplained paediatric onset end-stage renal d...   \n",
       "163  pediatricDisease      White matter disorders - childhood onset.xlsx   \n",
       "\n",
       "                                                 genes number  \n",
       "0    [AIP, ALK, APC, CDKN1B, CDKN2A, DICER1, EPCAM,...     29  \n",
       "1    [ALK, APC, ATM, MEN1, MLH1, MRE11, MSH2, MSH6,...     17  \n",
       "2                                                 None    Nan  \n",
       "3    [ALK, APC, ATM, MEN1, MLH1, MSH2, MSH6, NBN, N...     15  \n",
       "4    [ALK, APC, ATM, MEN1, MLH1, MSH2, MSH6, NBN, N...     15  \n",
       "..                                                 ...    ...  \n",
       "159  [CACNA1S, CYP2C19, CYP2C9, CYP2D6, CYP3A5, G6P...     17  \n",
       "160  [ALK, ANKRD26, APC, ATM, AXIN2, BAP1, BLM, BMP...     64  \n",
       "161  [AAAS, AARS, AARS2, AASS, ABAT, ABCA1, ABCA12,...   2691  \n",
       "162  [ACE, ACTG2, ACTN4, AGT, AGTR1, AGXT, AHI1, AL...    231  \n",
       "163  [AAAS, AARS, AARS2, AARS2, AARS2, AASS, AASS, ...   4150  \n",
       "\n",
       "[164 rows x 4 columns]"
      ]
     },
     "execution_count": 121,
     "metadata": {},
     "output_type": "execute_result"
    }
   ],
   "source": [
    "genes_df = pd.DataFrame()\n",
    "genes_df = genes_df.assign(disease=disease_df_list,source=source_file_list,genes=genes_df_list,number=genes_length_list)\n",
    "genes_df"
   ]
  },
  {
   "cell_type": "markdown",
   "metadata": {},
   "source": [
    "# Define Monte Carlo functionality\n",
    "Gene sets have been extracted with appropriate meta data attached in one big dataframe. Build functionality to perform monte carlo simulations off local DGIdb instance using the length of gene list for sample size. Enable functionality for both source level and disease level? I think disease level is the focus"
   ]
  },
  {
   "cell_type": "code",
   "execution_count": 123,
   "metadata": {},
   "outputs": [],
   "source": [
    "# Get gene set as defined by diseases\n",
    "def get_gene_set(disease,df):\n",
    "\n",
    "    df = df[df['disease']==disease]\n",
    "\n",
    "    all_genes = list()\n",
    "\n",
    "    for i in df.genes:\n",
    "        if i == 'None':\n",
    "            pass\n",
    "        else:\n",
    "            for j in i:\n",
    "                all_genes.append(j)\n",
    "    full_gene_set = list(set(all_genes))\n",
    "    return(full_gene_set)\n",
    "\n",
    "# Get drug JSON from locally run DGIdb  \n",
    "def get_json(input_genes):\n",
    "\n",
    "    input_genes = ','.join(input_genes)\n",
    "\n",
    "    r = requests.get('http://localhost:3000/api/v2/interactions.json?genes=' + input_genes + '&fda_approved_drug=true')\n",
    "    data = r.json()\n",
    "\n",
    "    return(data)\n",
    "\n",
    "# Get number of drugs from JSON (more data points can be added here)\n",
    "def get_monte_carlo_data_points(data):\n",
    "\n",
    "    number_of_drugs = 0\n",
    "\n",
    "    for i in data['matchedTerms']:\n",
    "        data_point = len(i['interactions'])\n",
    "        number_of_drugs = number_of_drugs + data_point\n",
    "\n",
    "    return(number_of_drugs)\n"
   ]
  },
  {
   "cell_type": "code",
   "execution_count": 73,
   "metadata": {},
   "outputs": [
    {
     "data": {
      "text/plain": [
       "76"
      ]
     },
     "execution_count": 73,
     "metadata": {},
     "output_type": "execute_result"
    }
   ],
   "source": [
    "lol = get_gene_set('brainCancer',genes_df)\n",
    "len(lol)"
   ]
  },
  {
   "cell_type": "code",
   "execution_count": 65,
   "metadata": {},
   "outputs": [],
   "source": [
    "data = get_json(lol)"
   ]
  },
  {
   "cell_type": "code",
   "execution_count": 88,
   "metadata": {},
   "outputs": [
    {
     "data": {
      "text/plain": [
       "2316"
      ]
     },
     "execution_count": 88,
     "metadata": {},
     "output_type": "execute_result"
    }
   ],
   "source": [
    "result = get_monte_carlo_data_points(data)\n",
    "result"
   ]
  },
  {
   "cell_type": "code",
   "execution_count": 85,
   "metadata": {},
   "outputs": [
    {
     "data": {
      "text/plain": [
       "6"
      ]
     },
     "execution_count": 85,
     "metadata": {},
     "output_type": "execute_result"
    }
   ],
   "source": []
  },
  {
   "cell_type": "markdown",
   "metadata": {},
   "source": [
    "# Random sampling functionality\n",
    "Random sampling functionality for simulations. Use previously made random gene sets."
   ]
  },
  {
   "cell_type": "code",
   "execution_count": 124,
   "metadata": {},
   "outputs": [],
   "source": [
    "def get_random_sample(length):\n",
    "\n",
    "    with open('allGenes.yaml') as f:\n",
    "        all_genes = f.read().splitlines()    \n",
    "\n",
    "    sample = random.sample(all_genes, length)\n",
    "\n",
    "    return(sample)\n",
    "\n",
    "# For random sampling purposes, save json for later retrieval\n",
    "def save_json(data,file_name):\n",
    "\n",
    "    with open('json/' + file_name + '.json', 'w') as outfile:\n",
    "        json.dump(data, outfile)\n",
    "\n",
    "    pass"
   ]
  },
  {
   "cell_type": "code",
   "execution_count": 92,
   "metadata": {},
   "outputs": [
    {
     "data": {
      "text/plain": [
       "['KRTAP10-9',\n",
       " 'RCL1',\n",
       " 'PHAX',\n",
       " 'LINC01395',\n",
       " 'HDHD2',\n",
       " 'OTOA',\n",
       " 'SNAPIN',\n",
       " 'KIAA0101',\n",
       " 'CRK',\n",
       " 'ITGA4',\n",
       " 'CXCL5',\n",
       " 'CHRFAM7A',\n",
       " 'ANAPC7',\n",
       " 'ZNF266',\n",
       " 'MYO9A',\n",
       " 'UBE2R2',\n",
       " 'DCLK2',\n",
       " 'ROBO4',\n",
       " 'GSC',\n",
       " 'TSSK4',\n",
       " 'ZBTB10',\n",
       " 'IRAK3',\n",
       " 'GCOM1',\n",
       " 'LINC01138',\n",
       " 'SNORD116-2',\n",
       " 'PPP2R5A',\n",
       " 'SDIM1',\n",
       " 'EP400NL',\n",
       " 'SNORD115-43',\n",
       " 'JAG2',\n",
       " 'NALCN-AS1',\n",
       " 'GPATCH11',\n",
       " 'ARFIP2',\n",
       " 'OSBPL8',\n",
       " 'LINC01288',\n",
       " 'KIAA1715',\n",
       " 'CDKN3',\n",
       " 'PIRC84',\n",
       " 'AKR7A2',\n",
       " 'ARHGAP5',\n",
       " 'RAPGEF4-AS1',\n",
       " 'SCN2A',\n",
       " 'IRX5',\n",
       " 'NGFR',\n",
       " 'TRIM65',\n",
       " 'LACTB2',\n",
       " 'AGK',\n",
       " 'IDDM4',\n",
       " 'FEV',\n",
       " 'C7orf72',\n",
       " 'PROS1',\n",
       " 'ZMYND8',\n",
       " 'OMD',\n",
       " 'ATCAY',\n",
       " 'C3orf56',\n",
       " 'WNT7B',\n",
       " 'ECEL1',\n",
       " 'VASP',\n",
       " 'PLCH2',\n",
       " 'TLCD1',\n",
       " 'NUTM2A',\n",
       " 'U2AF1L4',\n",
       " 'AGAP4',\n",
       " 'LINC01488',\n",
       " 'OR52W1',\n",
       " 'TMEM201',\n",
       " 'TMED8',\n",
       " 'PAUPAR',\n",
       " 'IFNA14',\n",
       " 'DONSON',\n",
       " 'FBXO31',\n",
       " 'ATR',\n",
       " 'SQSTM1',\n",
       " 'PAX6',\n",
       " 'TRS-CGA3-1',\n",
       " 'RPS5']"
      ]
     },
     "execution_count": 92,
     "metadata": {},
     "output_type": "execute_result"
    }
   ],
   "source": [
    "random_genes = get_random_sample(len(lol))\n",
    "random_genes"
   ]
  },
  {
   "cell_type": "code",
   "execution_count": 96,
   "metadata": {},
   "outputs": [],
   "source": [
    "random_data = get_json(random_genes)\n"
   ]
  },
  {
   "cell_type": "code",
   "execution_count": 95,
   "metadata": {},
   "outputs": [
    {
     "data": {
      "text/plain": [
       "93"
      ]
     },
     "execution_count": 95,
     "metadata": {},
     "output_type": "execute_result"
    }
   ],
   "source": [
    "random_result = get_monte_carlo_data_points(random_data)\n",
    "random_result"
   ]
  },
  {
   "cell_type": "markdown",
   "metadata": {},
   "source": [
    "# Putting it all together\n",
    "Do an actual monte carlo simulation with 500 samples (499 + 1)"
   ]
  },
  {
   "cell_type": "code",
   "execution_count": 131,
   "metadata": {},
   "outputs": [],
   "source": [
    "\n",
    "def run_monte_carlo_simulation(genes_df,disease):\n",
    "\n",
    "    # Putting it all together \n",
    "    df = pd.DataFrame()\n",
    "    sample_source_list = list()\n",
    "    number_of_drugs_list = list()\n",
    "    genes_input_list = list()\n",
    "\n",
    "    # disease_sets has full list, but random samples length will change depending on gene set length\n",
    "\n",
    "    # Primary samples\n",
    "    primary_sample = get_gene_set(disease,genes_df)\n",
    "    data = get_json(primary_sample)\n",
    "    result = get_monte_carlo_data_points(data)\n",
    "\n",
    "    sample_source_list.append(disease)\n",
    "    number_of_drugs_list.append(str(result))\n",
    "    genes_input_list.append(primary_sample)\n",
    "\n",
    "    # Loop\n",
    "    loop_counter = 1\n",
    "\n",
    "    while loop_counter < 500:\n",
    "        random_sample = get_random_sample(len(primary_sample))\n",
    "        random_data = get_json(random_sample)\n",
    "        random_result = get_monte_carlo_data_points(random_data)\n",
    "\n",
    "        sample_source_list.append('random_sample')\n",
    "        number_of_drugs_list.append(int(random_result))\n",
    "        genes_input_list.append(random_sample)\n",
    "\n",
    "        loop_counter += 1\n",
    "        if loop_counter == 1 | 50 | 100 | 200 | 300 | 400 | 500:\n",
    "            print(str('On iteration ' + loop_counter + 'for disease state: ' + disease))\n",
    "\n",
    "    df = df.assign(sample_source=sample_source_list, number_of_drugs=number_of_drugs_list, genes_input=genes_input_list)\n",
    "\n",
    "    # Write DataFrames to excel files by query input\n",
    "    file_name = disease\n",
    "    writer = pd.ExcelWriter('simulation_results/' + file_name + '.xlsx')\n",
    "    df.to_excel(writer,sheet_name='results')\n",
    "    print('Saving simulation result for ' + disease)\n",
    "    writer.save()\n",
    "\n",
    "\n",
    "    return(df)"
   ]
  },
  {
   "cell_type": "code",
   "execution_count": 128,
   "metadata": {},
   "outputs": [
    {
     "name": "stdout",
     "output_type": "stream",
     "text": [
      "brainCancer\n",
      "cardiacDisorders\n",
      "cnsCancer\n",
      "hereditaryCancer\n",
      "metabolicDiseases\n",
      "renalDiseases\n",
      "skinDiseases\n",
      "t-All\n",
      "wilmsTumor\n",
      "MDS\n",
      "epilepsy\n",
      "pediatricCancer\n",
      "pediatricDisease\n"
     ]
    }
   ],
   "source": [
    "for i in disease_sets:\n",
    "    print(i)"
   ]
  },
  {
   "cell_type": "code",
   "execution_count": 132,
   "metadata": {},
   "outputs": [
    {
     "name": "stdout",
     "output_type": "stream",
     "text": [
      "Saving simulation result for brainCancer\n"
     ]
    }
   ],
   "source": [
    "for i in disease_sets:\n",
    "    run_monte_carlo_simulation(genes_df,i)"
   ]
  },
  {
   "cell_type": "markdown",
   "metadata": {},
   "source": [
    "# Plot resulting histogram\n",
    "Simulation is ran and data is saved. Plot the results!"
   ]
  },
  {
   "cell_type": "code",
   "execution_count": 106,
   "metadata": {},
   "outputs": [],
   "source": [
    "# quick transform to int on accident\n",
    "temp = monte_carlo_df\n",
    "index_counter = 0\n",
    "for i in monte_carlo_df['number_of_drugs']:\n",
    "    monte_carlo_df['number_of_drugs'][index_counter] = int(i)\n",
    "    "
   ]
  },
  {
   "cell_type": "code",
   "execution_count": 107,
   "metadata": {},
   "outputs": [
    {
     "data": {
      "application/vnd.plotly.v1+json": {
       "config": {
        "plotlyServerURL": "https://plot.ly"
       },
       "data": [
        {
         "alignmentgroup": "True",
         "bingroup": "x",
         "hovertemplate": "sample_source=brainCancer<br>number_of_drugs=%{x}<br>count=%{y}<extra></extra>",
         "legendgroup": "brainCancer",
         "marker": {
          "color": "#636efa",
          "pattern": {
           "shape": ""
          }
         },
         "name": "brainCancer",
         "offsetgroup": "brainCancer",
         "orientation": "v",
         "showlegend": true,
         "type": "histogram",
         "x": [
          579
         ],
         "xaxis": "x",
         "yaxis": "y"
        },
        {
         "alignmentgroup": "True",
         "hovertemplate": "sample_source=brainCancer<br>number_of_drugs=%{x}<extra></extra>",
         "legendgroup": "brainCancer",
         "marker": {
          "color": "#636efa"
         },
         "name": "brainCancer",
         "notched": true,
         "offsetgroup": "brainCancer",
         "showlegend": false,
         "type": "box",
         "x": [
          579
         ],
         "xaxis": "x2",
         "yaxis": "y2"
        },
        {
         "alignmentgroup": "True",
         "bingroup": "x",
         "hovertemplate": "sample_source=random_sample<br>number_of_drugs=%{x}<br>count=%{y}<extra></extra>",
         "legendgroup": "random_sample",
         "marker": {
          "color": "#EF553B",
          "pattern": {
           "shape": ""
          }
         },
         "name": "random_sample",
         "offsetgroup": "random_sample",
         "orientation": "v",
         "showlegend": true,
         "type": "histogram",
         "x": [
          "128",
          "603",
          "48",
          "36",
          "304",
          "93",
          "61",
          "22",
          "164",
          "112",
          "101",
          "55",
          "41",
          "8",
          "59",
          "42",
          "456",
          "47",
          "12",
          "49",
          "61",
          "47",
          "89",
          "55",
          "82",
          "67",
          "274",
          "36",
          "38",
          "76",
          "283",
          "324",
          "303",
          "61",
          "180",
          "133",
          "191",
          "34",
          "46",
          "146",
          "20",
          "532",
          "83",
          "620",
          "110",
          "76",
          "123",
          "55",
          "102",
          "33",
          "100",
          "9",
          "168",
          "216",
          "86",
          "156",
          "359",
          "278",
          "380",
          "51",
          "91",
          "48",
          "137",
          "29",
          "36",
          "124",
          "78",
          "12",
          "511",
          "103",
          "163",
          "86",
          "92",
          "16",
          "70",
          "143",
          "182",
          "73",
          "81",
          "116",
          "47",
          "30",
          "24",
          "99",
          "324",
          "149",
          "336",
          "53",
          "86",
          "109",
          "76",
          "68",
          "30",
          "35",
          "134",
          "175",
          "234",
          "19",
          "277",
          "309",
          "205",
          "192",
          "175",
          "135",
          "23",
          "20",
          "38",
          "37",
          "14",
          "621",
          "135",
          "83",
          "44",
          "247",
          "49",
          "169",
          "29",
          "153",
          "92",
          "505",
          "96",
          "52",
          "59",
          "193",
          "141",
          "162",
          "56",
          "49",
          "99",
          "122",
          "145",
          "193",
          "30",
          "77",
          "192",
          "64",
          "52",
          "45",
          "104",
          "180",
          "205",
          "124",
          "63",
          "168",
          "133",
          "20",
          "116",
          "207",
          "75",
          "82",
          "28",
          "463",
          "923",
          "131",
          "124",
          "12",
          "136",
          "233",
          "30",
          "16",
          "145",
          "96",
          "212",
          "60",
          "87",
          "60",
          "276",
          "231",
          "39",
          "93",
          "52",
          "168",
          "46",
          "223",
          "170",
          "111",
          "130",
          "387",
          "238",
          "284",
          "48",
          "48",
          "270",
          "119",
          "135",
          "255",
          "405",
          "90",
          "44",
          "571",
          "231",
          "83",
          "99",
          "248",
          "159",
          "109",
          "137",
          "190",
          "113",
          "228",
          "125",
          "154",
          "281",
          "87",
          "48",
          "90",
          "132",
          "37",
          "21",
          "119",
          "127",
          "201",
          "42",
          "111",
          "113",
          "36",
          "407",
          "106",
          "151",
          "331",
          "52",
          "120",
          "200",
          "64",
          "122",
          "125",
          "69",
          "493",
          "57",
          "161",
          "18",
          "16",
          "159",
          "144",
          "113",
          "190",
          "310",
          "107",
          "49",
          "29",
          "131",
          "343",
          "447",
          "351",
          "393",
          "64",
          "88",
          "26",
          "49",
          "116",
          "86",
          "74",
          "29",
          "68",
          "49",
          "106",
          "69",
          "93",
          "53",
          "87",
          "62",
          "496",
          "233",
          "32",
          "104",
          "83",
          "98",
          "159",
          "148",
          "82",
          "141",
          "331",
          "159",
          "94",
          "155",
          "54",
          "356",
          "138",
          "119",
          "58",
          "120",
          "132",
          "48",
          "95",
          "49",
          "25",
          "126",
          "66",
          "13",
          "182",
          "154",
          "135",
          "271",
          "216",
          "41",
          "12",
          "85",
          "44",
          "31",
          "100",
          "120",
          "319",
          "40",
          "88",
          "209",
          "191",
          "218",
          "145",
          "110",
          "249",
          "124",
          "407",
          "192",
          "46",
          "36",
          "91",
          "43",
          "83",
          "147",
          "95",
          "119",
          "90",
          "122",
          "101",
          "407",
          "160",
          "265",
          "23",
          "291",
          "43",
          "108",
          "64",
          "95",
          "90",
          "204",
          "86",
          "93",
          "106",
          "309",
          "45",
          "286",
          "74",
          "24",
          "61",
          "170",
          "124",
          "31",
          "188",
          "56",
          "71",
          "57",
          "303",
          "622",
          "127",
          "133",
          "83",
          "26",
          "388",
          "250",
          "424",
          "111",
          "169",
          "226",
          "196",
          "110",
          "295",
          "142",
          "144",
          "82",
          "104",
          "125",
          "365",
          "190",
          "227",
          "69",
          "41",
          "88",
          "80",
          "33",
          "129",
          "88",
          "106",
          "45",
          "100",
          "276",
          "79",
          "224",
          "125",
          "113",
          "103",
          "116",
          "12",
          "30",
          "108",
          "213",
          "115",
          "5",
          "55",
          "281",
          "213",
          "43",
          "403",
          "658",
          "406",
          "49",
          "150",
          "79",
          "440",
          "28",
          "27",
          "45",
          "68",
          "89",
          "44",
          "100",
          "94",
          "130",
          "12",
          "8",
          "275",
          "12",
          "300",
          "100",
          "198",
          "145",
          "171",
          "199",
          "555",
          "81",
          "26",
          "298",
          "48",
          "36",
          "139",
          "119",
          "48",
          "37",
          "155",
          "142",
          "82",
          "331",
          "249",
          "24",
          "33",
          "62",
          "104",
          "72",
          "105",
          "150",
          "61",
          "81",
          "538",
          "86",
          "95",
          "130",
          "110",
          "156",
          "299",
          "42",
          "66",
          "47",
          "69",
          "186",
          "62",
          "500",
          "51",
          "431",
          "151",
          "130",
          "416",
          "716",
          "130",
          "129",
          "88",
          "171",
          "47",
          "132",
          "108",
          "13",
          "134",
          "129",
          "671",
          "39",
          "211",
          "153",
          "117",
          "306",
          "61",
          "396",
          "148",
          "94",
          "68",
          "70",
          "129",
          "25",
          "483",
          "306",
          "224",
          "579"
         ],
         "xaxis": "x",
         "yaxis": "y"
        },
        {
         "alignmentgroup": "True",
         "hovertemplate": "sample_source=random_sample<br>number_of_drugs=%{x}<extra></extra>",
         "legendgroup": "random_sample",
         "marker": {
          "color": "#EF553B"
         },
         "name": "random_sample",
         "notched": true,
         "offsetgroup": "random_sample",
         "showlegend": false,
         "type": "box",
         "x": [
          "128",
          "603",
          "48",
          "36",
          "304",
          "93",
          "61",
          "22",
          "164",
          "112",
          "101",
          "55",
          "41",
          "8",
          "59",
          "42",
          "456",
          "47",
          "12",
          "49",
          "61",
          "47",
          "89",
          "55",
          "82",
          "67",
          "274",
          "36",
          "38",
          "76",
          "283",
          "324",
          "303",
          "61",
          "180",
          "133",
          "191",
          "34",
          "46",
          "146",
          "20",
          "532",
          "83",
          "620",
          "110",
          "76",
          "123",
          "55",
          "102",
          "33",
          "100",
          "9",
          "168",
          "216",
          "86",
          "156",
          "359",
          "278",
          "380",
          "51",
          "91",
          "48",
          "137",
          "29",
          "36",
          "124",
          "78",
          "12",
          "511",
          "103",
          "163",
          "86",
          "92",
          "16",
          "70",
          "143",
          "182",
          "73",
          "81",
          "116",
          "47",
          "30",
          "24",
          "99",
          "324",
          "149",
          "336",
          "53",
          "86",
          "109",
          "76",
          "68",
          "30",
          "35",
          "134",
          "175",
          "234",
          "19",
          "277",
          "309",
          "205",
          "192",
          "175",
          "135",
          "23",
          "20",
          "38",
          "37",
          "14",
          "621",
          "135",
          "83",
          "44",
          "247",
          "49",
          "169",
          "29",
          "153",
          "92",
          "505",
          "96",
          "52",
          "59",
          "193",
          "141",
          "162",
          "56",
          "49",
          "99",
          "122",
          "145",
          "193",
          "30",
          "77",
          "192",
          "64",
          "52",
          "45",
          "104",
          "180",
          "205",
          "124",
          "63",
          "168",
          "133",
          "20",
          "116",
          "207",
          "75",
          "82",
          "28",
          "463",
          "923",
          "131",
          "124",
          "12",
          "136",
          "233",
          "30",
          "16",
          "145",
          "96",
          "212",
          "60",
          "87",
          "60",
          "276",
          "231",
          "39",
          "93",
          "52",
          "168",
          "46",
          "223",
          "170",
          "111",
          "130",
          "387",
          "238",
          "284",
          "48",
          "48",
          "270",
          "119",
          "135",
          "255",
          "405",
          "90",
          "44",
          "571",
          "231",
          "83",
          "99",
          "248",
          "159",
          "109",
          "137",
          "190",
          "113",
          "228",
          "125",
          "154",
          "281",
          "87",
          "48",
          "90",
          "132",
          "37",
          "21",
          "119",
          "127",
          "201",
          "42",
          "111",
          "113",
          "36",
          "407",
          "106",
          "151",
          "331",
          "52",
          "120",
          "200",
          "64",
          "122",
          "125",
          "69",
          "493",
          "57",
          "161",
          "18",
          "16",
          "159",
          "144",
          "113",
          "190",
          "310",
          "107",
          "49",
          "29",
          "131",
          "343",
          "447",
          "351",
          "393",
          "64",
          "88",
          "26",
          "49",
          "116",
          "86",
          "74",
          "29",
          "68",
          "49",
          "106",
          "69",
          "93",
          "53",
          "87",
          "62",
          "496",
          "233",
          "32",
          "104",
          "83",
          "98",
          "159",
          "148",
          "82",
          "141",
          "331",
          "159",
          "94",
          "155",
          "54",
          "356",
          "138",
          "119",
          "58",
          "120",
          "132",
          "48",
          "95",
          "49",
          "25",
          "126",
          "66",
          "13",
          "182",
          "154",
          "135",
          "271",
          "216",
          "41",
          "12",
          "85",
          "44",
          "31",
          "100",
          "120",
          "319",
          "40",
          "88",
          "209",
          "191",
          "218",
          "145",
          "110",
          "249",
          "124",
          "407",
          "192",
          "46",
          "36",
          "91",
          "43",
          "83",
          "147",
          "95",
          "119",
          "90",
          "122",
          "101",
          "407",
          "160",
          "265",
          "23",
          "291",
          "43",
          "108",
          "64",
          "95",
          "90",
          "204",
          "86",
          "93",
          "106",
          "309",
          "45",
          "286",
          "74",
          "24",
          "61",
          "170",
          "124",
          "31",
          "188",
          "56",
          "71",
          "57",
          "303",
          "622",
          "127",
          "133",
          "83",
          "26",
          "388",
          "250",
          "424",
          "111",
          "169",
          "226",
          "196",
          "110",
          "295",
          "142",
          "144",
          "82",
          "104",
          "125",
          "365",
          "190",
          "227",
          "69",
          "41",
          "88",
          "80",
          "33",
          "129",
          "88",
          "106",
          "45",
          "100",
          "276",
          "79",
          "224",
          "125",
          "113",
          "103",
          "116",
          "12",
          "30",
          "108",
          "213",
          "115",
          "5",
          "55",
          "281",
          "213",
          "43",
          "403",
          "658",
          "406",
          "49",
          "150",
          "79",
          "440",
          "28",
          "27",
          "45",
          "68",
          "89",
          "44",
          "100",
          "94",
          "130",
          "12",
          "8",
          "275",
          "12",
          "300",
          "100",
          "198",
          "145",
          "171",
          "199",
          "555",
          "81",
          "26",
          "298",
          "48",
          "36",
          "139",
          "119",
          "48",
          "37",
          "155",
          "142",
          "82",
          "331",
          "249",
          "24",
          "33",
          "62",
          "104",
          "72",
          "105",
          "150",
          "61",
          "81",
          "538",
          "86",
          "95",
          "130",
          "110",
          "156",
          "299",
          "42",
          "66",
          "47",
          "69",
          "186",
          "62",
          "500",
          "51",
          "431",
          "151",
          "130",
          "416",
          "716",
          "130",
          "129",
          "88",
          "171",
          "47",
          "132",
          "108",
          "13",
          "134",
          "129",
          "671",
          "39",
          "211",
          "153",
          "117",
          "306",
          "61",
          "396",
          "148",
          "94",
          "68",
          "70",
          "129",
          "25",
          "483",
          "306",
          "224",
          "579"
         ],
         "xaxis": "x2",
         "yaxis": "y2"
        }
       ],
       "layout": {
        "barmode": "relative",
        "legend": {
         "title": {
          "text": "sample_source"
         },
         "tracegroupgap": 0
        },
        "margin": {
         "t": 60
        },
        "template": {
         "data": {
          "bar": [
           {
            "error_x": {
             "color": "#2a3f5f"
            },
            "error_y": {
             "color": "#2a3f5f"
            },
            "marker": {
             "line": {
              "color": "#E5ECF6",
              "width": 0.5
             },
             "pattern": {
              "fillmode": "overlay",
              "size": 10,
              "solidity": 0.2
             }
            },
            "type": "bar"
           }
          ],
          "barpolar": [
           {
            "marker": {
             "line": {
              "color": "#E5ECF6",
              "width": 0.5
             },
             "pattern": {
              "fillmode": "overlay",
              "size": 10,
              "solidity": 0.2
             }
            },
            "type": "barpolar"
           }
          ],
          "carpet": [
           {
            "aaxis": {
             "endlinecolor": "#2a3f5f",
             "gridcolor": "white",
             "linecolor": "white",
             "minorgridcolor": "white",
             "startlinecolor": "#2a3f5f"
            },
            "baxis": {
             "endlinecolor": "#2a3f5f",
             "gridcolor": "white",
             "linecolor": "white",
             "minorgridcolor": "white",
             "startlinecolor": "#2a3f5f"
            },
            "type": "carpet"
           }
          ],
          "choropleth": [
           {
            "colorbar": {
             "outlinewidth": 0,
             "ticks": ""
            },
            "type": "choropleth"
           }
          ],
          "contour": [
           {
            "colorbar": {
             "outlinewidth": 0,
             "ticks": ""
            },
            "colorscale": [
             [
              0,
              "#0d0887"
             ],
             [
              0.1111111111111111,
              "#46039f"
             ],
             [
              0.2222222222222222,
              "#7201a8"
             ],
             [
              0.3333333333333333,
              "#9c179e"
             ],
             [
              0.4444444444444444,
              "#bd3786"
             ],
             [
              0.5555555555555556,
              "#d8576b"
             ],
             [
              0.6666666666666666,
              "#ed7953"
             ],
             [
              0.7777777777777778,
              "#fb9f3a"
             ],
             [
              0.8888888888888888,
              "#fdca26"
             ],
             [
              1,
              "#f0f921"
             ]
            ],
            "type": "contour"
           }
          ],
          "contourcarpet": [
           {
            "colorbar": {
             "outlinewidth": 0,
             "ticks": ""
            },
            "type": "contourcarpet"
           }
          ],
          "heatmap": [
           {
            "colorbar": {
             "outlinewidth": 0,
             "ticks": ""
            },
            "colorscale": [
             [
              0,
              "#0d0887"
             ],
             [
              0.1111111111111111,
              "#46039f"
             ],
             [
              0.2222222222222222,
              "#7201a8"
             ],
             [
              0.3333333333333333,
              "#9c179e"
             ],
             [
              0.4444444444444444,
              "#bd3786"
             ],
             [
              0.5555555555555556,
              "#d8576b"
             ],
             [
              0.6666666666666666,
              "#ed7953"
             ],
             [
              0.7777777777777778,
              "#fb9f3a"
             ],
             [
              0.8888888888888888,
              "#fdca26"
             ],
             [
              1,
              "#f0f921"
             ]
            ],
            "type": "heatmap"
           }
          ],
          "heatmapgl": [
           {
            "colorbar": {
             "outlinewidth": 0,
             "ticks": ""
            },
            "colorscale": [
             [
              0,
              "#0d0887"
             ],
             [
              0.1111111111111111,
              "#46039f"
             ],
             [
              0.2222222222222222,
              "#7201a8"
             ],
             [
              0.3333333333333333,
              "#9c179e"
             ],
             [
              0.4444444444444444,
              "#bd3786"
             ],
             [
              0.5555555555555556,
              "#d8576b"
             ],
             [
              0.6666666666666666,
              "#ed7953"
             ],
             [
              0.7777777777777778,
              "#fb9f3a"
             ],
             [
              0.8888888888888888,
              "#fdca26"
             ],
             [
              1,
              "#f0f921"
             ]
            ],
            "type": "heatmapgl"
           }
          ],
          "histogram": [
           {
            "marker": {
             "pattern": {
              "fillmode": "overlay",
              "size": 10,
              "solidity": 0.2
             }
            },
            "type": "histogram"
           }
          ],
          "histogram2d": [
           {
            "colorbar": {
             "outlinewidth": 0,
             "ticks": ""
            },
            "colorscale": [
             [
              0,
              "#0d0887"
             ],
             [
              0.1111111111111111,
              "#46039f"
             ],
             [
              0.2222222222222222,
              "#7201a8"
             ],
             [
              0.3333333333333333,
              "#9c179e"
             ],
             [
              0.4444444444444444,
              "#bd3786"
             ],
             [
              0.5555555555555556,
              "#d8576b"
             ],
             [
              0.6666666666666666,
              "#ed7953"
             ],
             [
              0.7777777777777778,
              "#fb9f3a"
             ],
             [
              0.8888888888888888,
              "#fdca26"
             ],
             [
              1,
              "#f0f921"
             ]
            ],
            "type": "histogram2d"
           }
          ],
          "histogram2dcontour": [
           {
            "colorbar": {
             "outlinewidth": 0,
             "ticks": ""
            },
            "colorscale": [
             [
              0,
              "#0d0887"
             ],
             [
              0.1111111111111111,
              "#46039f"
             ],
             [
              0.2222222222222222,
              "#7201a8"
             ],
             [
              0.3333333333333333,
              "#9c179e"
             ],
             [
              0.4444444444444444,
              "#bd3786"
             ],
             [
              0.5555555555555556,
              "#d8576b"
             ],
             [
              0.6666666666666666,
              "#ed7953"
             ],
             [
              0.7777777777777778,
              "#fb9f3a"
             ],
             [
              0.8888888888888888,
              "#fdca26"
             ],
             [
              1,
              "#f0f921"
             ]
            ],
            "type": "histogram2dcontour"
           }
          ],
          "mesh3d": [
           {
            "colorbar": {
             "outlinewidth": 0,
             "ticks": ""
            },
            "type": "mesh3d"
           }
          ],
          "parcoords": [
           {
            "line": {
             "colorbar": {
              "outlinewidth": 0,
              "ticks": ""
             }
            },
            "type": "parcoords"
           }
          ],
          "pie": [
           {
            "automargin": true,
            "type": "pie"
           }
          ],
          "scatter": [
           {
            "marker": {
             "colorbar": {
              "outlinewidth": 0,
              "ticks": ""
             }
            },
            "type": "scatter"
           }
          ],
          "scatter3d": [
           {
            "line": {
             "colorbar": {
              "outlinewidth": 0,
              "ticks": ""
             }
            },
            "marker": {
             "colorbar": {
              "outlinewidth": 0,
              "ticks": ""
             }
            },
            "type": "scatter3d"
           }
          ],
          "scattercarpet": [
           {
            "marker": {
             "colorbar": {
              "outlinewidth": 0,
              "ticks": ""
             }
            },
            "type": "scattercarpet"
           }
          ],
          "scattergeo": [
           {
            "marker": {
             "colorbar": {
              "outlinewidth": 0,
              "ticks": ""
             }
            },
            "type": "scattergeo"
           }
          ],
          "scattergl": [
           {
            "marker": {
             "colorbar": {
              "outlinewidth": 0,
              "ticks": ""
             }
            },
            "type": "scattergl"
           }
          ],
          "scattermapbox": [
           {
            "marker": {
             "colorbar": {
              "outlinewidth": 0,
              "ticks": ""
             }
            },
            "type": "scattermapbox"
           }
          ],
          "scatterpolar": [
           {
            "marker": {
             "colorbar": {
              "outlinewidth": 0,
              "ticks": ""
             }
            },
            "type": "scatterpolar"
           }
          ],
          "scatterpolargl": [
           {
            "marker": {
             "colorbar": {
              "outlinewidth": 0,
              "ticks": ""
             }
            },
            "type": "scatterpolargl"
           }
          ],
          "scatterternary": [
           {
            "marker": {
             "colorbar": {
              "outlinewidth": 0,
              "ticks": ""
             }
            },
            "type": "scatterternary"
           }
          ],
          "surface": [
           {
            "colorbar": {
             "outlinewidth": 0,
             "ticks": ""
            },
            "colorscale": [
             [
              0,
              "#0d0887"
             ],
             [
              0.1111111111111111,
              "#46039f"
             ],
             [
              0.2222222222222222,
              "#7201a8"
             ],
             [
              0.3333333333333333,
              "#9c179e"
             ],
             [
              0.4444444444444444,
              "#bd3786"
             ],
             [
              0.5555555555555556,
              "#d8576b"
             ],
             [
              0.6666666666666666,
              "#ed7953"
             ],
             [
              0.7777777777777778,
              "#fb9f3a"
             ],
             [
              0.8888888888888888,
              "#fdca26"
             ],
             [
              1,
              "#f0f921"
             ]
            ],
            "type": "surface"
           }
          ],
          "table": [
           {
            "cells": {
             "fill": {
              "color": "#EBF0F8"
             },
             "line": {
              "color": "white"
             }
            },
            "header": {
             "fill": {
              "color": "#C8D4E3"
             },
             "line": {
              "color": "white"
             }
            },
            "type": "table"
           }
          ]
         },
         "layout": {
          "annotationdefaults": {
           "arrowcolor": "#2a3f5f",
           "arrowhead": 0,
           "arrowwidth": 1
          },
          "autotypenumbers": "strict",
          "coloraxis": {
           "colorbar": {
            "outlinewidth": 0,
            "ticks": ""
           }
          },
          "colorscale": {
           "diverging": [
            [
             0,
             "#8e0152"
            ],
            [
             0.1,
             "#c51b7d"
            ],
            [
             0.2,
             "#de77ae"
            ],
            [
             0.3,
             "#f1b6da"
            ],
            [
             0.4,
             "#fde0ef"
            ],
            [
             0.5,
             "#f7f7f7"
            ],
            [
             0.6,
             "#e6f5d0"
            ],
            [
             0.7,
             "#b8e186"
            ],
            [
             0.8,
             "#7fbc41"
            ],
            [
             0.9,
             "#4d9221"
            ],
            [
             1,
             "#276419"
            ]
           ],
           "sequential": [
            [
             0,
             "#0d0887"
            ],
            [
             0.1111111111111111,
             "#46039f"
            ],
            [
             0.2222222222222222,
             "#7201a8"
            ],
            [
             0.3333333333333333,
             "#9c179e"
            ],
            [
             0.4444444444444444,
             "#bd3786"
            ],
            [
             0.5555555555555556,
             "#d8576b"
            ],
            [
             0.6666666666666666,
             "#ed7953"
            ],
            [
             0.7777777777777778,
             "#fb9f3a"
            ],
            [
             0.8888888888888888,
             "#fdca26"
            ],
            [
             1,
             "#f0f921"
            ]
           ],
           "sequentialminus": [
            [
             0,
             "#0d0887"
            ],
            [
             0.1111111111111111,
             "#46039f"
            ],
            [
             0.2222222222222222,
             "#7201a8"
            ],
            [
             0.3333333333333333,
             "#9c179e"
            ],
            [
             0.4444444444444444,
             "#bd3786"
            ],
            [
             0.5555555555555556,
             "#d8576b"
            ],
            [
             0.6666666666666666,
             "#ed7953"
            ],
            [
             0.7777777777777778,
             "#fb9f3a"
            ],
            [
             0.8888888888888888,
             "#fdca26"
            ],
            [
             1,
             "#f0f921"
            ]
           ]
          },
          "colorway": [
           "#636efa",
           "#EF553B",
           "#00cc96",
           "#ab63fa",
           "#FFA15A",
           "#19d3f3",
           "#FF6692",
           "#B6E880",
           "#FF97FF",
           "#FECB52"
          ],
          "font": {
           "color": "#2a3f5f"
          },
          "geo": {
           "bgcolor": "white",
           "lakecolor": "white",
           "landcolor": "#E5ECF6",
           "showlakes": true,
           "showland": true,
           "subunitcolor": "white"
          },
          "hoverlabel": {
           "align": "left"
          },
          "hovermode": "closest",
          "mapbox": {
           "style": "light"
          },
          "paper_bgcolor": "white",
          "plot_bgcolor": "#E5ECF6",
          "polar": {
           "angularaxis": {
            "gridcolor": "white",
            "linecolor": "white",
            "ticks": ""
           },
           "bgcolor": "#E5ECF6",
           "radialaxis": {
            "gridcolor": "white",
            "linecolor": "white",
            "ticks": ""
           }
          },
          "scene": {
           "xaxis": {
            "backgroundcolor": "#E5ECF6",
            "gridcolor": "white",
            "gridwidth": 2,
            "linecolor": "white",
            "showbackground": true,
            "ticks": "",
            "zerolinecolor": "white"
           },
           "yaxis": {
            "backgroundcolor": "#E5ECF6",
            "gridcolor": "white",
            "gridwidth": 2,
            "linecolor": "white",
            "showbackground": true,
            "ticks": "",
            "zerolinecolor": "white"
           },
           "zaxis": {
            "backgroundcolor": "#E5ECF6",
            "gridcolor": "white",
            "gridwidth": 2,
            "linecolor": "white",
            "showbackground": true,
            "ticks": "",
            "zerolinecolor": "white"
           }
          },
          "shapedefaults": {
           "line": {
            "color": "#2a3f5f"
           }
          },
          "ternary": {
           "aaxis": {
            "gridcolor": "white",
            "linecolor": "white",
            "ticks": ""
           },
           "baxis": {
            "gridcolor": "white",
            "linecolor": "white",
            "ticks": ""
           },
           "bgcolor": "#E5ECF6",
           "caxis": {
            "gridcolor": "white",
            "linecolor": "white",
            "ticks": ""
           }
          },
          "title": {
           "x": 0.05
          },
          "xaxis": {
           "automargin": true,
           "gridcolor": "white",
           "linecolor": "white",
           "ticks": "",
           "title": {
            "standoff": 15
           },
           "zerolinecolor": "white",
           "zerolinewidth": 2
          },
          "yaxis": {
           "automargin": true,
           "gridcolor": "white",
           "linecolor": "white",
           "ticks": "",
           "title": {
            "standoff": 15
           },
           "zerolinecolor": "white",
           "zerolinewidth": 2
          }
         }
        },
        "xaxis": {
         "anchor": "y",
         "domain": [
          0,
          1
         ],
         "title": {
          "text": "number_of_drugs"
         }
        },
        "xaxis2": {
         "anchor": "y2",
         "domain": [
          0,
          1
         ],
         "matches": "x",
         "showgrid": true,
         "showticklabels": false
        },
        "yaxis": {
         "anchor": "x",
         "domain": [
          0,
          0.7326
         ],
         "title": {
          "text": "count"
         }
        },
        "yaxis2": {
         "anchor": "x2",
         "domain": [
          0.7426,
          1
         ],
         "matches": "y2",
         "showgrid": false,
         "showline": false,
         "showticklabels": false,
         "ticks": ""
        }
       }
      }
     },
     "metadata": {},
     "output_type": "display_data"
    }
   ],
   "source": [
    "fig = px.histogram(temp, x='number_of_drugs', color='sample_source', marginal='box')\n",
    "fig.show()"
   ]
  }
 ],
 "metadata": {
  "interpreter": {
   "hash": "aee8b7b246df8f9039afb4144a1f6fd8d2ca17a180786b69acc140d282b71a49"
  },
  "kernelspec": {
   "display_name": "Python 3.9.9 64-bit",
   "language": "python",
   "name": "python3"
  },
  "language_info": {
   "codemirror_mode": {
    "name": "ipython",
    "version": 3
   },
   "file_extension": ".py",
   "mimetype": "text/x-python",
   "name": "python",
   "nbconvert_exporter": "python",
   "pygments_lexer": "ipython3",
   "version": "3.9.9"
  },
  "orig_nbformat": 4
 },
 "nbformat": 4,
 "nbformat_minor": 2
}
