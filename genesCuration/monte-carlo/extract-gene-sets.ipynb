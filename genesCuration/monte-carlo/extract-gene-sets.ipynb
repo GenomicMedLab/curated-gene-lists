{
 "cells": [
  {
   "cell_type": "markdown",
   "metadata": {},
   "source": [
    "# Extract Gene Sets\n",
    "This section will contain functionality to extract gene sets from symbolic linked disease sets. The goal of this is that once gene sets are extracted, monte-carlo's can be performed on a locally run DGIdb to generate histogram's of returned drugs. This will identified gene sets (hopefully) as stastically significant and relevant to diseases."
   ]
  },
  {
   "cell_type": "code",
   "execution_count": 1,
   "metadata": {},
   "outputs": [],
   "source": [
    "import pandas as pd\n",
    "import re\n",
    "import requests\n",
    "import json\n",
    "import random\n",
    "import plotly.express as px\n",
    "import plotly.io as pio\n",
    "import plotly.graph_objects as go\n",
    "from plotly.subplots import make_subplots"
   ]
  },
  {
   "cell_type": "code",
   "execution_count": 3,
   "metadata": {},
   "outputs": [],
   "source": [
    "# Define disease sets\n",
    "disease_sets = ['brainCancer','hereditaryCancer','metabolicDiseases','renalDiseases','cardiacDisorders','cnsCancer','skinDiseases','t-All','wilmsTumor','MDS','epilepsy','pediatricCancer']\n",
    "\n",
    "# Done: all\n",
    "# Still too long URI: pediatricDisease"
   ]
  },
  {
   "cell_type": "code",
   "execution_count": 4,
   "metadata": {},
   "outputs": [],
   "source": [
    "# Open yaml files to get excel names  (missing epilepsy & mds & pediatricCancer & pediatricDisease)\n",
    "\n",
    "excel_file_list = list()\n",
    "for i in disease_sets:\n",
    "    with open('../symlinks/panels/'+ i + '.yaml') as f:\n",
    "        individual_gene_panels = f.read().splitlines()\n",
    "    excel_file_list.append(individual_gene_panels)\n",
    "\n"
   ]
  },
  {
   "cell_type": "code",
   "execution_count": 5,
   "metadata": {},
   "outputs": [],
   "source": [
    "# Functions to get genes\n",
    "def get_genes(df):\n",
    "    \n",
    "    gene_list = list()\n",
    "    try:\n",
    "        for i in df.geneSymbol:\n",
    "            gene_list.append(i)\n",
    "    except:\n",
    "        for i in df.Gene:\n",
    "            gene_list.append(i)\n",
    "\n",
    "    return(gene_list)"
   ]
  },
  {
   "cell_type": "code",
   "execution_count": 6,
   "metadata": {},
   "outputs": [
    {
     "name": "stdout",
     "output_type": "stream",
     "text": [
      "Opened file: Ambry Genetics BrainTumorNext ®.xlsx for disease brainCancer\n",
      "Opened file: Baylor Miraca Genetics Laboratories Hereditary Brain CNS PNS Cancer Panel.xlsx for disease brainCancer\n",
      "../../diseases/brainCancer/Children's Hospital of Philadelphia - Division of Genomic Diagnostics Hereditary Brain Tumor Panel.xlsx\n",
      "Opened file: EGL Genetics Brain, CNS, and PNS Cancer Panel: Sequencing and CNV Analysis.xlsx for disease brainCancer\n",
      "Opened file: EGL Genetics Brain, CNS, and PNS Cancer: Deletion Duplication Panel.xlsx for disease brainCancer\n",
      "Opened file: Fulgent Genetics Nervous System   Brain Cancer Comprehensive Panel  Sequencing Only).xlsx for disease brainCancer\n",
      "Opened file: BioReference Laboratories OnkoSight Glioma Panel.xlsx for disease brainCancer\n",
      "Opened file: GeneDx Brain Tumor Panel.xlsx for disease brainCancer\n",
      "Opened file: Integrated Genetics VistaSeq Brain   CNS   PNS Cancer Panel.xlsx for disease brainCancer\n",
      "Opened file: Invitae Invitae Nervous System Brain Cancer Panel - Primary + Hereditary Paraganglioma-Pheochromocytoma Genes.xlsx for disease brainCancer\n",
      "Opened file: Invitae Invitae Nervous System Brain Cancer Panel - Primary + Preliminary-Evidence Genes.xlsx for disease brainCancer\n",
      "Opened file: Invitae Invitae Nervous System Brain Cancer Panel - Primary Genes Only.xlsx for disease brainCancer\n",
      "Opened file: Invitae Invitae Pediatric Nervous System Brain Tumors Panel - Primary + Hereditary Paraganglioma-Pheochromocytoma Genes.xlsx for disease brainCancer\n",
      "Opened file: Invitae Invitae Pediatric Nervous System Brain Tumors Panel - Primary Genes Only.xlsx for disease brainCancer\n",
      "Opened file: LabCorp VistaSeq® Brain   CNS   PNS Cancer Panel.xlsx for disease brainCancer\n",
      "Opened file: Phosphorous, Inc. Brain and Nervous System Cancer Panel.xlsx for disease brainCancer\n",
      "Opened file: PreventionGenetics PGXome Custom - Brain Cancer.xlsx for disease brainCancer\n",
      "Opened file: PreventionGenetics PGXome Custom - Nervous System Brain tumor.xlsx for disease brainCancer\n",
      "Opened file: Sema4 BrainTumorNext.xlsx for disease brainCancer\n",
      "../../diseases/brainCancer/PANEL APP UK\n",
      "Opened file: Brain cancer pertinent cancer susceptibility.xlsx for disease brainCancer\n",
      "Opened file: Brain channelopathy.xlsx for disease brainCancer\n",
      "../../diseases/brainCancer/PANEL APP AU\n",
      "Opened file: Brain Channelopathies.xlsx for disease brainCancer\n",
      "Opened file: ARUP Laboratories Hereditary Cancer Panel.xlsx for disease hereditaryCancer\n",
      "Opened file: Baylor Miraca Genetics Laboratories Common Hereditary Cancer Panel.xlsx for disease hereditaryCancer\n",
      "Opened file: Baylor Miraca Genetics Laboratories Comprehensive Hereditary Cancer Panel.xlsx for disease hereditaryCancer\n",
      "Opened file: Baylor Miraca Genetics Laboratories Hereditary Brain CNS PNS Cancer Panel.xlsx for disease hereditaryCancer\n",
      "Opened file: Baylor Miraca Genetics Laboratories Hereditary Leukemia Lymphoma Panel.xlsx for disease hereditaryCancer\n",
      "Opened file: Blueprint Genetics Comprehensive Hereditary Cancer Panel.xlsx for disease hereditaryCancer\n",
      "Opened file: Blueprint Genetics Hereditary Cancer High Risk Panel.xlsx for disease hereditaryCancer\n",
      "Opened file: Blueprint Genetics Hereditary Leukemia Panel.xlsx for disease hereditaryCancer\n",
      "Opened file: Blueprint Genetics Hereditary Pediatric Cancer Panel.xlsx for disease hereditaryCancer\n",
      "../../diseases/hereditaryCancer/Children's Hospital Colorado Precision Diagnostics Laboratory Comprehensive Hereditary Cancer Panel.xlsx\n",
      "../../diseases/hereditaryCancer/Children's Hospital of Philadelphia - Division of Genomic Diagnostics Hereditary Brain Tumor Panel.xlsx\n",
      "../../diseases/hereditaryCancer/Children's Hospital of Philadelphia - Division of Genomic Diagnostics Hereditary Leukemia Lymphoma Panel.xlsx\n",
      "../../diseases/hereditaryCancer/Children's Hospital of Philadelphia - Division of Genomic Diagnostics Hereditary MDS Leukemia Predisposition Panel.xlsx\n",
      "Opened file: Color Genomics Color - Hereditary Cancer Risk Analysis.xlsx for disease hereditaryCancer\n",
      "Opened file: EGL Genetics Hereditary Cancer Syndrome Panel: Sequencing and CNV Analysis.xlsx for disease hereditaryCancer\n",
      "Opened file: EGL Genetics Hereditary Cancer Syndrome: Deletion Duplication Panel.xlsx for disease hereditaryCancer\n",
      "Opened file: GeneDx Hereditary MDS Leukemia Panel.xlsx for disease hereditaryCancer\n",
      "Opened file: GeneDx Xpanded HereditaryCancer - Singleton.xlsx for disease hereditaryCancer\n",
      "Opened file: Integrated Genetics VistaSeq Hereditary Cancer Panel.xlsx for disease hereditaryCancer\n",
      "Opened file: Invitae Invitae Common Hereditary Cancers Panel.xlsx for disease hereditaryCancer\n",
      "Opened file: LLC Comprehensive Hereditary Breast and Gynecologic Cancer Panel.xlsx for disease hereditaryCancer\n",
      "Opened file: Invitae Invitae Nervous System Brain Cancer Panel - Primary + Hereditary Paraganglioma-Pheochromocytoma Genes.xlsx for disease hereditaryCancer\n",
      "Opened file: Invitae Invitae Pediatric Nervous System Brain Tumors Panel - Primary + Hereditary Paraganglioma-Pheochromocytoma Genes.xlsx for disease hereditaryCancer\n",
      "Opened file: LabCorp VistaSeq® Hereditary Cancer Panel.xlsx for disease hereditaryCancer\n",
      "Opened file: Natera Empower - Multi-cancer Hereditary Cancer Test.xlsx for disease hereditaryCancer\n",
      "Opened file: Natera Empower - Multi-cancer expanded Hereditary Cancer Test.xlsx for disease hereditaryCancer\n",
      "Opened file: PreventionGenetics Hereditary Breast and Ovarian Cancer - Expanded and Lynch Syndrome Panel.xlsx for disease hereditaryCancer\n",
      "Opened file: PreventionGenetics Hereditary Myelodysplastic Syndrome  MDS)   Acute Myeloid Leukemia  AML) Panel.xlsx for disease hereditaryCancer\n",
      "Opened file: PreventionGenetics PGXome Custom - Hereditary Leukemia.xlsx for disease hereditaryCancer\n",
      "Opened file: Quest Diagnostics Comprehensive Hereditary Cancer Panel.xlsx for disease hereditaryCancer\n",
      "Opened file: Quest Diagnostics Guideline Based Hereditary Cancer Panel.xlsx for disease hereditaryCancer\n",
      "Opened file: Quest Diagnostics MYvantage Hereditary Comprehensive Cancer Panel.xlsx for disease hereditaryCancer\n",
      "Opened file: The University of Chicago Genetic Services Hereditary Leukemia and Breast Cancer Panel.xlsx for disease hereditaryCancer\n",
      "Opened file: The University of Chicago Genetic Services Hereditary Lymphoid Malignancy Immunodeficiency Predisposition Panel.xlsx for disease hereditaryCancer\n",
      "Opened file: UCSF Molecular Diagnostics Laboratory HC COMMON HEREDITARY CANCER PANEL.xlsx for disease hereditaryCancer\n",
      "../../diseases/hereditaryCancer/PANEL APP UK\n",
      "../../diseases/hereditaryCancer/PANEL APP AU\n",
      "../../diseases/metabolicDiseases/PANEL APP UK\n",
      "Opened file: Undiagnosed metabolic disorders.xlsx for disease metabolicDiseases\n",
      "Opened file: Rhabdomyolysis and metabolic muscle disorders.xlsx for disease metabolicDiseases\n",
      "../../diseases/metabolicDiseases/PANEL APP AU\n",
      "Opened file: Miscellaneous Metabolic Disorders.xlsx for disease metabolicDiseases\n",
      "Opened file: Renal Hypertension and Disorders of Aldosterone Metabolism.xlsx for disease metabolicDiseases\n",
      "Opened file: Metabolic Disorders Superpanel.xlsx for disease metabolicDiseases\n",
      "Opened file: Renal Abnormalities of Magnesium Metabolism.xlsx for disease metabolicDiseases\n",
      "Opened file: Metabolic renal disease.xlsx for disease metabolicDiseases\n",
      "../../diseases/renalDiseases/PANEL APP UK\n",
      "Opened file: Proteinuric renal disease.xlsx for disease renalDiseases\n",
      "Opened file: Cystic renal disease.xlsx for disease renalDiseases\n",
      "Opened file: Inherited renal cancer.xlsx for disease renalDiseases\n",
      "Opened file: Unexplained paediatric onset end-stage renal disease.xlsx for disease renalDiseases\n",
      "Opened file: Renal ciliopathies.xlsx for disease renalDiseases\n",
      "Opened file: Renal superpanel - broad.xlsx for disease renalDiseases\n",
      "Opened file: Renal cancer pertinent cancer susceptibility.xlsx for disease renalDiseases\n",
      "Opened file: Renal tubulopathies.xlsx for disease renalDiseases\n",
      "Opened file: Renal superpanel - narrow.xlsx for disease renalDiseases\n",
      "../../diseases/renalDiseases/PANEL APP AU\n",
      "Opened file: Metabolic renal disease.xlsx for disease renalDiseases\n",
      "Opened file: Renal cancer.xlsx for disease renalDiseases\n",
      "Opened file: Renal Hypertension and Disorders of Aldosterone Metabolism.xlsx for disease renalDiseases\n",
      "Opened file: Renal Tubular Dysgenesis.xlsx for disease renalDiseases\n",
      "Opened file: Renal Amyloidosis.xlsx for disease renalDiseases\n",
      "Opened file: Renal Macrocystic Disease.xlsx for disease renalDiseases\n",
      "Opened file: Renal Glomerular Disease_SuperPanel.xlsx for disease renalDiseases\n",
      "Opened file: Renal abnormalities of calcium and phosphate metabolism.xlsx for disease renalDiseases\n",
      "Opened file: Renal Abnormalities of Magnesium Metabolism.xlsx for disease renalDiseases\n",
      "Opened file: Renal Ciliopathies and Nephronophthisis.xlsx for disease renalDiseases\n",
      "Opened file: Renal Tubulopathies.xlsx for disease renalDiseases\n",
      "Opened file: Renal Tubulointerstitial Disease.xlsx for disease renalDiseases\n",
      "../../diseases/cardiacDisorders/PANEL APP UK\n",
      "Opened file: Progressive cardiac conduction disease.xlsx for disease cardiacDisorders\n",
      "Opened file: Sudden cardiac death.xlsx for disease cardiacDisorders\n",
      "Opened file: Hypertrophic cardiomyopathy - teen and adult.xlsx for disease cardiacDisorders\n",
      "Opened file: Arrhythmogenic cardiomyopathy.xlsx for disease cardiacDisorders\n",
      "Opened file: Dilated cardiomyopathy - adult and teen.xlsx for disease cardiacDisorders\n",
      "../../diseases/cardiacDisorders/PANEL APP AU\n",
      "Opened file: Catecholaminergic Polymorphic Ventricular Tachycardia.xlsx for disease cardiacDisorders\n",
      "Opened file: Hypertrophic cardiomyopathy_HCM.xlsx for disease cardiacDisorders\n",
      "Opened file: Baylor Miraca Genetics Laboratories Hereditary Brain CNS PNS Cancer Panel.xlsx for disease cnsCancer\n",
      "Opened file: EGL Genetics Brain, CNS, and PNS Cancer Panel: Sequencing and CNV Analysis.xlsx for disease cnsCancer\n",
      "Opened file: EGL Genetics Brain, CNS, and PNS Cancer: Deletion Duplication Panel.xlsx for disease cnsCancer\n",
      "Opened file: Fairview Diagnostic Laboratories CNS Hereditary Cancer.xlsx for disease cnsCancer\n",
      "Opened file: Integrated Genetics VistaSeq Brain   CNS   PNS Cancer Panel.xlsx for disease cnsCancer\n",
      "Opened file: LabCorp VistaSeq® Brain   CNS   PNS Cancer Panel.xlsx for disease cnsCancer\n",
      "../../diseases/cnsCancer/PANEL APP UK\n",
      "../../diseases/cnsCancer/PANEL APP AU\n",
      "../../diseases/skinDiseases/PANEL APP UK\n",
      "Opened file: Multiple monogenic benign skin tumours.xlsx for disease skinDiseases\n",
      "Opened file: Peeling skin syndrome.xlsx for disease skinDiseases\n",
      "Opened file: Pigmentary skin disorders.xlsx for disease skinDiseases\n",
      "Opened file: Rare genetic inflammatory skin disorders.xlsx for disease skinDiseases\n",
      "Opened file: Epidermolysis bullosa and congenital skin fragility.xlsx for disease skinDiseases\n",
      "Opened file: Mosaic skin disorders - deep sequencing.xlsx for disease skinDiseases\n",
      "Opened file: Vascular skin disorders.xlsx for disease skinDiseases\n",
      "../../diseases/skinDiseases/PANEL APP AU\n",
      "Opened file: Mosaic skin disorders.xlsx for disease skinDiseases\n",
      "Opened file: T-ALL Feb 2020.xlsx for disease t-All\n",
      "../../diseases/t-All/PANEL APP UK\n",
      "../../diseases/t-All/PANEL APP AU\n",
      "Opened file: Fairview Diagnostic Laboratories Wilms tumor.xlsx for disease wilmsTumor\n",
      "Opened file: Invitae Invitae Wilms Tumor Panel - Primary + Preliminary-Evidence Genes.xlsx for disease wilmsTumor\n",
      "Opened file: PreventionGenetics PGXome Custom - Wilms Tumor.xlsx for disease wilmsTumor\n",
      "Opened file: PreventionGenetics Wilms Tumor Panel.xlsx for disease wilmsTumor\n",
      "../../diseases/wilmsTumor/PANEL APP UK\n",
      "../../diseases/wilmsTumor/PANEL APP AU\n",
      "Opened file: Children's Hospital of Philadelphia - Division of Genomic Diagnostics Hereditary MDS Leukemia Predisposition Panel.xlsx for disease MDS\n",
      "Opened file: Invitae Invitae Myelodysplastic Syndrome Leukemia Panel - Primary + Preliminary-Evidence Genes.xlsx for disease MDS\n",
      "Opened file: PreventionGenetics Hereditary Myelodysplastic Syndrome  MDS)   Acute Myeloid Leukemia  AML) Panel.xlsx for disease MDS\n",
      "Opened file: Genetic Epilepsy.xlsx for disease epilepsy\n",
      "Opened file: Genetic epilepsy syndromes.xlsx for disease epilepsy\n",
      "Opened file: GeneDx Pediatric Tumor Panel.xlsx for disease pediatricCancer\n",
      "Opened file: Invitae Invitae Pediatric Hematologic Malignancies Panel.xlsx for disease pediatricCancer\n",
      "Opened file: Invitae Invitae Pediatric Nervous System Brain Tumors Panel - Primary + Hereditary Paraganglioma-Pheochromocytoma Genes.xlsx for disease pediatricCancer\n",
      "Opened file: Invitae Invitae Pediatric Nervous System Brain Tumors Panel - Primary Genes Only.xlsx for disease pediatricCancer\n",
      "Opened file: Invitae Invitae Pediatric Solid Tumors Panel.xlsx for disease pediatricCancer\n",
      "Opened file: PerkinElmer Genomics Pediatric Tumor Panel.xlsx for disease pediatricCancer\n",
      "Opened file: PreventionGenetics Pediatric Cancer Panel.xlsx for disease pediatricCancer\n"
     ]
    }
   ],
   "source": [
    "# Open files and retrieve metrics\n",
    "\n",
    "list_counter = 0\n",
    "\n",
    "genes_df_list = list()\n",
    "disease_df_list = list()\n",
    "source_file_list = list()\n",
    "genes_length_list = list()\n",
    "\n",
    "\n",
    "while list_counter < len(excel_file_list):\n",
    "    for i in excel_file_list[list_counter]:\n",
    "        try:\n",
    "            try:\n",
    "                f = pd.read_excel('../../diseases/' + disease_sets[list_counter] + '/' + str(i),sheet_name='genes',index_col=0)\n",
    "                genes = get_genes(f)\n",
    "\n",
    "                genes_df_list.append(genes)\n",
    "                genes_length_list.append(str(len(genes)))\n",
    "                disease_df_list.append(disease_sets[list_counter])\n",
    "                source_file_list.append(i)\n",
    "\n",
    "            except:\n",
    "                f = pd.read_excel('../../diseases/' + disease_sets[list_counter] + '/' + str(i),sheet_name='data',index_col=0)\n",
    "                genes = get_genes(f)\n",
    "\n",
    "                genes_df_list.append(genes)\n",
    "                genes_length_list.append(str(len(genes)))\n",
    "                disease_df_list.append(disease_sets[list_counter])\n",
    "                source_file_list.append(i)\n",
    "\n",
    "            print('Opened file: ' + i + ' for disease ' + disease_sets[list_counter])\n",
    "        except:\n",
    "            print ('../../diseases/' + disease_sets[list_counter] + '/' + str(i))\n",
    "\n",
    "            genes_df_list.append('None')     \n",
    "            genes_length_list.append('Nan')\n",
    "            disease_df_list.append(disease_sets[list_counter])\n",
    "            source_file_list.append(i)\n",
    "\n",
    "    list_counter += 1"
   ]
  },
  {
   "cell_type": "code",
   "execution_count": 7,
   "metadata": {},
   "outputs": [
    {
     "data": {
      "text/html": [
       "<div>\n",
       "<style scoped>\n",
       "    .dataframe tbody tr th:only-of-type {\n",
       "        vertical-align: middle;\n",
       "    }\n",
       "\n",
       "    .dataframe tbody tr th {\n",
       "        vertical-align: top;\n",
       "    }\n",
       "\n",
       "    .dataframe thead th {\n",
       "        text-align: right;\n",
       "    }\n",
       "</style>\n",
       "<table border=\"1\" class=\"dataframe\">\n",
       "  <thead>\n",
       "    <tr style=\"text-align: right;\">\n",
       "      <th></th>\n",
       "      <th>disease</th>\n",
       "      <th>source</th>\n",
       "      <th>genes</th>\n",
       "      <th>number</th>\n",
       "    </tr>\n",
       "  </thead>\n",
       "  <tbody>\n",
       "    <tr>\n",
       "      <th>0</th>\n",
       "      <td>brainCancer</td>\n",
       "      <td>Ambry Genetics BrainTumorNext ®.xlsx</td>\n",
       "      <td>[AIP, ALK, APC, CDKN1B, CDKN2A, DICER1, EPCAM,...</td>\n",
       "      <td>29</td>\n",
       "    </tr>\n",
       "    <tr>\n",
       "      <th>1</th>\n",
       "      <td>brainCancer</td>\n",
       "      <td>Baylor Miraca Genetics Laboratories Hereditary...</td>\n",
       "      <td>[ALK, APC, ATM, MEN1, MLH1, MRE11, MSH2, MSH6,...</td>\n",
       "      <td>17</td>\n",
       "    </tr>\n",
       "    <tr>\n",
       "      <th>2</th>\n",
       "      <td>brainCancer</td>\n",
       "      <td>Children's Hospital of Philadelphia - Division...</td>\n",
       "      <td>None</td>\n",
       "      <td>Nan</td>\n",
       "    </tr>\n",
       "    <tr>\n",
       "      <th>3</th>\n",
       "      <td>brainCancer</td>\n",
       "      <td>EGL Genetics Brain, CNS, and PNS Cancer Panel:...</td>\n",
       "      <td>[ALK, APC, ATM, MEN1, MLH1, MSH2, MSH6, NBN, N...</td>\n",
       "      <td>15</td>\n",
       "    </tr>\n",
       "    <tr>\n",
       "      <th>4</th>\n",
       "      <td>brainCancer</td>\n",
       "      <td>EGL Genetics Brain, CNS, and PNS Cancer: Delet...</td>\n",
       "      <td>[ALK, APC, ATM, MEN1, MLH1, MSH2, MSH6, NBN, N...</td>\n",
       "      <td>15</td>\n",
       "    </tr>\n",
       "    <tr>\n",
       "      <th>...</th>\n",
       "      <td>...</td>\n",
       "      <td>...</td>\n",
       "      <td>...</td>\n",
       "      <td>...</td>\n",
       "    </tr>\n",
       "    <tr>\n",
       "      <th>136</th>\n",
       "      <td>pediatricCancer</td>\n",
       "      <td>Invitae Invitae Pediatric Nervous System Brain...</td>\n",
       "      <td>[]</td>\n",
       "      <td>0</td>\n",
       "    </tr>\n",
       "    <tr>\n",
       "      <th>137</th>\n",
       "      <td>pediatricCancer</td>\n",
       "      <td>Invitae Invitae Pediatric Nervous System Brain...</td>\n",
       "      <td>[AIP, ALK, APC, DICER1, EPCAM, HRAS, LZTR1, ME...</td>\n",
       "      <td>26</td>\n",
       "    </tr>\n",
       "    <tr>\n",
       "      <th>138</th>\n",
       "      <td>pediatricCancer</td>\n",
       "      <td>Invitae Invitae Pediatric Solid Tumors Panel.xlsx</td>\n",
       "      <td>[AIP, ALK, APC, AXIN2, BAP1, BLM, BMPR1A, CDC7...</td>\n",
       "      <td>53</td>\n",
       "    </tr>\n",
       "    <tr>\n",
       "      <th>139</th>\n",
       "      <td>pediatricCancer</td>\n",
       "      <td>PerkinElmer Genomics Pediatric Tumor Panel.xlsx</td>\n",
       "      <td>[ALK, APC, CDC73, DICER1, EPCAM, MEN1, MLH1, M...</td>\n",
       "      <td>27</td>\n",
       "    </tr>\n",
       "    <tr>\n",
       "      <th>140</th>\n",
       "      <td>pediatricCancer</td>\n",
       "      <td>PreventionGenetics Pediatric Cancer Panel.xlsx</td>\n",
       "      <td>[ALK, ANKRD26, APC, ATM, AXIN2, BAP1, BLM, BMP...</td>\n",
       "      <td>64</td>\n",
       "    </tr>\n",
       "  </tbody>\n",
       "</table>\n",
       "<p>141 rows × 4 columns</p>\n",
       "</div>"
      ],
      "text/plain": [
       "             disease                                             source  \\\n",
       "0        brainCancer               Ambry Genetics BrainTumorNext ®.xlsx   \n",
       "1        brainCancer  Baylor Miraca Genetics Laboratories Hereditary...   \n",
       "2        brainCancer  Children's Hospital of Philadelphia - Division...   \n",
       "3        brainCancer  EGL Genetics Brain, CNS, and PNS Cancer Panel:...   \n",
       "4        brainCancer  EGL Genetics Brain, CNS, and PNS Cancer: Delet...   \n",
       "..               ...                                                ...   \n",
       "136  pediatricCancer  Invitae Invitae Pediatric Nervous System Brain...   \n",
       "137  pediatricCancer  Invitae Invitae Pediatric Nervous System Brain...   \n",
       "138  pediatricCancer  Invitae Invitae Pediatric Solid Tumors Panel.xlsx   \n",
       "139  pediatricCancer    PerkinElmer Genomics Pediatric Tumor Panel.xlsx   \n",
       "140  pediatricCancer     PreventionGenetics Pediatric Cancer Panel.xlsx   \n",
       "\n",
       "                                                 genes number  \n",
       "0    [AIP, ALK, APC, CDKN1B, CDKN2A, DICER1, EPCAM,...     29  \n",
       "1    [ALK, APC, ATM, MEN1, MLH1, MRE11, MSH2, MSH6,...     17  \n",
       "2                                                 None    Nan  \n",
       "3    [ALK, APC, ATM, MEN1, MLH1, MSH2, MSH6, NBN, N...     15  \n",
       "4    [ALK, APC, ATM, MEN1, MLH1, MSH2, MSH6, NBN, N...     15  \n",
       "..                                                 ...    ...  \n",
       "136                                                 []      0  \n",
       "137  [AIP, ALK, APC, DICER1, EPCAM, HRAS, LZTR1, ME...     26  \n",
       "138  [AIP, ALK, APC, AXIN2, BAP1, BLM, BMPR1A, CDC7...     53  \n",
       "139  [ALK, APC, CDC73, DICER1, EPCAM, MEN1, MLH1, M...     27  \n",
       "140  [ALK, ANKRD26, APC, ATM, AXIN2, BAP1, BLM, BMP...     64  \n",
       "\n",
       "[141 rows x 4 columns]"
      ]
     },
     "execution_count": 7,
     "metadata": {},
     "output_type": "execute_result"
    }
   ],
   "source": [
    "genes_df = pd.DataFrame()\n",
    "genes_df = genes_df.assign(disease=disease_df_list,source=source_file_list,genes=genes_df_list,number=genes_length_list)\n",
    "genes_df"
   ]
  },
  {
   "cell_type": "markdown",
   "metadata": {},
   "source": [
    "# Define Monte Carlo functionality\n",
    "Gene sets have been extracted with appropriate meta data attached in one big dataframe. Build functionality to perform monte carlo simulations off local DGIdb instance using the length of gene list for sample size. Enable functionality for both source level and disease level? I think disease level is the focus"
   ]
  },
  {
   "cell_type": "code",
   "execution_count": 8,
   "metadata": {},
   "outputs": [],
   "source": [
    "# Get gene set as defined by diseases\n",
    "def get_gene_set(disease,df):\n",
    "\n",
    "    df = df[df['disease']==disease]\n",
    "\n",
    "    all_genes = list()\n",
    "\n",
    "    for i in df.genes:\n",
    "        if i == 'None':\n",
    "            pass\n",
    "        else:\n",
    "            for j in i:\n",
    "                all_genes.append(j)\n",
    "    full_gene_set = list(set(all_genes))\n",
    "    return(full_gene_set)\n",
    "\n",
    "# Get drug JSON from locally run DGIdb  \n",
    "def get_json(input_genes):\n",
    "\n",
    "    input_genes = ','.join(input_genes)\n",
    "\n",
    "    r = requests.get('http://localhost:3000/api/v2/interactions.json?genes=' + input_genes + '&fda_approved_drug=true')\n",
    "    data = r.json()\n",
    "\n",
    "    return(data)\n",
    "\n",
    "# Get number of drugs from JSON (more data points can be added here)\n",
    "def get_monte_carlo_data_points(data):\n",
    "\n",
    "    number_of_drugs = 0\n",
    "\n",
    "    for i in data['matchedTerms']:\n",
    "        data_point = len(i['interactions'])\n",
    "        number_of_drugs = number_of_drugs + data_point\n",
    "\n",
    "    return(number_of_drugs)\n"
   ]
  },
  {
   "cell_type": "code",
   "execution_count": 8,
   "metadata": {},
   "outputs": [
    {
     "data": {
      "text/plain": [
       "641"
      ]
     },
     "execution_count": 8,
     "metadata": {},
     "output_type": "execute_result"
    }
   ],
   "source": [
    "lol = get_gene_set('hereditaryCancer',genes_df)\n",
    "len(lol)"
   ]
  },
  {
   "cell_type": "code",
   "execution_count": 10,
   "metadata": {},
   "outputs": [
    {
     "ename": "KeyboardInterrupt",
     "evalue": "",
     "output_type": "error",
     "traceback": [
      "\u001b[0;31m---------------------------------------------------------------------------\u001b[0m",
      "\u001b[0;31mTypeError\u001b[0m                                 Traceback (most recent call last)",
      "\u001b[0;32m/usr/local/lib/python3.9/site-packages/requests/packages/urllib3/connectionpool.py\u001b[0m in \u001b[0;36m_make_request\u001b[0;34m(self, conn, method, url, timeout, **httplib_request_kw)\u001b[0m\n\u001b[1;32m    371\u001b[0m             \u001b[0;32mtry\u001b[0m\u001b[0;34m:\u001b[0m  \u001b[0;31m# Python 2.7, use buffering of HTTP responses\u001b[0m\u001b[0;34m\u001b[0m\u001b[0;34m\u001b[0m\u001b[0m\n\u001b[0;32m--> 372\u001b[0;31m                 \u001b[0mhttplib_response\u001b[0m \u001b[0;34m=\u001b[0m \u001b[0mconn\u001b[0m\u001b[0;34m.\u001b[0m\u001b[0mgetresponse\u001b[0m\u001b[0;34m(\u001b[0m\u001b[0mbuffering\u001b[0m\u001b[0;34m=\u001b[0m\u001b[0;32mTrue\u001b[0m\u001b[0;34m)\u001b[0m\u001b[0;34m\u001b[0m\u001b[0;34m\u001b[0m\u001b[0m\n\u001b[0m\u001b[1;32m    373\u001b[0m             \u001b[0;32mexcept\u001b[0m \u001b[0mTypeError\u001b[0m\u001b[0;34m:\u001b[0m  \u001b[0;31m# Python 2.6 and older\u001b[0m\u001b[0;34m\u001b[0m\u001b[0;34m\u001b[0m\u001b[0m\n",
      "\u001b[0;31mTypeError\u001b[0m: getresponse() got an unexpected keyword argument 'buffering'",
      "\nDuring handling of the above exception, another exception occurred:\n",
      "\u001b[0;31mKeyboardInterrupt\u001b[0m                         Traceback (most recent call last)",
      "\u001b[0;32m/var/folders/m6/b6y4g9114836jky8p81w12mchscvrj/T/ipykernel_5224/67504415.py\u001b[0m in \u001b[0;36m<module>\u001b[0;34m\u001b[0m\n\u001b[0;32m----> 1\u001b[0;31m \u001b[0mdata\u001b[0m \u001b[0;34m=\u001b[0m \u001b[0mget_json\u001b[0m\u001b[0;34m(\u001b[0m\u001b[0mlol\u001b[0m\u001b[0;34m)\u001b[0m\u001b[0;34m\u001b[0m\u001b[0;34m\u001b[0m\u001b[0m\n\u001b[0m",
      "\u001b[0;32m/var/folders/m6/b6y4g9114836jky8p81w12mchscvrj/T/ipykernel_5224/1059869762.py\u001b[0m in \u001b[0;36mget_json\u001b[0;34m(input_genes)\u001b[0m\n\u001b[1;32m     20\u001b[0m     \u001b[0minput_genes\u001b[0m \u001b[0;34m=\u001b[0m \u001b[0;34m','\u001b[0m\u001b[0;34m.\u001b[0m\u001b[0mjoin\u001b[0m\u001b[0;34m(\u001b[0m\u001b[0minput_genes\u001b[0m\u001b[0;34m)\u001b[0m\u001b[0;34m\u001b[0m\u001b[0;34m\u001b[0m\u001b[0m\n\u001b[1;32m     21\u001b[0m \u001b[0;34m\u001b[0m\u001b[0m\n\u001b[0;32m---> 22\u001b[0;31m     \u001b[0mr\u001b[0m \u001b[0;34m=\u001b[0m \u001b[0mrequests\u001b[0m\u001b[0;34m.\u001b[0m\u001b[0mget\u001b[0m\u001b[0;34m(\u001b[0m\u001b[0;34m'http://localhost:3000/api/v2/interactions.json?genes='\u001b[0m \u001b[0;34m+\u001b[0m \u001b[0minput_genes\u001b[0m \u001b[0;34m+\u001b[0m \u001b[0;34m'&fda_approved_drug=true'\u001b[0m\u001b[0;34m)\u001b[0m\u001b[0;34m\u001b[0m\u001b[0;34m\u001b[0m\u001b[0m\n\u001b[0m\u001b[1;32m     23\u001b[0m     \u001b[0mdata\u001b[0m \u001b[0;34m=\u001b[0m \u001b[0mr\u001b[0m\u001b[0;34m.\u001b[0m\u001b[0mjson\u001b[0m\u001b[0;34m(\u001b[0m\u001b[0;34m)\u001b[0m\u001b[0;34m\u001b[0m\u001b[0;34m\u001b[0m\u001b[0m\n\u001b[1;32m     24\u001b[0m \u001b[0;34m\u001b[0m\u001b[0m\n",
      "\u001b[0;32m/usr/local/lib/python3.9/site-packages/requests/api.py\u001b[0m in \u001b[0;36mget\u001b[0;34m(url, params, **kwargs)\u001b[0m\n\u001b[1;32m     67\u001b[0m \u001b[0;34m\u001b[0m\u001b[0m\n\u001b[1;32m     68\u001b[0m     \u001b[0mkwargs\u001b[0m\u001b[0;34m.\u001b[0m\u001b[0msetdefault\u001b[0m\u001b[0;34m(\u001b[0m\u001b[0;34m'allow_redirects'\u001b[0m\u001b[0;34m,\u001b[0m \u001b[0;32mTrue\u001b[0m\u001b[0;34m)\u001b[0m\u001b[0;34m\u001b[0m\u001b[0;34m\u001b[0m\u001b[0m\n\u001b[0;32m---> 69\u001b[0;31m     \u001b[0;32mreturn\u001b[0m \u001b[0mrequest\u001b[0m\u001b[0;34m(\u001b[0m\u001b[0;34m'get'\u001b[0m\u001b[0;34m,\u001b[0m \u001b[0murl\u001b[0m\u001b[0;34m,\u001b[0m \u001b[0mparams\u001b[0m\u001b[0;34m=\u001b[0m\u001b[0mparams\u001b[0m\u001b[0;34m,\u001b[0m \u001b[0;34m**\u001b[0m\u001b[0mkwargs\u001b[0m\u001b[0;34m)\u001b[0m\u001b[0;34m\u001b[0m\u001b[0;34m\u001b[0m\u001b[0m\n\u001b[0m\u001b[1;32m     70\u001b[0m \u001b[0;34m\u001b[0m\u001b[0m\n\u001b[1;32m     71\u001b[0m \u001b[0;34m\u001b[0m\u001b[0m\n",
      "\u001b[0;32m/usr/local/lib/python3.9/site-packages/requests/api.py\u001b[0m in \u001b[0;36mrequest\u001b[0;34m(method, url, **kwargs)\u001b[0m\n\u001b[1;32m     48\u001b[0m \u001b[0;34m\u001b[0m\u001b[0m\n\u001b[1;32m     49\u001b[0m     \u001b[0msession\u001b[0m \u001b[0;34m=\u001b[0m \u001b[0msessions\u001b[0m\u001b[0;34m.\u001b[0m\u001b[0mSession\u001b[0m\u001b[0;34m(\u001b[0m\u001b[0;34m)\u001b[0m\u001b[0;34m\u001b[0m\u001b[0;34m\u001b[0m\u001b[0m\n\u001b[0;32m---> 50\u001b[0;31m     \u001b[0mresponse\u001b[0m \u001b[0;34m=\u001b[0m \u001b[0msession\u001b[0m\u001b[0;34m.\u001b[0m\u001b[0mrequest\u001b[0m\u001b[0;34m(\u001b[0m\u001b[0mmethod\u001b[0m\u001b[0;34m=\u001b[0m\u001b[0mmethod\u001b[0m\u001b[0;34m,\u001b[0m \u001b[0murl\u001b[0m\u001b[0;34m=\u001b[0m\u001b[0murl\u001b[0m\u001b[0;34m,\u001b[0m \u001b[0;34m**\u001b[0m\u001b[0mkwargs\u001b[0m\u001b[0;34m)\u001b[0m\u001b[0;34m\u001b[0m\u001b[0;34m\u001b[0m\u001b[0m\n\u001b[0m\u001b[1;32m     51\u001b[0m     \u001b[0;31m# By explicitly closing the session, we avoid leaving sockets open which\u001b[0m\u001b[0;34m\u001b[0m\u001b[0;34m\u001b[0m\u001b[0m\n\u001b[1;32m     52\u001b[0m     \u001b[0;31m# can trigger a ResourceWarning in some cases, and look like a memory leak\u001b[0m\u001b[0;34m\u001b[0m\u001b[0;34m\u001b[0m\u001b[0m\n",
      "\u001b[0;32m/usr/local/lib/python3.9/site-packages/requests/sessions.py\u001b[0m in \u001b[0;36mrequest\u001b[0;34m(self, method, url, params, data, headers, cookies, files, auth, timeout, allow_redirects, proxies, hooks, stream, verify, cert, json)\u001b[0m\n\u001b[1;32m    463\u001b[0m         }\n\u001b[1;32m    464\u001b[0m         \u001b[0msend_kwargs\u001b[0m\u001b[0;34m.\u001b[0m\u001b[0mupdate\u001b[0m\u001b[0;34m(\u001b[0m\u001b[0msettings\u001b[0m\u001b[0;34m)\u001b[0m\u001b[0;34m\u001b[0m\u001b[0;34m\u001b[0m\u001b[0m\n\u001b[0;32m--> 465\u001b[0;31m         \u001b[0mresp\u001b[0m \u001b[0;34m=\u001b[0m \u001b[0mself\u001b[0m\u001b[0;34m.\u001b[0m\u001b[0msend\u001b[0m\u001b[0;34m(\u001b[0m\u001b[0mprep\u001b[0m\u001b[0;34m,\u001b[0m \u001b[0;34m**\u001b[0m\u001b[0msend_kwargs\u001b[0m\u001b[0;34m)\u001b[0m\u001b[0;34m\u001b[0m\u001b[0;34m\u001b[0m\u001b[0m\n\u001b[0m\u001b[1;32m    466\u001b[0m \u001b[0;34m\u001b[0m\u001b[0m\n\u001b[1;32m    467\u001b[0m         \u001b[0;32mreturn\u001b[0m \u001b[0mresp\u001b[0m\u001b[0;34m\u001b[0m\u001b[0;34m\u001b[0m\u001b[0m\n",
      "\u001b[0;32m/usr/local/lib/python3.9/site-packages/requests/sessions.py\u001b[0m in \u001b[0;36msend\u001b[0;34m(self, request, **kwargs)\u001b[0m\n\u001b[1;32m    571\u001b[0m \u001b[0;34m\u001b[0m\u001b[0m\n\u001b[1;32m    572\u001b[0m         \u001b[0;31m# Send the request\u001b[0m\u001b[0;34m\u001b[0m\u001b[0;34m\u001b[0m\u001b[0m\n\u001b[0;32m--> 573\u001b[0;31m         \u001b[0mr\u001b[0m \u001b[0;34m=\u001b[0m \u001b[0madapter\u001b[0m\u001b[0;34m.\u001b[0m\u001b[0msend\u001b[0m\u001b[0;34m(\u001b[0m\u001b[0mrequest\u001b[0m\u001b[0;34m,\u001b[0m \u001b[0;34m**\u001b[0m\u001b[0mkwargs\u001b[0m\u001b[0;34m)\u001b[0m\u001b[0;34m\u001b[0m\u001b[0;34m\u001b[0m\u001b[0m\n\u001b[0m\u001b[1;32m    574\u001b[0m \u001b[0;34m\u001b[0m\u001b[0m\n\u001b[1;32m    575\u001b[0m         \u001b[0;31m# Total elapsed time of the request (approximately)\u001b[0m\u001b[0;34m\u001b[0m\u001b[0;34m\u001b[0m\u001b[0m\n",
      "\u001b[0;32m/usr/local/lib/python3.9/site-packages/requests/adapters.py\u001b[0m in \u001b[0;36msend\u001b[0;34m(self, request, stream, timeout, verify, cert, proxies)\u001b[0m\n\u001b[1;32m    358\u001b[0m         \u001b[0;32mtry\u001b[0m\u001b[0;34m:\u001b[0m\u001b[0;34m\u001b[0m\u001b[0;34m\u001b[0m\u001b[0m\n\u001b[1;32m    359\u001b[0m             \u001b[0;32mif\u001b[0m \u001b[0;32mnot\u001b[0m \u001b[0mchunked\u001b[0m\u001b[0;34m:\u001b[0m\u001b[0;34m\u001b[0m\u001b[0;34m\u001b[0m\u001b[0m\n\u001b[0;32m--> 360\u001b[0;31m                 resp = conn.urlopen(\n\u001b[0m\u001b[1;32m    361\u001b[0m                     \u001b[0mmethod\u001b[0m\u001b[0;34m=\u001b[0m\u001b[0mrequest\u001b[0m\u001b[0;34m.\u001b[0m\u001b[0mmethod\u001b[0m\u001b[0;34m,\u001b[0m\u001b[0;34m\u001b[0m\u001b[0;34m\u001b[0m\u001b[0m\n\u001b[1;32m    362\u001b[0m                     \u001b[0murl\u001b[0m\u001b[0;34m=\u001b[0m\u001b[0murl\u001b[0m\u001b[0;34m,\u001b[0m\u001b[0;34m\u001b[0m\u001b[0;34m\u001b[0m\u001b[0m\n",
      "\u001b[0;32m/usr/local/lib/python3.9/site-packages/requests/packages/urllib3/connectionpool.py\u001b[0m in \u001b[0;36murlopen\u001b[0;34m(self, method, url, body, headers, retries, redirect, assert_same_host, timeout, pool_timeout, release_conn, **response_kw)\u001b[0m\n\u001b[1;32m    540\u001b[0m \u001b[0;34m\u001b[0m\u001b[0m\n\u001b[1;32m    541\u001b[0m             \u001b[0;31m# Make the request on the httplib connection object.\u001b[0m\u001b[0;34m\u001b[0m\u001b[0;34m\u001b[0m\u001b[0m\n\u001b[0;32m--> 542\u001b[0;31m             httplib_response = self._make_request(conn, method, url,\n\u001b[0m\u001b[1;32m    543\u001b[0m                                                   \u001b[0mtimeout\u001b[0m\u001b[0;34m=\u001b[0m\u001b[0mtimeout_obj\u001b[0m\u001b[0;34m,\u001b[0m\u001b[0;34m\u001b[0m\u001b[0;34m\u001b[0m\u001b[0m\n\u001b[1;32m    544\u001b[0m                                                   body=body, headers=headers)\n",
      "\u001b[0;32m/usr/local/lib/python3.9/site-packages/requests/packages/urllib3/connectionpool.py\u001b[0m in \u001b[0;36m_make_request\u001b[0;34m(self, conn, method, url, timeout, **httplib_request_kw)\u001b[0m\n\u001b[1;32m    372\u001b[0m                 \u001b[0mhttplib_response\u001b[0m \u001b[0;34m=\u001b[0m \u001b[0mconn\u001b[0m\u001b[0;34m.\u001b[0m\u001b[0mgetresponse\u001b[0m\u001b[0;34m(\u001b[0m\u001b[0mbuffering\u001b[0m\u001b[0;34m=\u001b[0m\u001b[0;32mTrue\u001b[0m\u001b[0;34m)\u001b[0m\u001b[0;34m\u001b[0m\u001b[0;34m\u001b[0m\u001b[0m\n\u001b[1;32m    373\u001b[0m             \u001b[0;32mexcept\u001b[0m \u001b[0mTypeError\u001b[0m\u001b[0;34m:\u001b[0m  \u001b[0;31m# Python 2.6 and older\u001b[0m\u001b[0;34m\u001b[0m\u001b[0;34m\u001b[0m\u001b[0m\n\u001b[0;32m--> 374\u001b[0;31m                 \u001b[0mhttplib_response\u001b[0m \u001b[0;34m=\u001b[0m \u001b[0mconn\u001b[0m\u001b[0;34m.\u001b[0m\u001b[0mgetresponse\u001b[0m\u001b[0;34m(\u001b[0m\u001b[0;34m)\u001b[0m\u001b[0;34m\u001b[0m\u001b[0;34m\u001b[0m\u001b[0m\n\u001b[0m\u001b[1;32m    375\u001b[0m         \u001b[0;32mexcept\u001b[0m \u001b[0;34m(\u001b[0m\u001b[0mSocketTimeout\u001b[0m\u001b[0;34m,\u001b[0m \u001b[0mBaseSSLError\u001b[0m\u001b[0;34m,\u001b[0m \u001b[0mSocketError\u001b[0m\u001b[0;34m)\u001b[0m \u001b[0;32mas\u001b[0m \u001b[0me\u001b[0m\u001b[0;34m:\u001b[0m\u001b[0;34m\u001b[0m\u001b[0;34m\u001b[0m\u001b[0m\n\u001b[1;32m    376\u001b[0m             \u001b[0mself\u001b[0m\u001b[0;34m.\u001b[0m\u001b[0m_raise_timeout\u001b[0m\u001b[0;34m(\u001b[0m\u001b[0merr\u001b[0m\u001b[0;34m=\u001b[0m\u001b[0me\u001b[0m\u001b[0;34m,\u001b[0m \u001b[0murl\u001b[0m\u001b[0;34m=\u001b[0m\u001b[0murl\u001b[0m\u001b[0;34m,\u001b[0m \u001b[0mtimeout_value\u001b[0m\u001b[0;34m=\u001b[0m\u001b[0mread_timeout\u001b[0m\u001b[0;34m)\u001b[0m\u001b[0;34m\u001b[0m\u001b[0;34m\u001b[0m\u001b[0m\n",
      "\u001b[0;32m/usr/local/Cellar/python@3.9/3.9.9/Frameworks/Python.framework/Versions/3.9/lib/python3.9/http/client.py\u001b[0m in \u001b[0;36mgetresponse\u001b[0;34m(self)\u001b[0m\n\u001b[1;32m   1375\u001b[0m         \u001b[0;32mtry\u001b[0m\u001b[0;34m:\u001b[0m\u001b[0;34m\u001b[0m\u001b[0;34m\u001b[0m\u001b[0m\n\u001b[1;32m   1376\u001b[0m             \u001b[0;32mtry\u001b[0m\u001b[0;34m:\u001b[0m\u001b[0;34m\u001b[0m\u001b[0;34m\u001b[0m\u001b[0m\n\u001b[0;32m-> 1377\u001b[0;31m                 \u001b[0mresponse\u001b[0m\u001b[0;34m.\u001b[0m\u001b[0mbegin\u001b[0m\u001b[0;34m(\u001b[0m\u001b[0;34m)\u001b[0m\u001b[0;34m\u001b[0m\u001b[0;34m\u001b[0m\u001b[0m\n\u001b[0m\u001b[1;32m   1378\u001b[0m             \u001b[0;32mexcept\u001b[0m \u001b[0mConnectionError\u001b[0m\u001b[0;34m:\u001b[0m\u001b[0;34m\u001b[0m\u001b[0;34m\u001b[0m\u001b[0m\n\u001b[1;32m   1379\u001b[0m                 \u001b[0mself\u001b[0m\u001b[0;34m.\u001b[0m\u001b[0mclose\u001b[0m\u001b[0;34m(\u001b[0m\u001b[0;34m)\u001b[0m\u001b[0;34m\u001b[0m\u001b[0;34m\u001b[0m\u001b[0m\n",
      "\u001b[0;32m/usr/local/Cellar/python@3.9/3.9.9/Frameworks/Python.framework/Versions/3.9/lib/python3.9/http/client.py\u001b[0m in \u001b[0;36mbegin\u001b[0;34m(self)\u001b[0m\n\u001b[1;32m    318\u001b[0m         \u001b[0;31m# read until we get a non-100 response\u001b[0m\u001b[0;34m\u001b[0m\u001b[0;34m\u001b[0m\u001b[0m\n\u001b[1;32m    319\u001b[0m         \u001b[0;32mwhile\u001b[0m \u001b[0;32mTrue\u001b[0m\u001b[0;34m:\u001b[0m\u001b[0;34m\u001b[0m\u001b[0;34m\u001b[0m\u001b[0m\n\u001b[0;32m--> 320\u001b[0;31m             \u001b[0mversion\u001b[0m\u001b[0;34m,\u001b[0m \u001b[0mstatus\u001b[0m\u001b[0;34m,\u001b[0m \u001b[0mreason\u001b[0m \u001b[0;34m=\u001b[0m \u001b[0mself\u001b[0m\u001b[0;34m.\u001b[0m\u001b[0m_read_status\u001b[0m\u001b[0;34m(\u001b[0m\u001b[0;34m)\u001b[0m\u001b[0;34m\u001b[0m\u001b[0;34m\u001b[0m\u001b[0m\n\u001b[0m\u001b[1;32m    321\u001b[0m             \u001b[0;32mif\u001b[0m \u001b[0mstatus\u001b[0m \u001b[0;34m!=\u001b[0m \u001b[0mCONTINUE\u001b[0m\u001b[0;34m:\u001b[0m\u001b[0;34m\u001b[0m\u001b[0;34m\u001b[0m\u001b[0m\n\u001b[1;32m    322\u001b[0m                 \u001b[0;32mbreak\u001b[0m\u001b[0;34m\u001b[0m\u001b[0;34m\u001b[0m\u001b[0m\n",
      "\u001b[0;32m/usr/local/Cellar/python@3.9/3.9.9/Frameworks/Python.framework/Versions/3.9/lib/python3.9/http/client.py\u001b[0m in \u001b[0;36m_read_status\u001b[0;34m(self)\u001b[0m\n\u001b[1;32m    279\u001b[0m \u001b[0;34m\u001b[0m\u001b[0m\n\u001b[1;32m    280\u001b[0m     \u001b[0;32mdef\u001b[0m \u001b[0m_read_status\u001b[0m\u001b[0;34m(\u001b[0m\u001b[0mself\u001b[0m\u001b[0;34m)\u001b[0m\u001b[0;34m:\u001b[0m\u001b[0;34m\u001b[0m\u001b[0;34m\u001b[0m\u001b[0m\n\u001b[0;32m--> 281\u001b[0;31m         \u001b[0mline\u001b[0m \u001b[0;34m=\u001b[0m \u001b[0mstr\u001b[0m\u001b[0;34m(\u001b[0m\u001b[0mself\u001b[0m\u001b[0;34m.\u001b[0m\u001b[0mfp\u001b[0m\u001b[0;34m.\u001b[0m\u001b[0mreadline\u001b[0m\u001b[0;34m(\u001b[0m\u001b[0m_MAXLINE\u001b[0m \u001b[0;34m+\u001b[0m \u001b[0;36m1\u001b[0m\u001b[0;34m)\u001b[0m\u001b[0;34m,\u001b[0m \u001b[0;34m\"iso-8859-1\"\u001b[0m\u001b[0;34m)\u001b[0m\u001b[0;34m\u001b[0m\u001b[0;34m\u001b[0m\u001b[0m\n\u001b[0m\u001b[1;32m    282\u001b[0m         \u001b[0;32mif\u001b[0m \u001b[0mlen\u001b[0m\u001b[0;34m(\u001b[0m\u001b[0mline\u001b[0m\u001b[0;34m)\u001b[0m \u001b[0;34m>\u001b[0m \u001b[0m_MAXLINE\u001b[0m\u001b[0;34m:\u001b[0m\u001b[0;34m\u001b[0m\u001b[0;34m\u001b[0m\u001b[0m\n\u001b[1;32m    283\u001b[0m             \u001b[0;32mraise\u001b[0m \u001b[0mLineTooLong\u001b[0m\u001b[0;34m(\u001b[0m\u001b[0;34m\"status line\"\u001b[0m\u001b[0;34m)\u001b[0m\u001b[0;34m\u001b[0m\u001b[0;34m\u001b[0m\u001b[0m\n",
      "\u001b[0;32m/usr/local/Cellar/python@3.9/3.9.9/Frameworks/Python.framework/Versions/3.9/lib/python3.9/socket.py\u001b[0m in \u001b[0;36mreadinto\u001b[0;34m(self, b)\u001b[0m\n\u001b[1;32m    702\u001b[0m         \u001b[0;32mwhile\u001b[0m \u001b[0;32mTrue\u001b[0m\u001b[0;34m:\u001b[0m\u001b[0;34m\u001b[0m\u001b[0;34m\u001b[0m\u001b[0m\n\u001b[1;32m    703\u001b[0m             \u001b[0;32mtry\u001b[0m\u001b[0;34m:\u001b[0m\u001b[0;34m\u001b[0m\u001b[0;34m\u001b[0m\u001b[0m\n\u001b[0;32m--> 704\u001b[0;31m                 \u001b[0;32mreturn\u001b[0m \u001b[0mself\u001b[0m\u001b[0;34m.\u001b[0m\u001b[0m_sock\u001b[0m\u001b[0;34m.\u001b[0m\u001b[0mrecv_into\u001b[0m\u001b[0;34m(\u001b[0m\u001b[0mb\u001b[0m\u001b[0;34m)\u001b[0m\u001b[0;34m\u001b[0m\u001b[0;34m\u001b[0m\u001b[0m\n\u001b[0m\u001b[1;32m    705\u001b[0m             \u001b[0;32mexcept\u001b[0m \u001b[0mtimeout\u001b[0m\u001b[0;34m:\u001b[0m\u001b[0;34m\u001b[0m\u001b[0;34m\u001b[0m\u001b[0m\n\u001b[1;32m    706\u001b[0m                 \u001b[0mself\u001b[0m\u001b[0;34m.\u001b[0m\u001b[0m_timeout_occurred\u001b[0m \u001b[0;34m=\u001b[0m \u001b[0;32mTrue\u001b[0m\u001b[0;34m\u001b[0m\u001b[0;34m\u001b[0m\u001b[0m\n",
      "\u001b[0;31mKeyboardInterrupt\u001b[0m: "
     ]
    }
   ],
   "source": [
    "data = get_json(lol)"
   ]
  },
  {
   "cell_type": "code",
   "execution_count": 12,
   "metadata": {},
   "outputs": [
    {
     "data": {
      "text/plain": [
       "2316"
      ]
     },
     "execution_count": 12,
     "metadata": {},
     "output_type": "execute_result"
    }
   ],
   "source": [
    "result = get_monte_carlo_data_points(data)\n",
    "result"
   ]
  },
  {
   "cell_type": "code",
   "execution_count": 85,
   "metadata": {},
   "outputs": [
    {
     "data": {
      "text/plain": [
       "6"
      ]
     },
     "execution_count": 85,
     "metadata": {},
     "output_type": "execute_result"
    }
   ],
   "source": []
  },
  {
   "cell_type": "markdown",
   "metadata": {},
   "source": [
    "# Random sampling functionality\n",
    "Random sampling functionality for simulations. Use previously made random gene sets."
   ]
  },
  {
   "cell_type": "code",
   "execution_count": 9,
   "metadata": {},
   "outputs": [],
   "source": [
    "def get_random_sample(length):\n",
    "\n",
    "    with open('allGenes.yaml') as f:\n",
    "        all_genes = f.read().splitlines()    \n",
    "\n",
    "    sample = random.sample(all_genes, length)\n",
    "\n",
    "    return(sample)\n",
    "\n",
    "# For random sampling purposes, save json for later retrieval\n",
    "def save_json(data,file_name):\n",
    "\n",
    "    with open('json/' + file_name + '.json', 'w') as outfile:\n",
    "        json.dump(data, outfile)\n",
    "\n",
    "    pass"
   ]
  },
  {
   "cell_type": "code",
   "execution_count": 13,
   "metadata": {},
   "outputs": [
    {
     "data": {
      "text/plain": [
       "['TCHH',\n",
       " 'TSHRL3',\n",
       " 'RNU2-1',\n",
       " 'TRPM1',\n",
       " 'NPTX2',\n",
       " 'LINC01256',\n",
       " 'NUP37',\n",
       " 'INTS8',\n",
       " 'ATP5J',\n",
       " 'SP2-AS1',\n",
       " 'RBP4',\n",
       " 'CLYBL-AS1',\n",
       " 'OR1L3',\n",
       " 'RHCG',\n",
       " 'DHRSX',\n",
       " 'ZYG11A',\n",
       " 'ITGB5',\n",
       " 'TNNI1',\n",
       " 'TMEM249',\n",
       " 'HEATR9',\n",
       " 'SYCP2',\n",
       " 'LINC00244',\n",
       " 'LINC00440',\n",
       " 'ANKRD65',\n",
       " 'LINC01123',\n",
       " 'MET',\n",
       " 'TRT-AGT2-1',\n",
       " 'POSTN',\n",
       " 'IGHV1-8',\n",
       " 'ZNHIT3',\n",
       " 'CYP4F22',\n",
       " 'PRR20E',\n",
       " 'SLC17A7',\n",
       " 'TUBB4B',\n",
       " 'DFNB68',\n",
       " 'SNORD115-47',\n",
       " 'SPG37',\n",
       " 'ZBTB43',\n",
       " 'C5orf45',\n",
       " 'TCF15',\n",
       " 'C11orf1',\n",
       " 'CDK5RAP1',\n",
       " 'AKIRIN1',\n",
       " 'HEXB',\n",
       " 'EPHA5',\n",
       " 'DSCAM',\n",
       " 'ZEB2-AS1',\n",
       " 'KRTAP5-AS1',\n",
       " 'MT3',\n",
       " 'G6PC3',\n",
       " 'TRBV10-2',\n",
       " 'ZBP1',\n",
       " 'CYP46A1',\n",
       " 'CEP57',\n",
       " 'FUT8',\n",
       " 'PRSS51',\n",
       " 'TUBB3',\n",
       " 'MBL2',\n",
       " 'IGHV4-30-4',\n",
       " 'RPS24',\n",
       " 'ERVK-21',\n",
       " 'SLX1A',\n",
       " 'RAB32',\n",
       " 'LINC00462',\n",
       " 'PIRC39',\n",
       " 'NEURL1B',\n",
       " 'MRPS26',\n",
       " 'APOC2',\n",
       " 'LINC01291',\n",
       " 'GUSB',\n",
       " 'PRPF3',\n",
       " 'GRIN1',\n",
       " 'VRK1',\n",
       " 'TAPBPL',\n",
       " 'PSMD3',\n",
       " 'FAM171B']"
      ]
     },
     "execution_count": 13,
     "metadata": {},
     "output_type": "execute_result"
    }
   ],
   "source": [
    "random_genes = get_random_sample(len(lol))\n",
    "random_genes"
   ]
  },
  {
   "cell_type": "code",
   "execution_count": 96,
   "metadata": {},
   "outputs": [],
   "source": [
    "random_data = get_json(random_genes)\n"
   ]
  },
  {
   "cell_type": "code",
   "execution_count": 95,
   "metadata": {},
   "outputs": [
    {
     "data": {
      "text/plain": [
       "93"
      ]
     },
     "execution_count": 95,
     "metadata": {},
     "output_type": "execute_result"
    }
   ],
   "source": [
    "random_result = get_monte_carlo_data_points(random_data)\n",
    "random_result"
   ]
  },
  {
   "cell_type": "markdown",
   "metadata": {},
   "source": [
    "# Putting it all together\n",
    "Do an actual monte carlo simulation with 500 samples (499 + 1)"
   ]
  },
  {
   "cell_type": "code",
   "execution_count": 10,
   "metadata": {},
   "outputs": [],
   "source": [
    "\n",
    "def run_monte_carlo_simulation(genes_df,disease):\n",
    "\n",
    "    # Putting it all together \n",
    "    df = pd.DataFrame()\n",
    "    sample_source_list = list()\n",
    "    number_of_drugs_list = list()\n",
    "    genes_input_list = list()\n",
    "\n",
    "    # disease_sets has full list, but random samples length will change depending on gene set length\n",
    "\n",
    "    # Primary samples\n",
    "    primary_sample = get_gene_set(disease,genes_df)\n",
    "    data = get_json(primary_sample)\n",
    "    result = get_monte_carlo_data_points(data)\n",
    "\n",
    "    sample_source_list.append(disease)\n",
    "    number_of_drugs_list.append(str(result))\n",
    "    genes_input_list.append(primary_sample)\n",
    "\n",
    "    # Loop\n",
    "    loop_counter = 1\n",
    "\n",
    "    while loop_counter < 500:\n",
    "        random_sample = get_random_sample(len(primary_sample))\n",
    "        random_data = get_json(random_sample)\n",
    "        random_result = get_monte_carlo_data_points(random_data)\n",
    "\n",
    "        sample_source_list.append('random_sample')\n",
    "        number_of_drugs_list.append(int(random_result))\n",
    "        genes_input_list.append(random_sample)\n",
    "\n",
    "        loop_counter += 1\n",
    "        if loop_counter == 1 | 50 | 100 | 200 | 300 | 400 | 500:\n",
    "            print(str('On iteration ' + loop_counter + 'for disease state: ' + disease))\n",
    "\n",
    "    df = df.assign(sample_source=sample_source_list, number_of_drugs=number_of_drugs_list, genes_input=genes_input_list)\n",
    "\n",
    "    # Write DataFrames to excel files by query input\n",
    "    file_name = disease\n",
    "    writer = pd.ExcelWriter('simulation_results/' + file_name + '.xlsx')\n",
    "    df.to_excel(writer,sheet_name='results')\n",
    "    print('Saving simulation result for ' + disease)\n",
    "    writer.save()\n",
    "\n",
    "\n",
    "    return(df)"
   ]
  },
  {
   "cell_type": "code",
   "execution_count": 13,
   "metadata": {},
   "outputs": [
    {
     "name": "stdout",
     "output_type": "stream",
     "text": [
      "hereditaryCancer\n",
      "metabolicDiseases\n",
      "renalDiseases\n",
      "brainCancer\n",
      "cardiacDisorders\n",
      "cnsCancer\n",
      "skinDiseases\n",
      "t-All\n",
      "wilmsTumor\n",
      "MDS\n",
      "epilepsy\n",
      "pediatricCancer\n",
      "pediatricDisease\n"
     ]
    }
   ],
   "source": [
    "for i in disease_sets:\n",
    "    print(i)"
   ]
  },
  {
   "cell_type": "code",
   "execution_count": 51,
   "metadata": {},
   "outputs": [
    {
     "name": "stdout",
     "output_type": "stream",
     "text": [
      "Saving simulation result for hereditaryCancer\n",
      "Saving simulation result for metabolicDiseases\n",
      "Saving simulation result for renalDiseases\n"
     ]
    },
    {
     "ename": "KeyboardInterrupt",
     "evalue": "",
     "output_type": "error",
     "traceback": [
      "\u001b[0;31m---------------------------------------------------------------------------\u001b[0m",
      "\u001b[0;31mTypeError\u001b[0m                                 Traceback (most recent call last)",
      "\u001b[0;32m/usr/local/lib/python3.9/site-packages/requests/packages/urllib3/connectionpool.py\u001b[0m in \u001b[0;36m_make_request\u001b[0;34m(self, conn, method, url, timeout, **httplib_request_kw)\u001b[0m\n\u001b[1;32m    371\u001b[0m             \u001b[0;32mtry\u001b[0m\u001b[0;34m:\u001b[0m  \u001b[0;31m# Python 2.7, use buffering of HTTP responses\u001b[0m\u001b[0;34m\u001b[0m\u001b[0;34m\u001b[0m\u001b[0m\n\u001b[0;32m--> 372\u001b[0;31m                 \u001b[0mhttplib_response\u001b[0m \u001b[0;34m=\u001b[0m \u001b[0mconn\u001b[0m\u001b[0;34m.\u001b[0m\u001b[0mgetresponse\u001b[0m\u001b[0;34m(\u001b[0m\u001b[0mbuffering\u001b[0m\u001b[0;34m=\u001b[0m\u001b[0;32mTrue\u001b[0m\u001b[0;34m)\u001b[0m\u001b[0;34m\u001b[0m\u001b[0;34m\u001b[0m\u001b[0m\n\u001b[0m\u001b[1;32m    373\u001b[0m             \u001b[0;32mexcept\u001b[0m \u001b[0mTypeError\u001b[0m\u001b[0;34m:\u001b[0m  \u001b[0;31m# Python 2.6 and older\u001b[0m\u001b[0;34m\u001b[0m\u001b[0;34m\u001b[0m\u001b[0m\n",
      "\u001b[0;31mTypeError\u001b[0m: getresponse() got an unexpected keyword argument 'buffering'",
      "\nDuring handling of the above exception, another exception occurred:\n",
      "\u001b[0;31mKeyboardInterrupt\u001b[0m                         Traceback (most recent call last)",
      "\u001b[0;32m/var/folders/m6/b6y4g9114836jky8p81w12mchscvrj/T/ipykernel_3707/2388400793.py\u001b[0m in \u001b[0;36m<module>\u001b[0;34m\u001b[0m\n\u001b[1;32m      1\u001b[0m \u001b[0;32mfor\u001b[0m \u001b[0mi\u001b[0m \u001b[0;32min\u001b[0m \u001b[0mdisease_sets\u001b[0m\u001b[0;34m:\u001b[0m\u001b[0;34m\u001b[0m\u001b[0;34m\u001b[0m\u001b[0m\n\u001b[0;32m----> 2\u001b[0;31m     \u001b[0mrun_monte_carlo_simulation\u001b[0m\u001b[0;34m(\u001b[0m\u001b[0mgenes_df\u001b[0m\u001b[0;34m,\u001b[0m\u001b[0mi\u001b[0m\u001b[0;34m)\u001b[0m\u001b[0;34m\u001b[0m\u001b[0;34m\u001b[0m\u001b[0m\n\u001b[0m",
      "\u001b[0;32m/var/folders/m6/b6y4g9114836jky8p81w12mchscvrj/T/ipykernel_3707/677805901.py\u001b[0m in \u001b[0;36mrun_monte_carlo_simulation\u001b[0;34m(genes_df, disease)\u001b[0m\n\u001b[1;32m     23\u001b[0m     \u001b[0;32mwhile\u001b[0m \u001b[0mloop_counter\u001b[0m \u001b[0;34m<\u001b[0m \u001b[0;36m500\u001b[0m\u001b[0;34m:\u001b[0m\u001b[0;34m\u001b[0m\u001b[0;34m\u001b[0m\u001b[0m\n\u001b[1;32m     24\u001b[0m         \u001b[0mrandom_sample\u001b[0m \u001b[0;34m=\u001b[0m \u001b[0mget_random_sample\u001b[0m\u001b[0;34m(\u001b[0m\u001b[0mlen\u001b[0m\u001b[0;34m(\u001b[0m\u001b[0mprimary_sample\u001b[0m\u001b[0;34m)\u001b[0m\u001b[0;34m)\u001b[0m\u001b[0;34m\u001b[0m\u001b[0;34m\u001b[0m\u001b[0m\n\u001b[0;32m---> 25\u001b[0;31m         \u001b[0mrandom_data\u001b[0m \u001b[0;34m=\u001b[0m \u001b[0mget_json\u001b[0m\u001b[0;34m(\u001b[0m\u001b[0mrandom_sample\u001b[0m\u001b[0;34m)\u001b[0m\u001b[0;34m\u001b[0m\u001b[0;34m\u001b[0m\u001b[0m\n\u001b[0m\u001b[1;32m     26\u001b[0m         \u001b[0mrandom_result\u001b[0m \u001b[0;34m=\u001b[0m \u001b[0mget_monte_carlo_data_points\u001b[0m\u001b[0;34m(\u001b[0m\u001b[0mrandom_data\u001b[0m\u001b[0;34m)\u001b[0m\u001b[0;34m\u001b[0m\u001b[0;34m\u001b[0m\u001b[0m\n\u001b[1;32m     27\u001b[0m \u001b[0;34m\u001b[0m\u001b[0m\n",
      "\u001b[0;32m/var/folders/m6/b6y4g9114836jky8p81w12mchscvrj/T/ipykernel_3707/1059869762.py\u001b[0m in \u001b[0;36mget_json\u001b[0;34m(input_genes)\u001b[0m\n\u001b[1;32m     20\u001b[0m     \u001b[0minput_genes\u001b[0m \u001b[0;34m=\u001b[0m \u001b[0;34m','\u001b[0m\u001b[0;34m.\u001b[0m\u001b[0mjoin\u001b[0m\u001b[0;34m(\u001b[0m\u001b[0minput_genes\u001b[0m\u001b[0;34m)\u001b[0m\u001b[0;34m\u001b[0m\u001b[0;34m\u001b[0m\u001b[0m\n\u001b[1;32m     21\u001b[0m \u001b[0;34m\u001b[0m\u001b[0m\n\u001b[0;32m---> 22\u001b[0;31m     \u001b[0mr\u001b[0m \u001b[0;34m=\u001b[0m \u001b[0mrequests\u001b[0m\u001b[0;34m.\u001b[0m\u001b[0mget\u001b[0m\u001b[0;34m(\u001b[0m\u001b[0;34m'http://localhost:3000/api/v2/interactions.json?genes='\u001b[0m \u001b[0;34m+\u001b[0m \u001b[0minput_genes\u001b[0m \u001b[0;34m+\u001b[0m \u001b[0;34m'&fda_approved_drug=true'\u001b[0m\u001b[0;34m)\u001b[0m\u001b[0;34m\u001b[0m\u001b[0;34m\u001b[0m\u001b[0m\n\u001b[0m\u001b[1;32m     23\u001b[0m     \u001b[0mdata\u001b[0m \u001b[0;34m=\u001b[0m \u001b[0mr\u001b[0m\u001b[0;34m.\u001b[0m\u001b[0mjson\u001b[0m\u001b[0;34m(\u001b[0m\u001b[0;34m)\u001b[0m\u001b[0;34m\u001b[0m\u001b[0;34m\u001b[0m\u001b[0m\n\u001b[1;32m     24\u001b[0m \u001b[0;34m\u001b[0m\u001b[0m\n",
      "\u001b[0;32m/usr/local/lib/python3.9/site-packages/requests/api.py\u001b[0m in \u001b[0;36mget\u001b[0;34m(url, params, **kwargs)\u001b[0m\n\u001b[1;32m     67\u001b[0m \u001b[0;34m\u001b[0m\u001b[0m\n\u001b[1;32m     68\u001b[0m     \u001b[0mkwargs\u001b[0m\u001b[0;34m.\u001b[0m\u001b[0msetdefault\u001b[0m\u001b[0;34m(\u001b[0m\u001b[0;34m'allow_redirects'\u001b[0m\u001b[0;34m,\u001b[0m \u001b[0;32mTrue\u001b[0m\u001b[0;34m)\u001b[0m\u001b[0;34m\u001b[0m\u001b[0;34m\u001b[0m\u001b[0m\n\u001b[0;32m---> 69\u001b[0;31m     \u001b[0;32mreturn\u001b[0m \u001b[0mrequest\u001b[0m\u001b[0;34m(\u001b[0m\u001b[0;34m'get'\u001b[0m\u001b[0;34m,\u001b[0m \u001b[0murl\u001b[0m\u001b[0;34m,\u001b[0m \u001b[0mparams\u001b[0m\u001b[0;34m=\u001b[0m\u001b[0mparams\u001b[0m\u001b[0;34m,\u001b[0m \u001b[0;34m**\u001b[0m\u001b[0mkwargs\u001b[0m\u001b[0;34m)\u001b[0m\u001b[0;34m\u001b[0m\u001b[0;34m\u001b[0m\u001b[0m\n\u001b[0m\u001b[1;32m     70\u001b[0m \u001b[0;34m\u001b[0m\u001b[0m\n\u001b[1;32m     71\u001b[0m \u001b[0;34m\u001b[0m\u001b[0m\n",
      "\u001b[0;32m/usr/local/lib/python3.9/site-packages/requests/api.py\u001b[0m in \u001b[0;36mrequest\u001b[0;34m(method, url, **kwargs)\u001b[0m\n\u001b[1;32m     48\u001b[0m \u001b[0;34m\u001b[0m\u001b[0m\n\u001b[1;32m     49\u001b[0m     \u001b[0msession\u001b[0m \u001b[0;34m=\u001b[0m \u001b[0msessions\u001b[0m\u001b[0;34m.\u001b[0m\u001b[0mSession\u001b[0m\u001b[0;34m(\u001b[0m\u001b[0;34m)\u001b[0m\u001b[0;34m\u001b[0m\u001b[0;34m\u001b[0m\u001b[0m\n\u001b[0;32m---> 50\u001b[0;31m     \u001b[0mresponse\u001b[0m \u001b[0;34m=\u001b[0m \u001b[0msession\u001b[0m\u001b[0;34m.\u001b[0m\u001b[0mrequest\u001b[0m\u001b[0;34m(\u001b[0m\u001b[0mmethod\u001b[0m\u001b[0;34m=\u001b[0m\u001b[0mmethod\u001b[0m\u001b[0;34m,\u001b[0m \u001b[0murl\u001b[0m\u001b[0;34m=\u001b[0m\u001b[0murl\u001b[0m\u001b[0;34m,\u001b[0m \u001b[0;34m**\u001b[0m\u001b[0mkwargs\u001b[0m\u001b[0;34m)\u001b[0m\u001b[0;34m\u001b[0m\u001b[0;34m\u001b[0m\u001b[0m\n\u001b[0m\u001b[1;32m     51\u001b[0m     \u001b[0;31m# By explicitly closing the session, we avoid leaving sockets open which\u001b[0m\u001b[0;34m\u001b[0m\u001b[0;34m\u001b[0m\u001b[0m\n\u001b[1;32m     52\u001b[0m     \u001b[0;31m# can trigger a ResourceWarning in some cases, and look like a memory leak\u001b[0m\u001b[0;34m\u001b[0m\u001b[0;34m\u001b[0m\u001b[0m\n",
      "\u001b[0;32m/usr/local/lib/python3.9/site-packages/requests/sessions.py\u001b[0m in \u001b[0;36mrequest\u001b[0;34m(self, method, url, params, data, headers, cookies, files, auth, timeout, allow_redirects, proxies, hooks, stream, verify, cert, json)\u001b[0m\n\u001b[1;32m    463\u001b[0m         }\n\u001b[1;32m    464\u001b[0m         \u001b[0msend_kwargs\u001b[0m\u001b[0;34m.\u001b[0m\u001b[0mupdate\u001b[0m\u001b[0;34m(\u001b[0m\u001b[0msettings\u001b[0m\u001b[0;34m)\u001b[0m\u001b[0;34m\u001b[0m\u001b[0;34m\u001b[0m\u001b[0m\n\u001b[0;32m--> 465\u001b[0;31m         \u001b[0mresp\u001b[0m \u001b[0;34m=\u001b[0m \u001b[0mself\u001b[0m\u001b[0;34m.\u001b[0m\u001b[0msend\u001b[0m\u001b[0;34m(\u001b[0m\u001b[0mprep\u001b[0m\u001b[0;34m,\u001b[0m \u001b[0;34m**\u001b[0m\u001b[0msend_kwargs\u001b[0m\u001b[0;34m)\u001b[0m\u001b[0;34m\u001b[0m\u001b[0;34m\u001b[0m\u001b[0m\n\u001b[0m\u001b[1;32m    466\u001b[0m \u001b[0;34m\u001b[0m\u001b[0m\n\u001b[1;32m    467\u001b[0m         \u001b[0;32mreturn\u001b[0m \u001b[0mresp\u001b[0m\u001b[0;34m\u001b[0m\u001b[0;34m\u001b[0m\u001b[0m\n",
      "\u001b[0;32m/usr/local/lib/python3.9/site-packages/requests/sessions.py\u001b[0m in \u001b[0;36msend\u001b[0;34m(self, request, **kwargs)\u001b[0m\n\u001b[1;32m    571\u001b[0m \u001b[0;34m\u001b[0m\u001b[0m\n\u001b[1;32m    572\u001b[0m         \u001b[0;31m# Send the request\u001b[0m\u001b[0;34m\u001b[0m\u001b[0;34m\u001b[0m\u001b[0m\n\u001b[0;32m--> 573\u001b[0;31m         \u001b[0mr\u001b[0m \u001b[0;34m=\u001b[0m \u001b[0madapter\u001b[0m\u001b[0;34m.\u001b[0m\u001b[0msend\u001b[0m\u001b[0;34m(\u001b[0m\u001b[0mrequest\u001b[0m\u001b[0;34m,\u001b[0m \u001b[0;34m**\u001b[0m\u001b[0mkwargs\u001b[0m\u001b[0;34m)\u001b[0m\u001b[0;34m\u001b[0m\u001b[0;34m\u001b[0m\u001b[0m\n\u001b[0m\u001b[1;32m    574\u001b[0m \u001b[0;34m\u001b[0m\u001b[0m\n\u001b[1;32m    575\u001b[0m         \u001b[0;31m# Total elapsed time of the request (approximately)\u001b[0m\u001b[0;34m\u001b[0m\u001b[0;34m\u001b[0m\u001b[0m\n",
      "\u001b[0;32m/usr/local/lib/python3.9/site-packages/requests/adapters.py\u001b[0m in \u001b[0;36msend\u001b[0;34m(self, request, stream, timeout, verify, cert, proxies)\u001b[0m\n\u001b[1;32m    358\u001b[0m         \u001b[0;32mtry\u001b[0m\u001b[0;34m:\u001b[0m\u001b[0;34m\u001b[0m\u001b[0;34m\u001b[0m\u001b[0m\n\u001b[1;32m    359\u001b[0m             \u001b[0;32mif\u001b[0m \u001b[0;32mnot\u001b[0m \u001b[0mchunked\u001b[0m\u001b[0;34m:\u001b[0m\u001b[0;34m\u001b[0m\u001b[0;34m\u001b[0m\u001b[0m\n\u001b[0;32m--> 360\u001b[0;31m                 resp = conn.urlopen(\n\u001b[0m\u001b[1;32m    361\u001b[0m                     \u001b[0mmethod\u001b[0m\u001b[0;34m=\u001b[0m\u001b[0mrequest\u001b[0m\u001b[0;34m.\u001b[0m\u001b[0mmethod\u001b[0m\u001b[0;34m,\u001b[0m\u001b[0;34m\u001b[0m\u001b[0;34m\u001b[0m\u001b[0m\n\u001b[1;32m    362\u001b[0m                     \u001b[0murl\u001b[0m\u001b[0;34m=\u001b[0m\u001b[0murl\u001b[0m\u001b[0;34m,\u001b[0m\u001b[0;34m\u001b[0m\u001b[0;34m\u001b[0m\u001b[0m\n",
      "\u001b[0;32m/usr/local/lib/python3.9/site-packages/requests/packages/urllib3/connectionpool.py\u001b[0m in \u001b[0;36murlopen\u001b[0;34m(self, method, url, body, headers, retries, redirect, assert_same_host, timeout, pool_timeout, release_conn, **response_kw)\u001b[0m\n\u001b[1;32m    540\u001b[0m \u001b[0;34m\u001b[0m\u001b[0m\n\u001b[1;32m    541\u001b[0m             \u001b[0;31m# Make the request on the httplib connection object.\u001b[0m\u001b[0;34m\u001b[0m\u001b[0;34m\u001b[0m\u001b[0m\n\u001b[0;32m--> 542\u001b[0;31m             httplib_response = self._make_request(conn, method, url,\n\u001b[0m\u001b[1;32m    543\u001b[0m                                                   \u001b[0mtimeout\u001b[0m\u001b[0;34m=\u001b[0m\u001b[0mtimeout_obj\u001b[0m\u001b[0;34m,\u001b[0m\u001b[0;34m\u001b[0m\u001b[0;34m\u001b[0m\u001b[0m\n\u001b[1;32m    544\u001b[0m                                                   body=body, headers=headers)\n",
      "\u001b[0;32m/usr/local/lib/python3.9/site-packages/requests/packages/urllib3/connectionpool.py\u001b[0m in \u001b[0;36m_make_request\u001b[0;34m(self, conn, method, url, timeout, **httplib_request_kw)\u001b[0m\n\u001b[1;32m    372\u001b[0m                 \u001b[0mhttplib_response\u001b[0m \u001b[0;34m=\u001b[0m \u001b[0mconn\u001b[0m\u001b[0;34m.\u001b[0m\u001b[0mgetresponse\u001b[0m\u001b[0;34m(\u001b[0m\u001b[0mbuffering\u001b[0m\u001b[0;34m=\u001b[0m\u001b[0;32mTrue\u001b[0m\u001b[0;34m)\u001b[0m\u001b[0;34m\u001b[0m\u001b[0;34m\u001b[0m\u001b[0m\n\u001b[1;32m    373\u001b[0m             \u001b[0;32mexcept\u001b[0m \u001b[0mTypeError\u001b[0m\u001b[0;34m:\u001b[0m  \u001b[0;31m# Python 2.6 and older\u001b[0m\u001b[0;34m\u001b[0m\u001b[0;34m\u001b[0m\u001b[0m\n\u001b[0;32m--> 374\u001b[0;31m                 \u001b[0mhttplib_response\u001b[0m \u001b[0;34m=\u001b[0m \u001b[0mconn\u001b[0m\u001b[0;34m.\u001b[0m\u001b[0mgetresponse\u001b[0m\u001b[0;34m(\u001b[0m\u001b[0;34m)\u001b[0m\u001b[0;34m\u001b[0m\u001b[0;34m\u001b[0m\u001b[0m\n\u001b[0m\u001b[1;32m    375\u001b[0m         \u001b[0;32mexcept\u001b[0m \u001b[0;34m(\u001b[0m\u001b[0mSocketTimeout\u001b[0m\u001b[0;34m,\u001b[0m \u001b[0mBaseSSLError\u001b[0m\u001b[0;34m,\u001b[0m \u001b[0mSocketError\u001b[0m\u001b[0;34m)\u001b[0m \u001b[0;32mas\u001b[0m \u001b[0me\u001b[0m\u001b[0;34m:\u001b[0m\u001b[0;34m\u001b[0m\u001b[0;34m\u001b[0m\u001b[0m\n\u001b[1;32m    376\u001b[0m             \u001b[0mself\u001b[0m\u001b[0;34m.\u001b[0m\u001b[0m_raise_timeout\u001b[0m\u001b[0;34m(\u001b[0m\u001b[0merr\u001b[0m\u001b[0;34m=\u001b[0m\u001b[0me\u001b[0m\u001b[0;34m,\u001b[0m \u001b[0murl\u001b[0m\u001b[0;34m=\u001b[0m\u001b[0murl\u001b[0m\u001b[0;34m,\u001b[0m \u001b[0mtimeout_value\u001b[0m\u001b[0;34m=\u001b[0m\u001b[0mread_timeout\u001b[0m\u001b[0;34m)\u001b[0m\u001b[0;34m\u001b[0m\u001b[0;34m\u001b[0m\u001b[0m\n",
      "\u001b[0;32m/usr/local/Cellar/python@3.9/3.9.9/Frameworks/Python.framework/Versions/3.9/lib/python3.9/http/client.py\u001b[0m in \u001b[0;36mgetresponse\u001b[0;34m(self)\u001b[0m\n\u001b[1;32m   1375\u001b[0m         \u001b[0;32mtry\u001b[0m\u001b[0;34m:\u001b[0m\u001b[0;34m\u001b[0m\u001b[0;34m\u001b[0m\u001b[0m\n\u001b[1;32m   1376\u001b[0m             \u001b[0;32mtry\u001b[0m\u001b[0;34m:\u001b[0m\u001b[0;34m\u001b[0m\u001b[0;34m\u001b[0m\u001b[0m\n\u001b[0;32m-> 1377\u001b[0;31m                 \u001b[0mresponse\u001b[0m\u001b[0;34m.\u001b[0m\u001b[0mbegin\u001b[0m\u001b[0;34m(\u001b[0m\u001b[0;34m)\u001b[0m\u001b[0;34m\u001b[0m\u001b[0;34m\u001b[0m\u001b[0m\n\u001b[0m\u001b[1;32m   1378\u001b[0m             \u001b[0;32mexcept\u001b[0m \u001b[0mConnectionError\u001b[0m\u001b[0;34m:\u001b[0m\u001b[0;34m\u001b[0m\u001b[0;34m\u001b[0m\u001b[0m\n\u001b[1;32m   1379\u001b[0m                 \u001b[0mself\u001b[0m\u001b[0;34m.\u001b[0m\u001b[0mclose\u001b[0m\u001b[0;34m(\u001b[0m\u001b[0;34m)\u001b[0m\u001b[0;34m\u001b[0m\u001b[0;34m\u001b[0m\u001b[0m\n",
      "\u001b[0;32m/usr/local/Cellar/python@3.9/3.9.9/Frameworks/Python.framework/Versions/3.9/lib/python3.9/http/client.py\u001b[0m in \u001b[0;36mbegin\u001b[0;34m(self)\u001b[0m\n\u001b[1;32m    318\u001b[0m         \u001b[0;31m# read until we get a non-100 response\u001b[0m\u001b[0;34m\u001b[0m\u001b[0;34m\u001b[0m\u001b[0m\n\u001b[1;32m    319\u001b[0m         \u001b[0;32mwhile\u001b[0m \u001b[0;32mTrue\u001b[0m\u001b[0;34m:\u001b[0m\u001b[0;34m\u001b[0m\u001b[0;34m\u001b[0m\u001b[0m\n\u001b[0;32m--> 320\u001b[0;31m             \u001b[0mversion\u001b[0m\u001b[0;34m,\u001b[0m \u001b[0mstatus\u001b[0m\u001b[0;34m,\u001b[0m \u001b[0mreason\u001b[0m \u001b[0;34m=\u001b[0m \u001b[0mself\u001b[0m\u001b[0;34m.\u001b[0m\u001b[0m_read_status\u001b[0m\u001b[0;34m(\u001b[0m\u001b[0;34m)\u001b[0m\u001b[0;34m\u001b[0m\u001b[0;34m\u001b[0m\u001b[0m\n\u001b[0m\u001b[1;32m    321\u001b[0m             \u001b[0;32mif\u001b[0m \u001b[0mstatus\u001b[0m \u001b[0;34m!=\u001b[0m \u001b[0mCONTINUE\u001b[0m\u001b[0;34m:\u001b[0m\u001b[0;34m\u001b[0m\u001b[0;34m\u001b[0m\u001b[0m\n\u001b[1;32m    322\u001b[0m                 \u001b[0;32mbreak\u001b[0m\u001b[0;34m\u001b[0m\u001b[0;34m\u001b[0m\u001b[0m\n",
      "\u001b[0;32m/usr/local/Cellar/python@3.9/3.9.9/Frameworks/Python.framework/Versions/3.9/lib/python3.9/http/client.py\u001b[0m in \u001b[0;36m_read_status\u001b[0;34m(self)\u001b[0m\n\u001b[1;32m    279\u001b[0m \u001b[0;34m\u001b[0m\u001b[0m\n\u001b[1;32m    280\u001b[0m     \u001b[0;32mdef\u001b[0m \u001b[0m_read_status\u001b[0m\u001b[0;34m(\u001b[0m\u001b[0mself\u001b[0m\u001b[0;34m)\u001b[0m\u001b[0;34m:\u001b[0m\u001b[0;34m\u001b[0m\u001b[0;34m\u001b[0m\u001b[0m\n\u001b[0;32m--> 281\u001b[0;31m         \u001b[0mline\u001b[0m \u001b[0;34m=\u001b[0m \u001b[0mstr\u001b[0m\u001b[0;34m(\u001b[0m\u001b[0mself\u001b[0m\u001b[0;34m.\u001b[0m\u001b[0mfp\u001b[0m\u001b[0;34m.\u001b[0m\u001b[0mreadline\u001b[0m\u001b[0;34m(\u001b[0m\u001b[0m_MAXLINE\u001b[0m \u001b[0;34m+\u001b[0m \u001b[0;36m1\u001b[0m\u001b[0;34m)\u001b[0m\u001b[0;34m,\u001b[0m \u001b[0;34m\"iso-8859-1\"\u001b[0m\u001b[0;34m)\u001b[0m\u001b[0;34m\u001b[0m\u001b[0;34m\u001b[0m\u001b[0m\n\u001b[0m\u001b[1;32m    282\u001b[0m         \u001b[0;32mif\u001b[0m \u001b[0mlen\u001b[0m\u001b[0;34m(\u001b[0m\u001b[0mline\u001b[0m\u001b[0;34m)\u001b[0m \u001b[0;34m>\u001b[0m \u001b[0m_MAXLINE\u001b[0m\u001b[0;34m:\u001b[0m\u001b[0;34m\u001b[0m\u001b[0;34m\u001b[0m\u001b[0m\n\u001b[1;32m    283\u001b[0m             \u001b[0;32mraise\u001b[0m \u001b[0mLineTooLong\u001b[0m\u001b[0;34m(\u001b[0m\u001b[0;34m\"status line\"\u001b[0m\u001b[0;34m)\u001b[0m\u001b[0;34m\u001b[0m\u001b[0;34m\u001b[0m\u001b[0m\n",
      "\u001b[0;32m/usr/local/Cellar/python@3.9/3.9.9/Frameworks/Python.framework/Versions/3.9/lib/python3.9/socket.py\u001b[0m in \u001b[0;36mreadinto\u001b[0;34m(self, b)\u001b[0m\n\u001b[1;32m    702\u001b[0m         \u001b[0;32mwhile\u001b[0m \u001b[0;32mTrue\u001b[0m\u001b[0;34m:\u001b[0m\u001b[0;34m\u001b[0m\u001b[0;34m\u001b[0m\u001b[0m\n\u001b[1;32m    703\u001b[0m             \u001b[0;32mtry\u001b[0m\u001b[0;34m:\u001b[0m\u001b[0;34m\u001b[0m\u001b[0;34m\u001b[0m\u001b[0m\n\u001b[0;32m--> 704\u001b[0;31m                 \u001b[0;32mreturn\u001b[0m \u001b[0mself\u001b[0m\u001b[0;34m.\u001b[0m\u001b[0m_sock\u001b[0m\u001b[0;34m.\u001b[0m\u001b[0mrecv_into\u001b[0m\u001b[0;34m(\u001b[0m\u001b[0mb\u001b[0m\u001b[0;34m)\u001b[0m\u001b[0;34m\u001b[0m\u001b[0;34m\u001b[0m\u001b[0m\n\u001b[0m\u001b[1;32m    705\u001b[0m             \u001b[0;32mexcept\u001b[0m \u001b[0mtimeout\u001b[0m\u001b[0;34m:\u001b[0m\u001b[0;34m\u001b[0m\u001b[0;34m\u001b[0m\u001b[0m\n\u001b[1;32m    706\u001b[0m                 \u001b[0mself\u001b[0m\u001b[0;34m.\u001b[0m\u001b[0m_timeout_occurred\u001b[0m \u001b[0;34m=\u001b[0m \u001b[0;32mTrue\u001b[0m\u001b[0;34m\u001b[0m\u001b[0;34m\u001b[0m\u001b[0m\n",
      "\u001b[0;31mKeyboardInterrupt\u001b[0m: "
     ]
    }
   ],
   "source": [
    "for i in disease_sets:\n",
    "    run_monte_carlo_simulation(genes_df,i)"
   ]
  },
  {
   "cell_type": "markdown",
   "metadata": {},
   "source": [
    "# Plot resulting histogram\n",
    "Simulation is ran and data is saved. Plot the results!"
   ]
  },
  {
   "cell_type": "code",
   "execution_count": 106,
   "metadata": {},
   "outputs": [],
   "source": [
    "# quick transform to int on accident\n",
    "temp = monte_carlo_df\n",
    "index_counter = 0\n",
    "for i in monte_carlo_df['number_of_drugs']:\n",
    "    monte_carlo_df['number_of_drugs'][index_counter] = int(i)\n",
    "    "
   ]
  },
  {
   "cell_type": "code",
   "execution_count": 11,
   "metadata": {},
   "outputs": [
    {
     "data": {
      "text/html": [
       "<div>\n",
       "<style scoped>\n",
       "    .dataframe tbody tr th:only-of-type {\n",
       "        vertical-align: middle;\n",
       "    }\n",
       "\n",
       "    .dataframe tbody tr th {\n",
       "        vertical-align: top;\n",
       "    }\n",
       "\n",
       "    .dataframe thead th {\n",
       "        text-align: right;\n",
       "    }\n",
       "</style>\n",
       "<table border=\"1\" class=\"dataframe\">\n",
       "  <thead>\n",
       "    <tr style=\"text-align: right;\">\n",
       "      <th></th>\n",
       "      <th>pvalues</th>\n",
       "      <th>diseases</th>\n",
       "    </tr>\n",
       "  </thead>\n",
       "  <tbody>\n",
       "    <tr>\n",
       "      <th>0</th>\n",
       "      <td>0.004</td>\n",
       "      <td>brainCancer</td>\n",
       "    </tr>\n",
       "    <tr>\n",
       "      <th>1</th>\n",
       "      <td>0.004</td>\n",
       "      <td>hereditaryCancer</td>\n",
       "    </tr>\n",
       "    <tr>\n",
       "      <th>2</th>\n",
       "      <td>0.004</td>\n",
       "      <td>metabolicDiseases</td>\n",
       "    </tr>\n",
       "    <tr>\n",
       "      <th>3</th>\n",
       "      <td>0.010</td>\n",
       "      <td>renalDiseases</td>\n",
       "    </tr>\n",
       "    <tr>\n",
       "      <th>4</th>\n",
       "      <td>0.022</td>\n",
       "      <td>cardiacDisorders</td>\n",
       "    </tr>\n",
       "    <tr>\n",
       "      <th>5</th>\n",
       "      <td>0.006</td>\n",
       "      <td>cnsCancer</td>\n",
       "    </tr>\n",
       "    <tr>\n",
       "      <th>6</th>\n",
       "      <td>0.004</td>\n",
       "      <td>skinDiseases</td>\n",
       "    </tr>\n",
       "    <tr>\n",
       "      <th>7</th>\n",
       "      <td>0.008</td>\n",
       "      <td>t-All</td>\n",
       "    </tr>\n",
       "    <tr>\n",
       "      <th>8</th>\n",
       "      <td>0.014</td>\n",
       "      <td>wilmsTumor</td>\n",
       "    </tr>\n",
       "    <tr>\n",
       "      <th>9</th>\n",
       "      <td>0.004</td>\n",
       "      <td>MDS</td>\n",
       "    </tr>\n",
       "    <tr>\n",
       "      <th>10</th>\n",
       "      <td>0.006</td>\n",
       "      <td>epilepsy</td>\n",
       "    </tr>\n",
       "    <tr>\n",
       "      <th>11</th>\n",
       "      <td>0.004</td>\n",
       "      <td>pediatricCancer</td>\n",
       "    </tr>\n",
       "  </tbody>\n",
       "</table>\n",
       "</div>"
      ],
      "text/plain": [
       "    pvalues           diseases\n",
       "0     0.004        brainCancer\n",
       "1     0.004   hereditaryCancer\n",
       "2     0.004  metabolicDiseases\n",
       "3     0.010      renalDiseases\n",
       "4     0.022   cardiacDisorders\n",
       "5     0.006          cnsCancer\n",
       "6     0.004       skinDiseases\n",
       "7     0.008              t-All\n",
       "8     0.014         wilmsTumor\n",
       "9     0.004                MDS\n",
       "10    0.006           epilepsy\n",
       "11    0.004    pediatricCancer"
      ]
     },
     "execution_count": 11,
     "metadata": {},
     "output_type": "execute_result"
    }
   ],
   "source": [
    "# Get all P values\n",
    "\n",
    "pvalues = pd.DataFrame()\n",
    "pvalues_list = list()\n",
    "disease_list = list()\n",
    "\n",
    "for i in disease_sets:\n",
    "    incidence_counter = 0\n",
    "    pval_df = pd.read_excel('simulation_results/' + i + '.xlsx',sheet_name='results',index_col=0)\n",
    "    test_value = pval_df['number_of_drugs'][0]\n",
    "    incidence_counter += 1\n",
    "\n",
    "    for j in pval_df['number_of_drugs']:\n",
    "        if j >= test_value:\n",
    "            incidence_counter += 1\n",
    "        else:\n",
    "            pass\n",
    "\n",
    "    p_value = incidence_counter / len(pval_df['number_of_drugs'])\n",
    "    pvalues_list.append(p_value)\n",
    "    disease_list.append(i)\n",
    "\n",
    "pvalues = pvalues.assign(pvalues = pvalues_list, diseases = disease_list)\n",
    "\n",
    "pvalues"
   ]
  },
  {
   "cell_type": "code",
   "execution_count": 13,
   "metadata": {},
   "outputs": [
    {
     "data": {
      "text/html": [
       "<div>\n",
       "<style scoped>\n",
       "    .dataframe tbody tr th:only-of-type {\n",
       "        vertical-align: middle;\n",
       "    }\n",
       "\n",
       "    .dataframe tbody tr th {\n",
       "        vertical-align: top;\n",
       "    }\n",
       "\n",
       "    .dataframe thead th {\n",
       "        text-align: right;\n",
       "    }\n",
       "</style>\n",
       "<table border=\"1\" class=\"dataframe\">\n",
       "  <thead>\n",
       "    <tr style=\"text-align: right;\">\n",
       "      <th></th>\n",
       "      <th>sample_source</th>\n",
       "      <th>number_of_drugs</th>\n",
       "      <th>genes_input</th>\n",
       "    </tr>\n",
       "  </thead>\n",
       "  <tbody>\n",
       "    <tr>\n",
       "      <th>0</th>\n",
       "      <td>renalDiseases</td>\n",
       "      <td>2210</td>\n",
       "      <td>['AHI1', 'CTU2', 'OCRL', 'AMN', 'FN1', 'ANKS6'...</td>\n",
       "    </tr>\n",
       "    <tr>\n",
       "      <th>1</th>\n",
       "      <td>random_sample</td>\n",
       "      <td>742</td>\n",
       "      <td>['CTIF', 'ST13', 'RAPGEF5', 'CENPE', 'STARD3',...</td>\n",
       "    </tr>\n",
       "    <tr>\n",
       "      <th>2</th>\n",
       "      <td>random_sample</td>\n",
       "      <td>902</td>\n",
       "      <td>['SRCAP', 'SMIM8', 'G6PC3', 'MEA1', 'PDK2', 'P...</td>\n",
       "    </tr>\n",
       "    <tr>\n",
       "      <th>3</th>\n",
       "      <td>random_sample</td>\n",
       "      <td>666</td>\n",
       "      <td>['CHCHD2', 'EIF4H', 'GYLTL1B', 'COPRS', 'VARS'...</td>\n",
       "    </tr>\n",
       "    <tr>\n",
       "      <th>4</th>\n",
       "      <td>random_sample</td>\n",
       "      <td>1588</td>\n",
       "      <td>['SUZ12', 'CTXN3', 'MGME1', 'RPP40', 'RPS15', ...</td>\n",
       "    </tr>\n",
       "    <tr>\n",
       "      <th>...</th>\n",
       "      <td>...</td>\n",
       "      <td>...</td>\n",
       "      <td>...</td>\n",
       "    </tr>\n",
       "    <tr>\n",
       "      <th>495</th>\n",
       "      <td>random_sample</td>\n",
       "      <td>468</td>\n",
       "      <td>['NPIPA8', 'CLEC1A', 'GLTPD2', 'WDR37', 'TRAV8...</td>\n",
       "    </tr>\n",
       "    <tr>\n",
       "      <th>496</th>\n",
       "      <td>random_sample</td>\n",
       "      <td>767</td>\n",
       "      <td>['NREP', 'TNIP2', 'MYOM2', 'LINC01193', 'FEZF2...</td>\n",
       "    </tr>\n",
       "    <tr>\n",
       "      <th>497</th>\n",
       "      <td>random_sample</td>\n",
       "      <td>1642</td>\n",
       "      <td>['PSMA2', 'LRRC3DN', 'STOX2', 'PIRC105', 'HMCN...</td>\n",
       "    </tr>\n",
       "    <tr>\n",
       "      <th>498</th>\n",
       "      <td>random_sample</td>\n",
       "      <td>587</td>\n",
       "      <td>['KRTAP5-3', 'DFNB60', 'FXR1', 'TMEM45B', 'ALD...</td>\n",
       "    </tr>\n",
       "    <tr>\n",
       "      <th>499</th>\n",
       "      <td>random_sample</td>\n",
       "      <td>1022</td>\n",
       "      <td>['MNS1', 'TECRL', 'SNORD15B', 'C6orf1', 'PPIB'...</td>\n",
       "    </tr>\n",
       "  </tbody>\n",
       "</table>\n",
       "<p>500 rows × 3 columns</p>\n",
       "</div>"
      ],
      "text/plain": [
       "     sample_source  number_of_drugs  \\\n",
       "0    renalDiseases             2210   \n",
       "1    random_sample              742   \n",
       "2    random_sample              902   \n",
       "3    random_sample              666   \n",
       "4    random_sample             1588   \n",
       "..             ...              ...   \n",
       "495  random_sample              468   \n",
       "496  random_sample              767   \n",
       "497  random_sample             1642   \n",
       "498  random_sample              587   \n",
       "499  random_sample             1022   \n",
       "\n",
       "                                           genes_input  \n",
       "0    ['AHI1', 'CTU2', 'OCRL', 'AMN', 'FN1', 'ANKS6'...  \n",
       "1    ['CTIF', 'ST13', 'RAPGEF5', 'CENPE', 'STARD3',...  \n",
       "2    ['SRCAP', 'SMIM8', 'G6PC3', 'MEA1', 'PDK2', 'P...  \n",
       "3    ['CHCHD2', 'EIF4H', 'GYLTL1B', 'COPRS', 'VARS'...  \n",
       "4    ['SUZ12', 'CTXN3', 'MGME1', 'RPP40', 'RPS15', ...  \n",
       "..                                                 ...  \n",
       "495  ['NPIPA8', 'CLEC1A', 'GLTPD2', 'WDR37', 'TRAV8...  \n",
       "496  ['NREP', 'TNIP2', 'MYOM2', 'LINC01193', 'FEZF2...  \n",
       "497  ['PSMA2', 'LRRC3DN', 'STOX2', 'PIRC105', 'HMCN...  \n",
       "498  ['KRTAP5-3', 'DFNB60', 'FXR1', 'TMEM45B', 'ALD...  \n",
       "499  ['MNS1', 'TECRL', 'SNORD15B', 'C6orf1', 'PPIB'...  \n",
       "\n",
       "[500 rows x 3 columns]"
      ]
     },
     "execution_count": 13,
     "metadata": {},
     "output_type": "execute_result"
    }
   ],
   "source": [
    "# Read data from file\n",
    "filename = 'renalDiseases'\n",
    "monte_carlo_df = pd.read_excel('simulation_results/' + filename + '.xlsx',sheet_name='results',index_col=0)\n",
    "monte_carlo_df"
   ]
  },
  {
   "cell_type": "code",
   "execution_count": 18,
   "metadata": {},
   "outputs": [],
   "source": [
    "# # Make figure\n",
    "# fig = px.histogram(monte_carlo_df, x='number_of_drugs', color='sample_source', marginal='box')\n",
    "# fig.show()\n",
    "# pio.write_image(fig, 'test.pdf', width=3*300, height=3*250, scale=3)\n",
    "\n",
    "# Figure loop\n",
    "for i in disease_sets:\n",
    "    monte_carlo_df = pd.read_excel('simulation_results/' + i + '.xlsx',sheet_name='results',index_col=0)\n",
    "\n",
    "    fig = fig = px.histogram(monte_carlo_df, x='number_of_drugs', color='sample_source', marginal='box')\n",
    "    pio.write_image(fig,'graphs/' + i + '.pdf', width=3*400, height=3*250, scale=3)\n"
   ]
  },
  {
   "cell_type": "code",
   "execution_count": 28,
   "metadata": {},
   "outputs": [
    {
     "data": {
      "application/vnd.plotly.v1+json": {
       "config": {
        "plotlyServerURL": "https://plot.ly"
       },
       "data": [
        {
         "alignmentgroup": "True",
         "bingroup": "x",
         "hovertemplate": "sample_source=hereditaryCancer<br>number_of_drugs=%{x}<br>count=%{y}<extra></extra>",
         "legendgroup": "hereditaryCancer",
         "marker": {
          "color": "#636efa",
          "pattern": {
           "shape": ""
          }
         },
         "name": "hereditaryCancer",
         "offsetgroup": "hereditaryCancer",
         "orientation": "v",
         "showlegend": true,
         "type": "histogram",
         "x": [
          7842
         ],
         "xaxis": "x",
         "yaxis": "y"
        },
        {
         "alignmentgroup": "True",
         "hovertemplate": "sample_source=hereditaryCancer<br>number_of_drugs=%{x}<extra></extra>",
         "legendgroup": "hereditaryCancer",
         "marker": {
          "color": "#636efa"
         },
         "name": "hereditaryCancer",
         "notched": true,
         "offsetgroup": "hereditaryCancer",
         "showlegend": false,
         "type": "box",
         "x": [
          7842
         ],
         "xaxis": "x2",
         "yaxis": "y2"
        },
        {
         "alignmentgroup": "True",
         "bingroup": "x",
         "hovertemplate": "sample_source=random_sample<br>number_of_drugs=%{x}<br>count=%{y}<extra></extra>",
         "legendgroup": "random_sample",
         "marker": {
          "color": "#EF553B",
          "pattern": {
           "shape": ""
          }
         },
         "name": "random_sample",
         "offsetgroup": "random_sample",
         "orientation": "v",
         "showlegend": true,
         "type": "histogram",
         "x": [
          1039,
          2003,
          1313,
          1782,
          725,
          906,
          1949,
          1162,
          1313,
          1445,
          676,
          1355,
          1793,
          1014,
          1302,
          2135,
          805,
          2419,
          1425,
          1043,
          909,
          2073,
          2035,
          1119,
          2339,
          3046,
          1393,
          1103,
          1596,
          1382,
          808,
          1236,
          1517,
          1642,
          1169,
          1336,
          1686,
          1459,
          1250,
          1168,
          1276,
          1798,
          2359,
          1496,
          1153,
          989,
          657,
          1751,
          839,
          1412,
          1554,
          590,
          1437,
          1206,
          2890,
          641,
          991,
          603,
          878,
          1385,
          572,
          1574,
          1753,
          1120,
          1396,
          1140,
          1280,
          1046,
          1222,
          1292,
          2156,
          680,
          924,
          1488,
          1039,
          1117,
          845,
          776,
          1171,
          1729,
          680,
          1102,
          1155,
          1103,
          1538,
          1871,
          1479,
          1031,
          735,
          1767,
          1298,
          1381,
          1162,
          789,
          1352,
          917,
          1270,
          1064,
          1042,
          675,
          1585,
          720,
          1829,
          1263,
          2211,
          1472,
          716,
          855,
          1484,
          1384,
          1148,
          1299,
          1175,
          1120,
          952,
          738,
          1538,
          2098,
          1284,
          761,
          1190,
          1572,
          1249,
          874,
          2260,
          1756,
          1858,
          1636,
          857,
          1183,
          1574,
          789,
          1166,
          690,
          814,
          888,
          2046,
          1055,
          567,
          1802,
          1351,
          1256,
          881,
          823,
          1166,
          996,
          1504,
          1372,
          1562,
          959,
          836,
          1182,
          1090,
          1154,
          1831,
          1930,
          879,
          1263,
          2564,
          1141,
          803,
          908,
          840,
          1567,
          1379,
          1294,
          979,
          1433,
          2474,
          615,
          1163,
          739,
          2245,
          1344,
          1036,
          865,
          1690,
          1264,
          962,
          2538,
          754,
          646,
          1912,
          564,
          2077,
          758,
          1343,
          2576,
          1049,
          863,
          1216,
          810,
          1110,
          2212,
          1360,
          1826,
          1005,
          1060,
          1026,
          1038,
          1259,
          1019,
          1047,
          901,
          1684,
          1343,
          858,
          742,
          2001,
          1063,
          1459,
          1390,
          1058,
          1478,
          893,
          962,
          2268,
          1076,
          1127,
          1471,
          831,
          1376,
          825,
          923,
          1682,
          927,
          1501,
          892,
          1781,
          739,
          1118,
          864,
          1164,
          1092,
          2309,
          1408,
          981,
          1583,
          1123,
          759,
          1241,
          1552,
          688,
          1719,
          1205,
          717,
          939,
          936,
          793,
          994,
          1352,
          1697,
          458,
          1176,
          1147,
          1283,
          613,
          1104,
          2179,
          1110,
          1254,
          1668,
          1033,
          803,
          1013,
          754,
          1447,
          789,
          1219,
          610,
          1168,
          1432,
          1449,
          815,
          1975,
          945,
          932,
          907,
          1302,
          933,
          1268,
          939,
          1548,
          2427,
          1517,
          647,
          2023,
          1778,
          1288,
          1168,
          647,
          1632,
          722,
          986,
          667,
          960,
          443,
          1236,
          444,
          1765,
          1103,
          1473,
          775,
          1903,
          757,
          1142,
          1567,
          901,
          1482,
          1314,
          1096,
          1876,
          1424,
          1235,
          1328,
          887,
          1350,
          1592,
          1318,
          1065,
          1400,
          1093,
          1049,
          1355,
          1627,
          1129,
          1243,
          736,
          538,
          827,
          1323,
          994,
          807,
          862,
          963,
          838,
          1406,
          1526,
          887,
          801,
          1380,
          1406,
          1632,
          1701,
          1459,
          1253,
          1065,
          1154,
          754,
          498,
          808,
          959,
          1227,
          1885,
          1130,
          715,
          1106,
          1475,
          904,
          535,
          1170,
          1374,
          740,
          1024,
          1079,
          1394,
          583,
          1014,
          954,
          911,
          1361,
          978,
          485,
          1379,
          897,
          1096,
          2131,
          938,
          912,
          1256,
          1785,
          1126,
          1419,
          588,
          634,
          1205,
          966,
          1179,
          994,
          1241,
          1837,
          763,
          1421,
          779,
          1302,
          1505,
          1682,
          752,
          1218,
          2046,
          1118,
          831,
          1119,
          1821,
          847,
          2201,
          1495,
          1122,
          911,
          2233,
          736,
          917,
          1232,
          1167,
          1088,
          1050,
          600,
          1320,
          1038,
          954,
          732,
          691,
          1025,
          1253,
          809,
          849,
          1817,
          1139,
          1879,
          1110,
          1469,
          1691,
          1561,
          1368,
          1008,
          1671,
          1009,
          1522,
          2484,
          1214,
          1139,
          1342,
          1307,
          1180,
          1255,
          1196,
          1329,
          841,
          852,
          680,
          1072,
          1272,
          920,
          1725,
          861,
          1622,
          1423,
          1767,
          900,
          787,
          874,
          744,
          1319,
          766,
          687,
          1430,
          906,
          1503,
          1410,
          1795,
          1142,
          776,
          1753,
          1628,
          1656,
          1442,
          846,
          1157,
          1208,
          1230,
          1213,
          899,
          1569,
          1206,
          752,
          591,
          1877,
          1104,
          579,
          1471,
          2085,
          1619,
          812,
          1117,
          1148,
          1646,
          1747,
          706,
          984
         ],
         "xaxis": "x",
         "yaxis": "y"
        },
        {
         "alignmentgroup": "True",
         "hovertemplate": "sample_source=random_sample<br>number_of_drugs=%{x}<extra></extra>",
         "legendgroup": "random_sample",
         "marker": {
          "color": "#EF553B"
         },
         "name": "random_sample",
         "notched": true,
         "offsetgroup": "random_sample",
         "showlegend": false,
         "type": "box",
         "x": [
          1039,
          2003,
          1313,
          1782,
          725,
          906,
          1949,
          1162,
          1313,
          1445,
          676,
          1355,
          1793,
          1014,
          1302,
          2135,
          805,
          2419,
          1425,
          1043,
          909,
          2073,
          2035,
          1119,
          2339,
          3046,
          1393,
          1103,
          1596,
          1382,
          808,
          1236,
          1517,
          1642,
          1169,
          1336,
          1686,
          1459,
          1250,
          1168,
          1276,
          1798,
          2359,
          1496,
          1153,
          989,
          657,
          1751,
          839,
          1412,
          1554,
          590,
          1437,
          1206,
          2890,
          641,
          991,
          603,
          878,
          1385,
          572,
          1574,
          1753,
          1120,
          1396,
          1140,
          1280,
          1046,
          1222,
          1292,
          2156,
          680,
          924,
          1488,
          1039,
          1117,
          845,
          776,
          1171,
          1729,
          680,
          1102,
          1155,
          1103,
          1538,
          1871,
          1479,
          1031,
          735,
          1767,
          1298,
          1381,
          1162,
          789,
          1352,
          917,
          1270,
          1064,
          1042,
          675,
          1585,
          720,
          1829,
          1263,
          2211,
          1472,
          716,
          855,
          1484,
          1384,
          1148,
          1299,
          1175,
          1120,
          952,
          738,
          1538,
          2098,
          1284,
          761,
          1190,
          1572,
          1249,
          874,
          2260,
          1756,
          1858,
          1636,
          857,
          1183,
          1574,
          789,
          1166,
          690,
          814,
          888,
          2046,
          1055,
          567,
          1802,
          1351,
          1256,
          881,
          823,
          1166,
          996,
          1504,
          1372,
          1562,
          959,
          836,
          1182,
          1090,
          1154,
          1831,
          1930,
          879,
          1263,
          2564,
          1141,
          803,
          908,
          840,
          1567,
          1379,
          1294,
          979,
          1433,
          2474,
          615,
          1163,
          739,
          2245,
          1344,
          1036,
          865,
          1690,
          1264,
          962,
          2538,
          754,
          646,
          1912,
          564,
          2077,
          758,
          1343,
          2576,
          1049,
          863,
          1216,
          810,
          1110,
          2212,
          1360,
          1826,
          1005,
          1060,
          1026,
          1038,
          1259,
          1019,
          1047,
          901,
          1684,
          1343,
          858,
          742,
          2001,
          1063,
          1459,
          1390,
          1058,
          1478,
          893,
          962,
          2268,
          1076,
          1127,
          1471,
          831,
          1376,
          825,
          923,
          1682,
          927,
          1501,
          892,
          1781,
          739,
          1118,
          864,
          1164,
          1092,
          2309,
          1408,
          981,
          1583,
          1123,
          759,
          1241,
          1552,
          688,
          1719,
          1205,
          717,
          939,
          936,
          793,
          994,
          1352,
          1697,
          458,
          1176,
          1147,
          1283,
          613,
          1104,
          2179,
          1110,
          1254,
          1668,
          1033,
          803,
          1013,
          754,
          1447,
          789,
          1219,
          610,
          1168,
          1432,
          1449,
          815,
          1975,
          945,
          932,
          907,
          1302,
          933,
          1268,
          939,
          1548,
          2427,
          1517,
          647,
          2023,
          1778,
          1288,
          1168,
          647,
          1632,
          722,
          986,
          667,
          960,
          443,
          1236,
          444,
          1765,
          1103,
          1473,
          775,
          1903,
          757,
          1142,
          1567,
          901,
          1482,
          1314,
          1096,
          1876,
          1424,
          1235,
          1328,
          887,
          1350,
          1592,
          1318,
          1065,
          1400,
          1093,
          1049,
          1355,
          1627,
          1129,
          1243,
          736,
          538,
          827,
          1323,
          994,
          807,
          862,
          963,
          838,
          1406,
          1526,
          887,
          801,
          1380,
          1406,
          1632,
          1701,
          1459,
          1253,
          1065,
          1154,
          754,
          498,
          808,
          959,
          1227,
          1885,
          1130,
          715,
          1106,
          1475,
          904,
          535,
          1170,
          1374,
          740,
          1024,
          1079,
          1394,
          583,
          1014,
          954,
          911,
          1361,
          978,
          485,
          1379,
          897,
          1096,
          2131,
          938,
          912,
          1256,
          1785,
          1126,
          1419,
          588,
          634,
          1205,
          966,
          1179,
          994,
          1241,
          1837,
          763,
          1421,
          779,
          1302,
          1505,
          1682,
          752,
          1218,
          2046,
          1118,
          831,
          1119,
          1821,
          847,
          2201,
          1495,
          1122,
          911,
          2233,
          736,
          917,
          1232,
          1167,
          1088,
          1050,
          600,
          1320,
          1038,
          954,
          732,
          691,
          1025,
          1253,
          809,
          849,
          1817,
          1139,
          1879,
          1110,
          1469,
          1691,
          1561,
          1368,
          1008,
          1671,
          1009,
          1522,
          2484,
          1214,
          1139,
          1342,
          1307,
          1180,
          1255,
          1196,
          1329,
          841,
          852,
          680,
          1072,
          1272,
          920,
          1725,
          861,
          1622,
          1423,
          1767,
          900,
          787,
          874,
          744,
          1319,
          766,
          687,
          1430,
          906,
          1503,
          1410,
          1795,
          1142,
          776,
          1753,
          1628,
          1656,
          1442,
          846,
          1157,
          1208,
          1230,
          1213,
          899,
          1569,
          1206,
          752,
          591,
          1877,
          1104,
          579,
          1471,
          2085,
          1619,
          812,
          1117,
          1148,
          1646,
          1747,
          706,
          984
         ],
         "xaxis": "x2",
         "yaxis": "y2"
        }
       ],
       "layout": {
        "barmode": "relative",
        "legend": {
         "title": {
          "text": "sample_source"
         },
         "tracegroupgap": 0
        },
        "margin": {
         "t": 60
        },
        "template": {
         "data": {
          "bar": [
           {
            "error_x": {
             "color": "#2a3f5f"
            },
            "error_y": {
             "color": "#2a3f5f"
            },
            "marker": {
             "line": {
              "color": "#E5ECF6",
              "width": 0.5
             },
             "pattern": {
              "fillmode": "overlay",
              "size": 10,
              "solidity": 0.2
             }
            },
            "type": "bar"
           }
          ],
          "barpolar": [
           {
            "marker": {
             "line": {
              "color": "#E5ECF6",
              "width": 0.5
             },
             "pattern": {
              "fillmode": "overlay",
              "size": 10,
              "solidity": 0.2
             }
            },
            "type": "barpolar"
           }
          ],
          "carpet": [
           {
            "aaxis": {
             "endlinecolor": "#2a3f5f",
             "gridcolor": "white",
             "linecolor": "white",
             "minorgridcolor": "white",
             "startlinecolor": "#2a3f5f"
            },
            "baxis": {
             "endlinecolor": "#2a3f5f",
             "gridcolor": "white",
             "linecolor": "white",
             "minorgridcolor": "white",
             "startlinecolor": "#2a3f5f"
            },
            "type": "carpet"
           }
          ],
          "choropleth": [
           {
            "colorbar": {
             "outlinewidth": 0,
             "ticks": ""
            },
            "type": "choropleth"
           }
          ],
          "contour": [
           {
            "colorbar": {
             "outlinewidth": 0,
             "ticks": ""
            },
            "colorscale": [
             [
              0,
              "#0d0887"
             ],
             [
              0.1111111111111111,
              "#46039f"
             ],
             [
              0.2222222222222222,
              "#7201a8"
             ],
             [
              0.3333333333333333,
              "#9c179e"
             ],
             [
              0.4444444444444444,
              "#bd3786"
             ],
             [
              0.5555555555555556,
              "#d8576b"
             ],
             [
              0.6666666666666666,
              "#ed7953"
             ],
             [
              0.7777777777777778,
              "#fb9f3a"
             ],
             [
              0.8888888888888888,
              "#fdca26"
             ],
             [
              1,
              "#f0f921"
             ]
            ],
            "type": "contour"
           }
          ],
          "contourcarpet": [
           {
            "colorbar": {
             "outlinewidth": 0,
             "ticks": ""
            },
            "type": "contourcarpet"
           }
          ],
          "heatmap": [
           {
            "colorbar": {
             "outlinewidth": 0,
             "ticks": ""
            },
            "colorscale": [
             [
              0,
              "#0d0887"
             ],
             [
              0.1111111111111111,
              "#46039f"
             ],
             [
              0.2222222222222222,
              "#7201a8"
             ],
             [
              0.3333333333333333,
              "#9c179e"
             ],
             [
              0.4444444444444444,
              "#bd3786"
             ],
             [
              0.5555555555555556,
              "#d8576b"
             ],
             [
              0.6666666666666666,
              "#ed7953"
             ],
             [
              0.7777777777777778,
              "#fb9f3a"
             ],
             [
              0.8888888888888888,
              "#fdca26"
             ],
             [
              1,
              "#f0f921"
             ]
            ],
            "type": "heatmap"
           }
          ],
          "heatmapgl": [
           {
            "colorbar": {
             "outlinewidth": 0,
             "ticks": ""
            },
            "colorscale": [
             [
              0,
              "#0d0887"
             ],
             [
              0.1111111111111111,
              "#46039f"
             ],
             [
              0.2222222222222222,
              "#7201a8"
             ],
             [
              0.3333333333333333,
              "#9c179e"
             ],
             [
              0.4444444444444444,
              "#bd3786"
             ],
             [
              0.5555555555555556,
              "#d8576b"
             ],
             [
              0.6666666666666666,
              "#ed7953"
             ],
             [
              0.7777777777777778,
              "#fb9f3a"
             ],
             [
              0.8888888888888888,
              "#fdca26"
             ],
             [
              1,
              "#f0f921"
             ]
            ],
            "type": "heatmapgl"
           }
          ],
          "histogram": [
           {
            "marker": {
             "pattern": {
              "fillmode": "overlay",
              "size": 10,
              "solidity": 0.2
             }
            },
            "type": "histogram"
           }
          ],
          "histogram2d": [
           {
            "colorbar": {
             "outlinewidth": 0,
             "ticks": ""
            },
            "colorscale": [
             [
              0,
              "#0d0887"
             ],
             [
              0.1111111111111111,
              "#46039f"
             ],
             [
              0.2222222222222222,
              "#7201a8"
             ],
             [
              0.3333333333333333,
              "#9c179e"
             ],
             [
              0.4444444444444444,
              "#bd3786"
             ],
             [
              0.5555555555555556,
              "#d8576b"
             ],
             [
              0.6666666666666666,
              "#ed7953"
             ],
             [
              0.7777777777777778,
              "#fb9f3a"
             ],
             [
              0.8888888888888888,
              "#fdca26"
             ],
             [
              1,
              "#f0f921"
             ]
            ],
            "type": "histogram2d"
           }
          ],
          "histogram2dcontour": [
           {
            "colorbar": {
             "outlinewidth": 0,
             "ticks": ""
            },
            "colorscale": [
             [
              0,
              "#0d0887"
             ],
             [
              0.1111111111111111,
              "#46039f"
             ],
             [
              0.2222222222222222,
              "#7201a8"
             ],
             [
              0.3333333333333333,
              "#9c179e"
             ],
             [
              0.4444444444444444,
              "#bd3786"
             ],
             [
              0.5555555555555556,
              "#d8576b"
             ],
             [
              0.6666666666666666,
              "#ed7953"
             ],
             [
              0.7777777777777778,
              "#fb9f3a"
             ],
             [
              0.8888888888888888,
              "#fdca26"
             ],
             [
              1,
              "#f0f921"
             ]
            ],
            "type": "histogram2dcontour"
           }
          ],
          "mesh3d": [
           {
            "colorbar": {
             "outlinewidth": 0,
             "ticks": ""
            },
            "type": "mesh3d"
           }
          ],
          "parcoords": [
           {
            "line": {
             "colorbar": {
              "outlinewidth": 0,
              "ticks": ""
             }
            },
            "type": "parcoords"
           }
          ],
          "pie": [
           {
            "automargin": true,
            "type": "pie"
           }
          ],
          "scatter": [
           {
            "marker": {
             "colorbar": {
              "outlinewidth": 0,
              "ticks": ""
             }
            },
            "type": "scatter"
           }
          ],
          "scatter3d": [
           {
            "line": {
             "colorbar": {
              "outlinewidth": 0,
              "ticks": ""
             }
            },
            "marker": {
             "colorbar": {
              "outlinewidth": 0,
              "ticks": ""
             }
            },
            "type": "scatter3d"
           }
          ],
          "scattercarpet": [
           {
            "marker": {
             "colorbar": {
              "outlinewidth": 0,
              "ticks": ""
             }
            },
            "type": "scattercarpet"
           }
          ],
          "scattergeo": [
           {
            "marker": {
             "colorbar": {
              "outlinewidth": 0,
              "ticks": ""
             }
            },
            "type": "scattergeo"
           }
          ],
          "scattergl": [
           {
            "marker": {
             "colorbar": {
              "outlinewidth": 0,
              "ticks": ""
             }
            },
            "type": "scattergl"
           }
          ],
          "scattermapbox": [
           {
            "marker": {
             "colorbar": {
              "outlinewidth": 0,
              "ticks": ""
             }
            },
            "type": "scattermapbox"
           }
          ],
          "scatterpolar": [
           {
            "marker": {
             "colorbar": {
              "outlinewidth": 0,
              "ticks": ""
             }
            },
            "type": "scatterpolar"
           }
          ],
          "scatterpolargl": [
           {
            "marker": {
             "colorbar": {
              "outlinewidth": 0,
              "ticks": ""
             }
            },
            "type": "scatterpolargl"
           }
          ],
          "scatterternary": [
           {
            "marker": {
             "colorbar": {
              "outlinewidth": 0,
              "ticks": ""
             }
            },
            "type": "scatterternary"
           }
          ],
          "surface": [
           {
            "colorbar": {
             "outlinewidth": 0,
             "ticks": ""
            },
            "colorscale": [
             [
              0,
              "#0d0887"
             ],
             [
              0.1111111111111111,
              "#46039f"
             ],
             [
              0.2222222222222222,
              "#7201a8"
             ],
             [
              0.3333333333333333,
              "#9c179e"
             ],
             [
              0.4444444444444444,
              "#bd3786"
             ],
             [
              0.5555555555555556,
              "#d8576b"
             ],
             [
              0.6666666666666666,
              "#ed7953"
             ],
             [
              0.7777777777777778,
              "#fb9f3a"
             ],
             [
              0.8888888888888888,
              "#fdca26"
             ],
             [
              1,
              "#f0f921"
             ]
            ],
            "type": "surface"
           }
          ],
          "table": [
           {
            "cells": {
             "fill": {
              "color": "#EBF0F8"
             },
             "line": {
              "color": "white"
             }
            },
            "header": {
             "fill": {
              "color": "#C8D4E3"
             },
             "line": {
              "color": "white"
             }
            },
            "type": "table"
           }
          ]
         },
         "layout": {
          "annotationdefaults": {
           "arrowcolor": "#2a3f5f",
           "arrowhead": 0,
           "arrowwidth": 1
          },
          "autotypenumbers": "strict",
          "coloraxis": {
           "colorbar": {
            "outlinewidth": 0,
            "ticks": ""
           }
          },
          "colorscale": {
           "diverging": [
            [
             0,
             "#8e0152"
            ],
            [
             0.1,
             "#c51b7d"
            ],
            [
             0.2,
             "#de77ae"
            ],
            [
             0.3,
             "#f1b6da"
            ],
            [
             0.4,
             "#fde0ef"
            ],
            [
             0.5,
             "#f7f7f7"
            ],
            [
             0.6,
             "#e6f5d0"
            ],
            [
             0.7,
             "#b8e186"
            ],
            [
             0.8,
             "#7fbc41"
            ],
            [
             0.9,
             "#4d9221"
            ],
            [
             1,
             "#276419"
            ]
           ],
           "sequential": [
            [
             0,
             "#0d0887"
            ],
            [
             0.1111111111111111,
             "#46039f"
            ],
            [
             0.2222222222222222,
             "#7201a8"
            ],
            [
             0.3333333333333333,
             "#9c179e"
            ],
            [
             0.4444444444444444,
             "#bd3786"
            ],
            [
             0.5555555555555556,
             "#d8576b"
            ],
            [
             0.6666666666666666,
             "#ed7953"
            ],
            [
             0.7777777777777778,
             "#fb9f3a"
            ],
            [
             0.8888888888888888,
             "#fdca26"
            ],
            [
             1,
             "#f0f921"
            ]
           ],
           "sequentialminus": [
            [
             0,
             "#0d0887"
            ],
            [
             0.1111111111111111,
             "#46039f"
            ],
            [
             0.2222222222222222,
             "#7201a8"
            ],
            [
             0.3333333333333333,
             "#9c179e"
            ],
            [
             0.4444444444444444,
             "#bd3786"
            ],
            [
             0.5555555555555556,
             "#d8576b"
            ],
            [
             0.6666666666666666,
             "#ed7953"
            ],
            [
             0.7777777777777778,
             "#fb9f3a"
            ],
            [
             0.8888888888888888,
             "#fdca26"
            ],
            [
             1,
             "#f0f921"
            ]
           ]
          },
          "colorway": [
           "#636efa",
           "#EF553B",
           "#00cc96",
           "#ab63fa",
           "#FFA15A",
           "#19d3f3",
           "#FF6692",
           "#B6E880",
           "#FF97FF",
           "#FECB52"
          ],
          "font": {
           "color": "#2a3f5f"
          },
          "geo": {
           "bgcolor": "white",
           "lakecolor": "white",
           "landcolor": "#E5ECF6",
           "showlakes": true,
           "showland": true,
           "subunitcolor": "white"
          },
          "hoverlabel": {
           "align": "left"
          },
          "hovermode": "closest",
          "mapbox": {
           "style": "light"
          },
          "paper_bgcolor": "white",
          "plot_bgcolor": "#E5ECF6",
          "polar": {
           "angularaxis": {
            "gridcolor": "white",
            "linecolor": "white",
            "ticks": ""
           },
           "bgcolor": "#E5ECF6",
           "radialaxis": {
            "gridcolor": "white",
            "linecolor": "white",
            "ticks": ""
           }
          },
          "scene": {
           "xaxis": {
            "backgroundcolor": "#E5ECF6",
            "gridcolor": "white",
            "gridwidth": 2,
            "linecolor": "white",
            "showbackground": true,
            "ticks": "",
            "zerolinecolor": "white"
           },
           "yaxis": {
            "backgroundcolor": "#E5ECF6",
            "gridcolor": "white",
            "gridwidth": 2,
            "linecolor": "white",
            "showbackground": true,
            "ticks": "",
            "zerolinecolor": "white"
           },
           "zaxis": {
            "backgroundcolor": "#E5ECF6",
            "gridcolor": "white",
            "gridwidth": 2,
            "linecolor": "white",
            "showbackground": true,
            "ticks": "",
            "zerolinecolor": "white"
           }
          },
          "shapedefaults": {
           "line": {
            "color": "#2a3f5f"
           }
          },
          "ternary": {
           "aaxis": {
            "gridcolor": "white",
            "linecolor": "white",
            "ticks": ""
           },
           "baxis": {
            "gridcolor": "white",
            "linecolor": "white",
            "ticks": ""
           },
           "bgcolor": "#E5ECF6",
           "caxis": {
            "gridcolor": "white",
            "linecolor": "white",
            "ticks": ""
           }
          },
          "title": {
           "x": 0.05
          },
          "xaxis": {
           "automargin": true,
           "gridcolor": "white",
           "linecolor": "white",
           "ticks": "",
           "title": {
            "standoff": 15
           },
           "zerolinecolor": "white",
           "zerolinewidth": 2
          },
          "yaxis": {
           "automargin": true,
           "gridcolor": "white",
           "linecolor": "white",
           "ticks": "",
           "title": {
            "standoff": 15
           },
           "zerolinecolor": "white",
           "zerolinewidth": 2
          }
         }
        },
        "xaxis": {
         "anchor": "y",
         "domain": [
          0,
          1
         ],
         "title": {
          "text": "number_of_drugs"
         }
        },
        "xaxis2": {
         "anchor": "y2",
         "domain": [
          0,
          1
         ],
         "matches": "x",
         "showgrid": true,
         "showticklabels": false
        },
        "yaxis": {
         "anchor": "x",
         "domain": [
          0,
          0.7326
         ],
         "title": {
          "text": "count"
         }
        },
        "yaxis2": {
         "anchor": "x2",
         "domain": [
          0.7426,
          1
         ],
         "matches": "y2",
         "showgrid": false,
         "showline": false,
         "showticklabels": false,
         "ticks": ""
        }
       }
      }
     },
     "metadata": {},
     "output_type": "display_data"
    }
   ],
   "source": [
    "# Make figure\n",
    "fig = px.histogram(monte_carlo_df, x='number_of_drugs', color='sample_source', marginal='box')\n",
    "fig.show()"
   ]
  },
  {
   "cell_type": "code",
   "execution_count": 31,
   "metadata": {},
   "outputs": [
    {
     "data": {
      "application/vnd.plotly.v1+json": {
       "config": {
        "plotlyServerURL": "https://plot.ly"
       },
       "data": [
        {
         "alignmentgroup": "True",
         "bingroup": "x",
         "hovertemplate": "sample_source=renalDiseases<br>number_of_drugs=%{x}<br>count=%{y}<extra></extra>",
         "legendgroup": "renalDiseases",
         "marker": {
          "color": "#636efa",
          "pattern": {
           "shape": ""
          }
         },
         "name": "renalDiseases",
         "offsetgroup": "renalDiseases",
         "orientation": "v",
         "showlegend": true,
         "type": "histogram",
         "x": [
          2210
         ],
         "xaxis": "x",
         "yaxis": "y"
        },
        {
         "alignmentgroup": "True",
         "hovertemplate": "sample_source=renalDiseases<br>number_of_drugs=%{x}<extra></extra>",
         "legendgroup": "renalDiseases",
         "marker": {
          "color": "#636efa"
         },
         "name": "renalDiseases",
         "notched": true,
         "offsetgroup": "renalDiseases",
         "showlegend": false,
         "type": "box",
         "x": [
          2210
         ],
         "xaxis": "x2",
         "yaxis": "y2"
        },
        {
         "alignmentgroup": "True",
         "bingroup": "x",
         "hovertemplate": "sample_source=random_sample<br>number_of_drugs=%{x}<br>count=%{y}<extra></extra>",
         "legendgroup": "random_sample",
         "marker": {
          "color": "#EF553B",
          "pattern": {
           "shape": ""
          }
         },
         "name": "random_sample",
         "offsetgroup": "random_sample",
         "orientation": "v",
         "showlegend": true,
         "type": "histogram",
         "x": [
          742,
          902,
          666,
          1588,
          548,
          1543,
          893,
          943,
          898,
          726,
          693,
          876,
          744,
          575,
          718,
          727,
          1139,
          1006,
          286,
          1726,
          590,
          1543,
          1093,
          910,
          730,
          756,
          534,
          743,
          985,
          524,
          881,
          1174,
          572,
          696,
          877,
          591,
          747,
          639,
          922,
          782,
          732,
          364,
          842,
          751,
          529,
          523,
          757,
          431,
          526,
          1139,
          661,
          1358,
          1015,
          793,
          575,
          1353,
          624,
          640,
          1507,
          520,
          894,
          856,
          1963,
          1310,
          745,
          670,
          1737,
          714,
          660,
          971,
          399,
          501,
          718,
          1593,
          236,
          1322,
          361,
          1050,
          1001,
          1071,
          534,
          820,
          1178,
          1417,
          1005,
          655,
          1385,
          696,
          816,
          759,
          1276,
          1581,
          916,
          505,
          828,
          1296,
          953,
          745,
          684,
          480,
          481,
          839,
          1520,
          595,
          831,
          1094,
          395,
          1125,
          714,
          738,
          593,
          857,
          1576,
          598,
          456,
          643,
          833,
          293,
          1576,
          519,
          1076,
          982,
          894,
          846,
          1199,
          1134,
          1150,
          600,
          651,
          291,
          520,
          624,
          501,
          1875,
          621,
          812,
          990,
          1004,
          566,
          562,
          569,
          763,
          886,
          774,
          535,
          862,
          817,
          1038,
          835,
          1061,
          474,
          567,
          1026,
          572,
          461,
          808,
          782,
          1055,
          948,
          589,
          1026,
          720,
          556,
          546,
          1217,
          759,
          681,
          991,
          1020,
          1145,
          510,
          1062,
          407,
          937,
          661,
          955,
          1242,
          791,
          1016,
          505,
          653,
          619,
          777,
          1581,
          676,
          1248,
          996,
          612,
          1587,
          1404,
          568,
          626,
          1041,
          1129,
          317,
          725,
          668,
          1474,
          559,
          683,
          959,
          505,
          1110,
          1061,
          709,
          550,
          676,
          756,
          1769,
          495,
          602,
          512,
          810,
          1858,
          1089,
          1672,
          718,
          680,
          500,
          566,
          727,
          732,
          499,
          535,
          557,
          1427,
          505,
          842,
          746,
          851,
          704,
          894,
          593,
          1432,
          1133,
          303,
          1083,
          884,
          691,
          684,
          1838,
          685,
          200,
          1105,
          749,
          1054,
          862,
          382,
          1290,
          1099,
          775,
          938,
          388,
          1039,
          939,
          934,
          1545,
          1023,
          902,
          615,
          781,
          1640,
          788,
          1077,
          840,
          355,
          1499,
          1209,
          1254,
          1019,
          608,
          690,
          850,
          1979,
          1099,
          665,
          524,
          880,
          1042,
          563,
          624,
          748,
          440,
          703,
          1020,
          606,
          607,
          926,
          1210,
          1367,
          2257,
          1308,
          586,
          781,
          749,
          935,
          689,
          718,
          1709,
          306,
          1379,
          783,
          663,
          2283,
          558,
          440,
          1386,
          716,
          1769,
          833,
          1268,
          1103,
          1660,
          395,
          1721,
          446,
          951,
          941,
          425,
          752,
          1037,
          920,
          2058,
          916,
          638,
          726,
          522,
          746,
          886,
          971,
          834,
          595,
          1905,
          941,
          1559,
          348,
          421,
          1233,
          293,
          652,
          1020,
          986,
          652,
          618,
          612,
          1058,
          1666,
          423,
          466,
          1931,
          379,
          597,
          592,
          1101,
          1081,
          679,
          761,
          677,
          804,
          594,
          1056,
          419,
          1909,
          777,
          2677,
          531,
          577,
          1181,
          1019,
          545,
          905,
          1775,
          1113,
          864,
          603,
          446,
          774,
          1266,
          877,
          609,
          1665,
          514,
          722,
          787,
          498,
          955,
          1032,
          607,
          959,
          493,
          1276,
          1639,
          424,
          1688,
          681,
          863,
          636,
          1470,
          1628,
          835,
          777,
          1064,
          1627,
          816,
          910,
          1121,
          504,
          600,
          463,
          950,
          1662,
          1228,
          579,
          2001,
          762,
          876,
          895,
          1268,
          1404,
          2108,
          478,
          1278,
          755,
          466,
          599,
          623,
          923,
          1623,
          410,
          1511,
          661,
          491,
          565,
          1605,
          613,
          621,
          975,
          1089,
          672,
          614,
          941,
          1157,
          1484,
          485,
          830,
          945,
          490,
          595,
          460,
          807,
          1014,
          1214,
          685,
          582,
          963,
          851,
          635,
          1032,
          712,
          567,
          541,
          1318,
          1018,
          425,
          878,
          801,
          1241,
          593,
          850,
          853,
          575,
          773,
          1330,
          563,
          1169,
          571,
          989,
          541,
          691,
          767,
          564,
          630,
          1335,
          801,
          1057,
          542,
          1590,
          825,
          977,
          676,
          1104,
          660,
          613,
          915,
          468,
          767,
          1642,
          587,
          1022
         ],
         "xaxis": "x",
         "yaxis": "y"
        },
        {
         "alignmentgroup": "True",
         "hovertemplate": "sample_source=random_sample<br>number_of_drugs=%{x}<extra></extra>",
         "legendgroup": "random_sample",
         "marker": {
          "color": "#EF553B"
         },
         "name": "random_sample",
         "notched": true,
         "offsetgroup": "random_sample",
         "showlegend": false,
         "type": "box",
         "x": [
          742,
          902,
          666,
          1588,
          548,
          1543,
          893,
          943,
          898,
          726,
          693,
          876,
          744,
          575,
          718,
          727,
          1139,
          1006,
          286,
          1726,
          590,
          1543,
          1093,
          910,
          730,
          756,
          534,
          743,
          985,
          524,
          881,
          1174,
          572,
          696,
          877,
          591,
          747,
          639,
          922,
          782,
          732,
          364,
          842,
          751,
          529,
          523,
          757,
          431,
          526,
          1139,
          661,
          1358,
          1015,
          793,
          575,
          1353,
          624,
          640,
          1507,
          520,
          894,
          856,
          1963,
          1310,
          745,
          670,
          1737,
          714,
          660,
          971,
          399,
          501,
          718,
          1593,
          236,
          1322,
          361,
          1050,
          1001,
          1071,
          534,
          820,
          1178,
          1417,
          1005,
          655,
          1385,
          696,
          816,
          759,
          1276,
          1581,
          916,
          505,
          828,
          1296,
          953,
          745,
          684,
          480,
          481,
          839,
          1520,
          595,
          831,
          1094,
          395,
          1125,
          714,
          738,
          593,
          857,
          1576,
          598,
          456,
          643,
          833,
          293,
          1576,
          519,
          1076,
          982,
          894,
          846,
          1199,
          1134,
          1150,
          600,
          651,
          291,
          520,
          624,
          501,
          1875,
          621,
          812,
          990,
          1004,
          566,
          562,
          569,
          763,
          886,
          774,
          535,
          862,
          817,
          1038,
          835,
          1061,
          474,
          567,
          1026,
          572,
          461,
          808,
          782,
          1055,
          948,
          589,
          1026,
          720,
          556,
          546,
          1217,
          759,
          681,
          991,
          1020,
          1145,
          510,
          1062,
          407,
          937,
          661,
          955,
          1242,
          791,
          1016,
          505,
          653,
          619,
          777,
          1581,
          676,
          1248,
          996,
          612,
          1587,
          1404,
          568,
          626,
          1041,
          1129,
          317,
          725,
          668,
          1474,
          559,
          683,
          959,
          505,
          1110,
          1061,
          709,
          550,
          676,
          756,
          1769,
          495,
          602,
          512,
          810,
          1858,
          1089,
          1672,
          718,
          680,
          500,
          566,
          727,
          732,
          499,
          535,
          557,
          1427,
          505,
          842,
          746,
          851,
          704,
          894,
          593,
          1432,
          1133,
          303,
          1083,
          884,
          691,
          684,
          1838,
          685,
          200,
          1105,
          749,
          1054,
          862,
          382,
          1290,
          1099,
          775,
          938,
          388,
          1039,
          939,
          934,
          1545,
          1023,
          902,
          615,
          781,
          1640,
          788,
          1077,
          840,
          355,
          1499,
          1209,
          1254,
          1019,
          608,
          690,
          850,
          1979,
          1099,
          665,
          524,
          880,
          1042,
          563,
          624,
          748,
          440,
          703,
          1020,
          606,
          607,
          926,
          1210,
          1367,
          2257,
          1308,
          586,
          781,
          749,
          935,
          689,
          718,
          1709,
          306,
          1379,
          783,
          663,
          2283,
          558,
          440,
          1386,
          716,
          1769,
          833,
          1268,
          1103,
          1660,
          395,
          1721,
          446,
          951,
          941,
          425,
          752,
          1037,
          920,
          2058,
          916,
          638,
          726,
          522,
          746,
          886,
          971,
          834,
          595,
          1905,
          941,
          1559,
          348,
          421,
          1233,
          293,
          652,
          1020,
          986,
          652,
          618,
          612,
          1058,
          1666,
          423,
          466,
          1931,
          379,
          597,
          592,
          1101,
          1081,
          679,
          761,
          677,
          804,
          594,
          1056,
          419,
          1909,
          777,
          2677,
          531,
          577,
          1181,
          1019,
          545,
          905,
          1775,
          1113,
          864,
          603,
          446,
          774,
          1266,
          877,
          609,
          1665,
          514,
          722,
          787,
          498,
          955,
          1032,
          607,
          959,
          493,
          1276,
          1639,
          424,
          1688,
          681,
          863,
          636,
          1470,
          1628,
          835,
          777,
          1064,
          1627,
          816,
          910,
          1121,
          504,
          600,
          463,
          950,
          1662,
          1228,
          579,
          2001,
          762,
          876,
          895,
          1268,
          1404,
          2108,
          478,
          1278,
          755,
          466,
          599,
          623,
          923,
          1623,
          410,
          1511,
          661,
          491,
          565,
          1605,
          613,
          621,
          975,
          1089,
          672,
          614,
          941,
          1157,
          1484,
          485,
          830,
          945,
          490,
          595,
          460,
          807,
          1014,
          1214,
          685,
          582,
          963,
          851,
          635,
          1032,
          712,
          567,
          541,
          1318,
          1018,
          425,
          878,
          801,
          1241,
          593,
          850,
          853,
          575,
          773,
          1330,
          563,
          1169,
          571,
          989,
          541,
          691,
          767,
          564,
          630,
          1335,
          801,
          1057,
          542,
          1590,
          825,
          977,
          676,
          1104,
          660,
          613,
          915,
          468,
          767,
          1642,
          587,
          1022
         ],
         "xaxis": "x2",
         "yaxis": "y2"
        }
       ],
       "layout": {
        "barmode": "relative",
        "legend": {
         "title": {
          "text": "sample_source"
         },
         "tracegroupgap": 0
        },
        "margin": {
         "t": 60
        },
        "template": {
         "data": {
          "bar": [
           {
            "error_x": {
             "color": "#2a3f5f"
            },
            "error_y": {
             "color": "#2a3f5f"
            },
            "marker": {
             "line": {
              "color": "#E5ECF6",
              "width": 0.5
             },
             "pattern": {
              "fillmode": "overlay",
              "size": 10,
              "solidity": 0.2
             }
            },
            "type": "bar"
           }
          ],
          "barpolar": [
           {
            "marker": {
             "line": {
              "color": "#E5ECF6",
              "width": 0.5
             },
             "pattern": {
              "fillmode": "overlay",
              "size": 10,
              "solidity": 0.2
             }
            },
            "type": "barpolar"
           }
          ],
          "carpet": [
           {
            "aaxis": {
             "endlinecolor": "#2a3f5f",
             "gridcolor": "white",
             "linecolor": "white",
             "minorgridcolor": "white",
             "startlinecolor": "#2a3f5f"
            },
            "baxis": {
             "endlinecolor": "#2a3f5f",
             "gridcolor": "white",
             "linecolor": "white",
             "minorgridcolor": "white",
             "startlinecolor": "#2a3f5f"
            },
            "type": "carpet"
           }
          ],
          "choropleth": [
           {
            "colorbar": {
             "outlinewidth": 0,
             "ticks": ""
            },
            "type": "choropleth"
           }
          ],
          "contour": [
           {
            "colorbar": {
             "outlinewidth": 0,
             "ticks": ""
            },
            "colorscale": [
             [
              0,
              "#0d0887"
             ],
             [
              0.1111111111111111,
              "#46039f"
             ],
             [
              0.2222222222222222,
              "#7201a8"
             ],
             [
              0.3333333333333333,
              "#9c179e"
             ],
             [
              0.4444444444444444,
              "#bd3786"
             ],
             [
              0.5555555555555556,
              "#d8576b"
             ],
             [
              0.6666666666666666,
              "#ed7953"
             ],
             [
              0.7777777777777778,
              "#fb9f3a"
             ],
             [
              0.8888888888888888,
              "#fdca26"
             ],
             [
              1,
              "#f0f921"
             ]
            ],
            "type": "contour"
           }
          ],
          "contourcarpet": [
           {
            "colorbar": {
             "outlinewidth": 0,
             "ticks": ""
            },
            "type": "contourcarpet"
           }
          ],
          "heatmap": [
           {
            "colorbar": {
             "outlinewidth": 0,
             "ticks": ""
            },
            "colorscale": [
             [
              0,
              "#0d0887"
             ],
             [
              0.1111111111111111,
              "#46039f"
             ],
             [
              0.2222222222222222,
              "#7201a8"
             ],
             [
              0.3333333333333333,
              "#9c179e"
             ],
             [
              0.4444444444444444,
              "#bd3786"
             ],
             [
              0.5555555555555556,
              "#d8576b"
             ],
             [
              0.6666666666666666,
              "#ed7953"
             ],
             [
              0.7777777777777778,
              "#fb9f3a"
             ],
             [
              0.8888888888888888,
              "#fdca26"
             ],
             [
              1,
              "#f0f921"
             ]
            ],
            "type": "heatmap"
           }
          ],
          "heatmapgl": [
           {
            "colorbar": {
             "outlinewidth": 0,
             "ticks": ""
            },
            "colorscale": [
             [
              0,
              "#0d0887"
             ],
             [
              0.1111111111111111,
              "#46039f"
             ],
             [
              0.2222222222222222,
              "#7201a8"
             ],
             [
              0.3333333333333333,
              "#9c179e"
             ],
             [
              0.4444444444444444,
              "#bd3786"
             ],
             [
              0.5555555555555556,
              "#d8576b"
             ],
             [
              0.6666666666666666,
              "#ed7953"
             ],
             [
              0.7777777777777778,
              "#fb9f3a"
             ],
             [
              0.8888888888888888,
              "#fdca26"
             ],
             [
              1,
              "#f0f921"
             ]
            ],
            "type": "heatmapgl"
           }
          ],
          "histogram": [
           {
            "marker": {
             "pattern": {
              "fillmode": "overlay",
              "size": 10,
              "solidity": 0.2
             }
            },
            "type": "histogram"
           }
          ],
          "histogram2d": [
           {
            "colorbar": {
             "outlinewidth": 0,
             "ticks": ""
            },
            "colorscale": [
             [
              0,
              "#0d0887"
             ],
             [
              0.1111111111111111,
              "#46039f"
             ],
             [
              0.2222222222222222,
              "#7201a8"
             ],
             [
              0.3333333333333333,
              "#9c179e"
             ],
             [
              0.4444444444444444,
              "#bd3786"
             ],
             [
              0.5555555555555556,
              "#d8576b"
             ],
             [
              0.6666666666666666,
              "#ed7953"
             ],
             [
              0.7777777777777778,
              "#fb9f3a"
             ],
             [
              0.8888888888888888,
              "#fdca26"
             ],
             [
              1,
              "#f0f921"
             ]
            ],
            "type": "histogram2d"
           }
          ],
          "histogram2dcontour": [
           {
            "colorbar": {
             "outlinewidth": 0,
             "ticks": ""
            },
            "colorscale": [
             [
              0,
              "#0d0887"
             ],
             [
              0.1111111111111111,
              "#46039f"
             ],
             [
              0.2222222222222222,
              "#7201a8"
             ],
             [
              0.3333333333333333,
              "#9c179e"
             ],
             [
              0.4444444444444444,
              "#bd3786"
             ],
             [
              0.5555555555555556,
              "#d8576b"
             ],
             [
              0.6666666666666666,
              "#ed7953"
             ],
             [
              0.7777777777777778,
              "#fb9f3a"
             ],
             [
              0.8888888888888888,
              "#fdca26"
             ],
             [
              1,
              "#f0f921"
             ]
            ],
            "type": "histogram2dcontour"
           }
          ],
          "mesh3d": [
           {
            "colorbar": {
             "outlinewidth": 0,
             "ticks": ""
            },
            "type": "mesh3d"
           }
          ],
          "parcoords": [
           {
            "line": {
             "colorbar": {
              "outlinewidth": 0,
              "ticks": ""
             }
            },
            "type": "parcoords"
           }
          ],
          "pie": [
           {
            "automargin": true,
            "type": "pie"
           }
          ],
          "scatter": [
           {
            "marker": {
             "colorbar": {
              "outlinewidth": 0,
              "ticks": ""
             }
            },
            "type": "scatter"
           }
          ],
          "scatter3d": [
           {
            "line": {
             "colorbar": {
              "outlinewidth": 0,
              "ticks": ""
             }
            },
            "marker": {
             "colorbar": {
              "outlinewidth": 0,
              "ticks": ""
             }
            },
            "type": "scatter3d"
           }
          ],
          "scattercarpet": [
           {
            "marker": {
             "colorbar": {
              "outlinewidth": 0,
              "ticks": ""
             }
            },
            "type": "scattercarpet"
           }
          ],
          "scattergeo": [
           {
            "marker": {
             "colorbar": {
              "outlinewidth": 0,
              "ticks": ""
             }
            },
            "type": "scattergeo"
           }
          ],
          "scattergl": [
           {
            "marker": {
             "colorbar": {
              "outlinewidth": 0,
              "ticks": ""
             }
            },
            "type": "scattergl"
           }
          ],
          "scattermapbox": [
           {
            "marker": {
             "colorbar": {
              "outlinewidth": 0,
              "ticks": ""
             }
            },
            "type": "scattermapbox"
           }
          ],
          "scatterpolar": [
           {
            "marker": {
             "colorbar": {
              "outlinewidth": 0,
              "ticks": ""
             }
            },
            "type": "scatterpolar"
           }
          ],
          "scatterpolargl": [
           {
            "marker": {
             "colorbar": {
              "outlinewidth": 0,
              "ticks": ""
             }
            },
            "type": "scatterpolargl"
           }
          ],
          "scatterternary": [
           {
            "marker": {
             "colorbar": {
              "outlinewidth": 0,
              "ticks": ""
             }
            },
            "type": "scatterternary"
           }
          ],
          "surface": [
           {
            "colorbar": {
             "outlinewidth": 0,
             "ticks": ""
            },
            "colorscale": [
             [
              0,
              "#0d0887"
             ],
             [
              0.1111111111111111,
              "#46039f"
             ],
             [
              0.2222222222222222,
              "#7201a8"
             ],
             [
              0.3333333333333333,
              "#9c179e"
             ],
             [
              0.4444444444444444,
              "#bd3786"
             ],
             [
              0.5555555555555556,
              "#d8576b"
             ],
             [
              0.6666666666666666,
              "#ed7953"
             ],
             [
              0.7777777777777778,
              "#fb9f3a"
             ],
             [
              0.8888888888888888,
              "#fdca26"
             ],
             [
              1,
              "#f0f921"
             ]
            ],
            "type": "surface"
           }
          ],
          "table": [
           {
            "cells": {
             "fill": {
              "color": "#EBF0F8"
             },
             "line": {
              "color": "white"
             }
            },
            "header": {
             "fill": {
              "color": "#C8D4E3"
             },
             "line": {
              "color": "white"
             }
            },
            "type": "table"
           }
          ]
         },
         "layout": {
          "annotationdefaults": {
           "arrowcolor": "#2a3f5f",
           "arrowhead": 0,
           "arrowwidth": 1
          },
          "autotypenumbers": "strict",
          "coloraxis": {
           "colorbar": {
            "outlinewidth": 0,
            "ticks": ""
           }
          },
          "colorscale": {
           "diverging": [
            [
             0,
             "#8e0152"
            ],
            [
             0.1,
             "#c51b7d"
            ],
            [
             0.2,
             "#de77ae"
            ],
            [
             0.3,
             "#f1b6da"
            ],
            [
             0.4,
             "#fde0ef"
            ],
            [
             0.5,
             "#f7f7f7"
            ],
            [
             0.6,
             "#e6f5d0"
            ],
            [
             0.7,
             "#b8e186"
            ],
            [
             0.8,
             "#7fbc41"
            ],
            [
             0.9,
             "#4d9221"
            ],
            [
             1,
             "#276419"
            ]
           ],
           "sequential": [
            [
             0,
             "#0d0887"
            ],
            [
             0.1111111111111111,
             "#46039f"
            ],
            [
             0.2222222222222222,
             "#7201a8"
            ],
            [
             0.3333333333333333,
             "#9c179e"
            ],
            [
             0.4444444444444444,
             "#bd3786"
            ],
            [
             0.5555555555555556,
             "#d8576b"
            ],
            [
             0.6666666666666666,
             "#ed7953"
            ],
            [
             0.7777777777777778,
             "#fb9f3a"
            ],
            [
             0.8888888888888888,
             "#fdca26"
            ],
            [
             1,
             "#f0f921"
            ]
           ],
           "sequentialminus": [
            [
             0,
             "#0d0887"
            ],
            [
             0.1111111111111111,
             "#46039f"
            ],
            [
             0.2222222222222222,
             "#7201a8"
            ],
            [
             0.3333333333333333,
             "#9c179e"
            ],
            [
             0.4444444444444444,
             "#bd3786"
            ],
            [
             0.5555555555555556,
             "#d8576b"
            ],
            [
             0.6666666666666666,
             "#ed7953"
            ],
            [
             0.7777777777777778,
             "#fb9f3a"
            ],
            [
             0.8888888888888888,
             "#fdca26"
            ],
            [
             1,
             "#f0f921"
            ]
           ]
          },
          "colorway": [
           "#636efa",
           "#EF553B",
           "#00cc96",
           "#ab63fa",
           "#FFA15A",
           "#19d3f3",
           "#FF6692",
           "#B6E880",
           "#FF97FF",
           "#FECB52"
          ],
          "font": {
           "color": "#2a3f5f"
          },
          "geo": {
           "bgcolor": "white",
           "lakecolor": "white",
           "landcolor": "#E5ECF6",
           "showlakes": true,
           "showland": true,
           "subunitcolor": "white"
          },
          "hoverlabel": {
           "align": "left"
          },
          "hovermode": "closest",
          "mapbox": {
           "style": "light"
          },
          "paper_bgcolor": "white",
          "plot_bgcolor": "#E5ECF6",
          "polar": {
           "angularaxis": {
            "gridcolor": "white",
            "linecolor": "white",
            "ticks": ""
           },
           "bgcolor": "#E5ECF6",
           "radialaxis": {
            "gridcolor": "white",
            "linecolor": "white",
            "ticks": ""
           }
          },
          "scene": {
           "xaxis": {
            "backgroundcolor": "#E5ECF6",
            "gridcolor": "white",
            "gridwidth": 2,
            "linecolor": "white",
            "showbackground": true,
            "ticks": "",
            "zerolinecolor": "white"
           },
           "yaxis": {
            "backgroundcolor": "#E5ECF6",
            "gridcolor": "white",
            "gridwidth": 2,
            "linecolor": "white",
            "showbackground": true,
            "ticks": "",
            "zerolinecolor": "white"
           },
           "zaxis": {
            "backgroundcolor": "#E5ECF6",
            "gridcolor": "white",
            "gridwidth": 2,
            "linecolor": "white",
            "showbackground": true,
            "ticks": "",
            "zerolinecolor": "white"
           }
          },
          "shapedefaults": {
           "line": {
            "color": "#2a3f5f"
           }
          },
          "ternary": {
           "aaxis": {
            "gridcolor": "white",
            "linecolor": "white",
            "ticks": ""
           },
           "baxis": {
            "gridcolor": "white",
            "linecolor": "white",
            "ticks": ""
           },
           "bgcolor": "#E5ECF6",
           "caxis": {
            "gridcolor": "white",
            "linecolor": "white",
            "ticks": ""
           }
          },
          "title": {
           "x": 0.05
          },
          "xaxis": {
           "automargin": true,
           "gridcolor": "white",
           "linecolor": "white",
           "ticks": "",
           "title": {
            "standoff": 15
           },
           "zerolinecolor": "white",
           "zerolinewidth": 2
          },
          "yaxis": {
           "automargin": true,
           "gridcolor": "white",
           "linecolor": "white",
           "ticks": "",
           "title": {
            "standoff": 15
           },
           "zerolinecolor": "white",
           "zerolinewidth": 2
          }
         }
        },
        "xaxis": {
         "anchor": "y",
         "domain": [
          0,
          1
         ],
         "title": {
          "text": "number_of_drugs"
         }
        },
        "xaxis2": {
         "anchor": "y2",
         "domain": [
          0,
          1
         ],
         "matches": "x",
         "showgrid": true,
         "showticklabels": false
        },
        "yaxis": {
         "anchor": "x",
         "domain": [
          0,
          0.7326
         ],
         "title": {
          "text": "count"
         }
        },
        "yaxis2": {
         "anchor": "x2",
         "domain": [
          0.7426,
          1
         ],
         "matches": "y2",
         "showgrid": false,
         "showline": false,
         "showticklabels": false,
         "ticks": ""
        }
       }
      }
     },
     "metadata": {},
     "output_type": "display_data"
    }
   ],
   "source": [
    "# Make figure\n",
    "fig = px.histogram(monte_carlo_df, x='number_of_drugs', color='sample_source', marginal='box')\n",
    "fig.show()"
   ]
  }
 ],
 "metadata": {
  "interpreter": {
   "hash": "aee8b7b246df8f9039afb4144a1f6fd8d2ca17a180786b69acc140d282b71a49"
  },
  "kernelspec": {
   "display_name": "Python 3.9.9 64-bit",
   "language": "python",
   "name": "python3"
  },
  "language_info": {
   "codemirror_mode": {
    "name": "ipython",
    "version": 3
   },
   "file_extension": ".py",
   "mimetype": "text/x-python",
   "name": "python",
   "nbconvert_exporter": "python",
   "pygments_lexer": "ipython3",
   "version": "3.9.9"
  },
  "orig_nbformat": 4
 },
 "nbformat": 4,
 "nbformat_minor": 2
}
