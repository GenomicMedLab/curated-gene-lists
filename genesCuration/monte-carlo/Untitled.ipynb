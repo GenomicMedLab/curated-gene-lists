{
 "cells": [
  {
   "cell_type": "code",
   "execution_count": 2,
   "id": "476d9c8c",
   "metadata": {},
   "outputs": [],
   "source": [
    "import requests\n",
    "import csv\n"
   ]
  },
  {
   "cell_type": "code",
   "execution_count": null,
   "id": "94ff6e48",
   "metadata": {},
   "outputs": [],
   "source": [
    "# /Users/mjc014/Documents/repo/pythonLib/plotlyLib/dgidb-4-v-normalizer/fix/therapy-v0.3.0.xls\n",
    "# sheet_name = unmatched Chembls\n",
    "\n",
    "with open('/Users/mjc014/Documents/repo/pythonLib/plotlyLib/dgidb-4-v-normalizer/fix/therapy-v0.3.0.xls', 'r') as f:\n",
    "    f.readline()\n",
    "\n",
    "\n"
   ]
  }
 ],
 "metadata": {
  "kernelspec": {
   "display_name": "Python 3 (ipykernel)",
   "language": "python",
   "name": "python3"
  },
  "language_info": {
   "codemirror_mode": {
    "name": "ipython",
    "version": 3
   },
   "file_extension": ".py",
   "mimetype": "text/x-python",
   "name": "python",
   "nbconvert_exporter": "python",
   "pygments_lexer": "ipython3",
   "version": "3.9.9"
  }
 },
 "nbformat": 4,
 "nbformat_minor": 5
}
