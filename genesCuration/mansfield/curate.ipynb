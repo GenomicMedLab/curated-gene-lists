{
 "cells": [
  {
   "cell_type": "code",
   "execution_count": 2,
   "metadata": {},
   "outputs": [],
   "source": [
    "import pandas as pd"
   ]
  },
  {
   "cell_type": "markdown",
   "metadata": {},
   "source": [
    "# Cardiovascular Gene Sets\n",
    "Analysis and exploration of what is available in cardiovascular gene set. Gene set was obtained with permission from collaborator Corrin Mansfield of the Basu Lab."
   ]
  },
  {
   "cell_type": "code",
   "execution_count": 5,
   "metadata": {},
   "outputs": [
    {
     "name": "stdout",
     "output_type": "stream",
     "text": [
      "34321\n",
      "34321\n"
     ]
    },
    {
     "data": {
      "text/html": [
       "<div>\n",
       "<style scoped>\n",
       "    .dataframe tbody tr th:only-of-type {\n",
       "        vertical-align: middle;\n",
       "    }\n",
       "\n",
       "    .dataframe tbody tr th {\n",
       "        vertical-align: top;\n",
       "    }\n",
       "\n",
       "    .dataframe thead th {\n",
       "        text-align: right;\n",
       "    }\n",
       "</style>\n",
       "<table border=\"1\" class=\"dataframe\">\n",
       "  <thead>\n",
       "    <tr style=\"text-align: right;\">\n",
       "      <th></th>\n",
       "      <th>cardiovascular</th>\n",
       "    </tr>\n",
       "  </thead>\n",
       "  <tbody>\n",
       "    <tr>\n",
       "      <th>0</th>\n",
       "      <td>Lrp1</td>\n",
       "    </tr>\n",
       "    <tr>\n",
       "      <th>1</th>\n",
       "      <td>Hectd1</td>\n",
       "    </tr>\n",
       "    <tr>\n",
       "      <th>2</th>\n",
       "      <td>Lox</td>\n",
       "    </tr>\n",
       "    <tr>\n",
       "      <th>3</th>\n",
       "      <td>Ndst1</td>\n",
       "    </tr>\n",
       "    <tr>\n",
       "      <th>4</th>\n",
       "      <td>Anks6</td>\n",
       "    </tr>\n",
       "    <tr>\n",
       "      <th>...</th>\n",
       "      <td>...</td>\n",
       "    </tr>\n",
       "    <tr>\n",
       "      <th>34316</th>\n",
       "      <td>Xirp2</td>\n",
       "    </tr>\n",
       "    <tr>\n",
       "      <th>34317</th>\n",
       "      <td>Zcchc12</td>\n",
       "    </tr>\n",
       "    <tr>\n",
       "      <th>34318</th>\n",
       "      <td>Zfp167</td>\n",
       "    </tr>\n",
       "    <tr>\n",
       "      <th>34319</th>\n",
       "      <td>Zfp259</td>\n",
       "    </tr>\n",
       "    <tr>\n",
       "      <th>34320</th>\n",
       "      <td>Zmynd15</td>\n",
       "    </tr>\n",
       "  </tbody>\n",
       "</table>\n",
       "<p>34321 rows × 1 columns</p>\n",
       "</div>"
      ],
      "text/plain": [
       "      cardiovascular\n",
       "0               Lrp1\n",
       "1             Hectd1\n",
       "2                Lox\n",
       "3              Ndst1\n",
       "4              Anks6\n",
       "...              ...\n",
       "34316          Xirp2\n",
       "34317        Zcchc12\n",
       "34318         Zfp167\n",
       "34319         Zfp259\n",
       "34320        Zmynd15\n",
       "\n",
       "[34321 rows x 1 columns]"
      ]
     },
     "execution_count": 5,
     "metadata": {},
     "output_type": "execute_result"
    }
   ],
   "source": [
    "genes = pd.read_excel('../../data/mansfield/Cardiovascular_Genes.xlsx',sheet_name='Sheet1')\n",
    "\n",
    "print(len(genes['cardiovascular']))\n",
    "print(len(set(genes['cardiovascular'])))\n",
    "genes"
   ]
  },
  {
   "cell_type": "code",
   "execution_count": 20,
   "metadata": {},
   "outputs": [
    {
     "data": {
      "text/plain": [
       "2871"
      ]
     },
     "execution_count": 20,
     "metadata": {},
     "output_type": "execute_result"
    }
   ],
   "source": [
    "data = pd.read_excel('../../data/mansfield/Copy of Phenotypic analysis on 6 19 2018-rw.xlsx',sheet_name='case denov|inherited-Gene names')\n",
    "\n",
    "len(data)"
   ]
  },
  {
   "cell_type": "code",
   "execution_count": 11,
   "metadata": {},
   "outputs": [
    {
     "data": {
      "text/plain": [
       "CTD            869\n",
       "LVO            797\n",
       "other          530\n",
       "HTX            272\n",
       "CTD (TGA)      250\n",
       "other (AVC)    103\n",
       "OTHER           32\n",
       "Other           10\n",
       "Other (AVC)      4\n",
       "CTD              3\n",
       " CTD (TGA)       1\n",
       "Name: Cardiac Category, dtype: int64"
      ]
     },
     "execution_count": 11,
     "metadata": {},
     "output_type": "execute_result"
    }
   ],
   "source": [
    "data['Cardiac Category'].value_counts()"
   ]
  },
  {
   "cell_type": "code",
   "execution_count": 19,
   "metadata": {},
   "outputs": [
    {
     "data": {
      "text/plain": [
       "'DOUBLE OUTLET LEFT VENTRICLE | L-LOOP TRANSPOSITION OF THE GREAT VESSELS | NON-CARDIAC ABNORMALITY | PATENT FORAMEN OVALE | PULMONARY STENOSIS | PULMONARY STENOSIS, BILATERAL BRANCH PULMONARY ARTERY | SINGLE VENTRICLE COMPRISED OF MOSTLY LEFT VENTRICLE | SUBAORTIC CONUS | TRICUSPID ATRESIA '"
      ]
     },
     "execution_count": 19,
     "metadata": {},
     "output_type": "execute_result"
    }
   ],
   "source": [
    "f = data[data['Cardiac Diagnoses'].str.contains('L-LOOP')]\n",
    "f\n",
    "f['Cardiac Diagnoses'][25]"
   ]
  },
  {
   "cell_type": "markdown",
   "metadata": {},
   "source": [
    "### Separate diagnoses terms"
   ]
  },
  {
   "cell_type": "code",
   "execution_count": 30,
   "metadata": {},
   "outputs": [
    {
     "data": {
      "text/plain": [
       "ATRIAL SEPTAL DEFECT, SECUNDUM                                       585\n",
       "LEFT AORTIC ARCH WITH NORMAL BRANCHING PATTERN                       459\n",
       "TETRALOGY OF FALLOT                                                  299\n",
       "PULMONARY STENOSIS, VALVAR                                           289\n",
       "HYPOPLASTIC LEFT VENTRICLE (SUBNORMAL CAVITY VOLUME)                 234\n",
       "                                                                    ... \n",
       "ANEURYSM, LEFT VENTRICLE                                               1\n",
       "ANEURYSM OF MEMBRANOUS SEPTUM                                          1\n",
       "SXD                                                                    1\n",
       "AORTIC VALVE POSITION RELATIVE TO THE PULMONARY VALVE, POSTERIOR       1\n",
       "HETEROTAXY                                                             1\n",
       "Name: terms, Length: 582, dtype: int64"
      ]
     },
     "execution_count": 30,
     "metadata": {},
     "output_type": "execute_result"
    }
   ],
   "source": [
    "full_term_list = list()\n",
    "\n",
    "for i in data['Cardiac Diagnoses']:\n",
    "    term_lists = i.split('| ')\n",
    "    for j in term_lists:\n",
    "        full_term_list.append(j)\n",
    "\n",
    "# String standardization to cut out weird spacing errors\n",
    "\n",
    "\n",
    "len(full_term_list)\n",
    "    \n",
    "one_column_df = pd.DataFrame()\n",
    "one_column_df = one_column_df.assign(terms=full_term_list)    \n",
    "\n",
    "one_column_df['terms'].value_counts()"
   ]
  },
  {
   "cell_type": "code",
   "execution_count": 31,
   "metadata": {},
   "outputs": [
    {
     "data": {
      "text/html": [
       "<div>\n",
       "<style scoped>\n",
       "    .dataframe tbody tr th:only-of-type {\n",
       "        vertical-align: middle;\n",
       "    }\n",
       "\n",
       "    .dataframe tbody tr th {\n",
       "        vertical-align: top;\n",
       "    }\n",
       "\n",
       "    .dataframe thead th {\n",
       "        text-align: right;\n",
       "    }\n",
       "</style>\n",
       "<table border=\"1\" class=\"dataframe\">\n",
       "  <thead>\n",
       "    <tr style=\"text-align: right;\">\n",
       "      <th></th>\n",
       "      <th>terms</th>\n",
       "    </tr>\n",
       "  </thead>\n",
       "  <tbody>\n",
       "    <tr>\n",
       "      <th>91</th>\n",
       "      <td>HETEROTAXY</td>\n",
       "    </tr>\n",
       "    <tr>\n",
       "      <th>110</th>\n",
       "      <td>HETEROTAXY</td>\n",
       "    </tr>\n",
       "    <tr>\n",
       "      <th>136</th>\n",
       "      <td>ABDOMINAL HETEROTAXY (SITUS AMBIGUOUS)</td>\n",
       "    </tr>\n",
       "    <tr>\n",
       "      <th>139</th>\n",
       "      <td>HETEROTAXY</td>\n",
       "    </tr>\n",
       "    <tr>\n",
       "      <th>151</th>\n",
       "      <td>SINGLE VENTRICLE IN HETEROTAXY SYNDROME</td>\n",
       "    </tr>\n",
       "    <tr>\n",
       "      <th>...</th>\n",
       "      <td>...</td>\n",
       "    </tr>\n",
       "    <tr>\n",
       "      <th>11513</th>\n",
       "      <td>HETEROTAXY</td>\n",
       "    </tr>\n",
       "    <tr>\n",
       "      <th>11515</th>\n",
       "      <td>HETEROTAXY</td>\n",
       "    </tr>\n",
       "    <tr>\n",
       "      <th>11517</th>\n",
       "      <td>HETEROTAXY</td>\n",
       "    </tr>\n",
       "    <tr>\n",
       "      <th>11520</th>\n",
       "      <td>HETEROTAXY</td>\n",
       "    </tr>\n",
       "    <tr>\n",
       "      <th>11521</th>\n",
       "      <td>HETEROTAXY</td>\n",
       "    </tr>\n",
       "  </tbody>\n",
       "</table>\n",
       "<p>173 rows × 1 columns</p>\n",
       "</div>"
      ],
      "text/plain": [
       "                                          terms\n",
       "91                                  HETEROTAXY \n",
       "110                                 HETEROTAXY \n",
       "136     ABDOMINAL HETEROTAXY (SITUS AMBIGUOUS) \n",
       "139                                 HETEROTAXY \n",
       "151    SINGLE VENTRICLE IN HETEROTAXY SYNDROME \n",
       "...                                         ...\n",
       "11513                               HETEROTAXY \n",
       "11515                               HETEROTAXY \n",
       "11517                               HETEROTAXY \n",
       "11520                                HETEROTAXY\n",
       "11521                               HETEROTAXY \n",
       "\n",
       "[173 rows x 1 columns]"
      ]
     },
     "execution_count": 31,
     "metadata": {},
     "output_type": "execute_result"
    }
   ],
   "source": [
    "one_column_df[one_column_df['terms'].str.contains('HETEROTAXY')]"
   ]
  }
 ],
 "metadata": {
  "interpreter": {
   "hash": "aee8b7b246df8f9039afb4144a1f6fd8d2ca17a180786b69acc140d282b71a49"
  },
  "kernelspec": {
   "display_name": "Python 3.9.9 64-bit",
   "language": "python",
   "name": "python3"
  },
  "language_info": {
   "codemirror_mode": {
    "name": "ipython",
    "version": 3
   },
   "file_extension": ".py",
   "mimetype": "text/x-python",
   "name": "python",
   "nbconvert_exporter": "python",
   "pygments_lexer": "ipython3",
   "version": "3.9.9"
  },
  "orig_nbformat": 4
 },
 "nbformat": 4,
 "nbformat_minor": 2
}
